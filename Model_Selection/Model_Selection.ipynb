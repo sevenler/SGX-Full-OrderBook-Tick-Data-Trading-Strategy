{
 "cells": [
  {
   "cell_type": "markdown",
   "metadata": {},
   "source": [
    "### Modeling High-Frequency Limit Order Book Dynamics Using Machine Learning"
   ]
  },
  {
   "cell_type": "markdown",
   "source": [],
   "metadata": {
    "collapsed": false
   }
  },
  {
   "cell_type": "code",
   "execution_count": 38,
   "metadata": {
    "collapsed": false
   },
   "outputs": [],
   "source": [
    "%matplotlib inline\n",
    "import pandas as pd\n",
    "import numpy as np\n",
    "import time\n",
    "import statistics\n",
    "from sklearn.model_selection import GridSearchCV\n",
    "from sklearn.ensemble import (RandomForestClassifier, ExtraTreesClassifier, AdaBoostClassifier,\\\n",
    "                              GradientBoostingClassifier)\n",
    "from sklearn.tree import DecisionTreeClassifier\n",
    "from sklearn.svm import SVC\n",
    "from sklearn import metrics\n",
    "from sklearn.linear_model import LogisticRegression\n",
    "import seaborn as sns\n",
    "import matplotlib.pyplot as plt\n",
    "from matplotlib.pyplot import *"
   ]
  },
  {
   "cell_type": "code",
   "execution_count": 39,
   "metadata": {
    "collapsed": true
   },
   "outputs": [],
   "source": [
    "def read_csv(day_trade):\n",
    "    data_up = []\n",
    "    data_down = []\n",
    "    path = '/Users/daniel/Workspace/SGX-Full-OrderBook-Tick-Data-Trading-Strategy/Data_Transformation/Train_Test_Builder/order_book_3_2014'\n",
    "    for j,i in enumerate(day_trade):\n",
    "        for k in range(0,len(i),1):\n",
    "            path_up = path + '_' + str(j+1) + '_' + str(i[k]) + '_' + 'UP' + '.csv'\n",
    "            path_down = path + '_' + str(j+1) + '_' + str(i[k]) + '_' + 'DOWN' + '.csv'\n",
    "            data_up.append(pd.read_csv(path_up))\n",
    "            data_down.append(pd.read_csv(path_down))\n",
    "            #print path_down\n",
    "    return data_up,data_down"
   ]
  },
  {
   "cell_type": "code",
   "execution_count": 39,
   "outputs": [],
   "source": [],
   "metadata": {
    "collapsed": false
   }
  },
  {
   "cell_type": "markdown",
   "metadata": {},
   "source": [
    "### Example : 2014/1/2 "
   ]
  },
  {
   "cell_type": "code",
   "execution_count": 40,
   "metadata": {
    "collapsed": true
   },
   "outputs": [],
   "source": [
    "day_trade = [[2]]"
   ]
  },
  {
   "cell_type": "code",
   "execution_count": 41,
   "metadata": {
    "collapsed": false,
    "scrolled": true
   },
   "outputs": [],
   "source": [
    "data_2014_up, data_2014_down = read_csv(day_trade)"
   ]
  },
  {
   "cell_type": "markdown",
   "metadata": {},
   "source": [
    "### Column = 0 : label[0 : not traded,1 : traded] & Column = 1~ : Features values "
   ]
  },
  {
   "cell_type": "code",
   "execution_count": 42,
   "metadata": {
    "collapsed": false,
    "scrolled": true
   },
   "outputs": [
    {
     "data": {
      "text/plain": "     0        1        2        3        4        5        6        7  \\\n0  0.0  0.00000  0.00000  0.00000  0.00000  0.00000  0.00000  0.00000   \n1  0.0  0.00000  0.00000  0.00000  0.00000  0.00000  0.00000  0.00000   \n2  1.0  0.21097  0.21097  0.21097  0.21097  0.21097  0.21097  0.21097   \n3  1.0  0.21097  0.21097  0.21097  0.21097  0.21097  0.21097  0.21097   \n4  1.0  0.21097  0.21097  0.21097  0.21097  0.21097  0.21097  0.21097   \n5  1.0  0.21097  0.21097  0.21097  0.21097  0.21097  0.21097  0.21097   \n6  1.0  0.21097  0.21097  0.21097  0.21097  0.21097  0.21097  0.21097   \n7  1.0  0.21097  0.21097  0.21097  0.21097  0.21097  0.21097  0.21097   \n8  1.0  0.21097  0.21097  0.21097  0.21097  0.21097  0.21097  0.21097   \n9  1.0  0.21097  0.21097  0.21097  0.21097  0.21097  0.21097  0.21097   \n\n         8        9  ...        58        59        60        61        62  \\\n0  0.00000  0.00000  ...  0.553936  4.656716  0.646438  1.532051  0.210127   \n1  0.00000  0.00000  ...  0.553936  4.656716  0.646438  1.532051  0.210127   \n2  0.21097  0.21097  ... -0.497382  0.354839 -0.476190  2.396396  0.411141   \n3  0.21097  0.21097  ... -0.497382  0.354839 -0.476190  1.003774  0.001883   \n4  0.21097  0.21097  ... -0.926773  0.040590 -0.921986  0.406107 -0.422367   \n5  0.21097  0.21097  ... -0.926773  0.040590 -0.921986  0.416794 -0.411638   \n6  0.21097  0.21097  ... -0.926773  0.040590 -0.921986  0.737405 -0.151142   \n7  0.21097  0.21097  ... -0.922374  0.044280 -0.915194  0.738931 -0.150132   \n8  0.21097  0.21097  ... -0.922374  0.044280 -0.915194  0.738931 -0.150132   \n9  0.21097  0.21097  ... -0.912188  0.049815 -0.905097  0.741985 -0.148116   \n\n         63        64    65      66      67  \n0  2.462585  0.422397  10.0  7110.0  7100.0  \n1  2.462585  0.422397  10.0  7110.0  7100.0  \n2  1.803571  0.286624  10.0  7125.0  7115.0  \n3  0.909910 -0.047170  10.0  7125.0  7115.0  \n4  0.268617 -0.576520  10.0  7125.0  7115.0  \n5  0.275266 -0.568300  10.0  7125.0  7115.0  \n6  0.474734 -0.356177  10.0  7125.0  7115.0  \n7  0.477394 -0.353735  10.0  7125.0  7115.0  \n8  0.477394 -0.353735  10.0  7125.0  7115.0  \n9  0.481383 -0.350090  10.0  7125.0  7115.0  \n\n[10 rows x 68 columns]",
      "text/html": "<div>\n<style scoped>\n    .dataframe tbody tr th:only-of-type {\n        vertical-align: middle;\n    }\n\n    .dataframe tbody tr th {\n        vertical-align: top;\n    }\n\n    .dataframe thead th {\n        text-align: right;\n    }\n</style>\n<table border=\"1\" class=\"dataframe\">\n  <thead>\n    <tr style=\"text-align: right;\">\n      <th></th>\n      <th>0</th>\n      <th>1</th>\n      <th>2</th>\n      <th>3</th>\n      <th>4</th>\n      <th>5</th>\n      <th>6</th>\n      <th>7</th>\n      <th>8</th>\n      <th>9</th>\n      <th>...</th>\n      <th>58</th>\n      <th>59</th>\n      <th>60</th>\n      <th>61</th>\n      <th>62</th>\n      <th>63</th>\n      <th>64</th>\n      <th>65</th>\n      <th>66</th>\n      <th>67</th>\n    </tr>\n  </thead>\n  <tbody>\n    <tr>\n      <th>0</th>\n      <td>0.0</td>\n      <td>0.00000</td>\n      <td>0.00000</td>\n      <td>0.00000</td>\n      <td>0.00000</td>\n      <td>0.00000</td>\n      <td>0.00000</td>\n      <td>0.00000</td>\n      <td>0.00000</td>\n      <td>0.00000</td>\n      <td>...</td>\n      <td>0.553936</td>\n      <td>4.656716</td>\n      <td>0.646438</td>\n      <td>1.532051</td>\n      <td>0.210127</td>\n      <td>2.462585</td>\n      <td>0.422397</td>\n      <td>10.0</td>\n      <td>7110.0</td>\n      <td>7100.0</td>\n    </tr>\n    <tr>\n      <th>1</th>\n      <td>0.0</td>\n      <td>0.00000</td>\n      <td>0.00000</td>\n      <td>0.00000</td>\n      <td>0.00000</td>\n      <td>0.00000</td>\n      <td>0.00000</td>\n      <td>0.00000</td>\n      <td>0.00000</td>\n      <td>0.00000</td>\n      <td>...</td>\n      <td>0.553936</td>\n      <td>4.656716</td>\n      <td>0.646438</td>\n      <td>1.532051</td>\n      <td>0.210127</td>\n      <td>2.462585</td>\n      <td>0.422397</td>\n      <td>10.0</td>\n      <td>7110.0</td>\n      <td>7100.0</td>\n    </tr>\n    <tr>\n      <th>2</th>\n      <td>1.0</td>\n      <td>0.21097</td>\n      <td>0.21097</td>\n      <td>0.21097</td>\n      <td>0.21097</td>\n      <td>0.21097</td>\n      <td>0.21097</td>\n      <td>0.21097</td>\n      <td>0.21097</td>\n      <td>0.21097</td>\n      <td>...</td>\n      <td>-0.497382</td>\n      <td>0.354839</td>\n      <td>-0.476190</td>\n      <td>2.396396</td>\n      <td>0.411141</td>\n      <td>1.803571</td>\n      <td>0.286624</td>\n      <td>10.0</td>\n      <td>7125.0</td>\n      <td>7115.0</td>\n    </tr>\n    <tr>\n      <th>3</th>\n      <td>1.0</td>\n      <td>0.21097</td>\n      <td>0.21097</td>\n      <td>0.21097</td>\n      <td>0.21097</td>\n      <td>0.21097</td>\n      <td>0.21097</td>\n      <td>0.21097</td>\n      <td>0.21097</td>\n      <td>0.21097</td>\n      <td>...</td>\n      <td>-0.497382</td>\n      <td>0.354839</td>\n      <td>-0.476190</td>\n      <td>1.003774</td>\n      <td>0.001883</td>\n      <td>0.909910</td>\n      <td>-0.047170</td>\n      <td>10.0</td>\n      <td>7125.0</td>\n      <td>7115.0</td>\n    </tr>\n    <tr>\n      <th>4</th>\n      <td>1.0</td>\n      <td>0.21097</td>\n      <td>0.21097</td>\n      <td>0.21097</td>\n      <td>0.21097</td>\n      <td>0.21097</td>\n      <td>0.21097</td>\n      <td>0.21097</td>\n      <td>0.21097</td>\n      <td>0.21097</td>\n      <td>...</td>\n      <td>-0.926773</td>\n      <td>0.040590</td>\n      <td>-0.921986</td>\n      <td>0.406107</td>\n      <td>-0.422367</td>\n      <td>0.268617</td>\n      <td>-0.576520</td>\n      <td>10.0</td>\n      <td>7125.0</td>\n      <td>7115.0</td>\n    </tr>\n    <tr>\n      <th>5</th>\n      <td>1.0</td>\n      <td>0.21097</td>\n      <td>0.21097</td>\n      <td>0.21097</td>\n      <td>0.21097</td>\n      <td>0.21097</td>\n      <td>0.21097</td>\n      <td>0.21097</td>\n      <td>0.21097</td>\n      <td>0.21097</td>\n      <td>...</td>\n      <td>-0.926773</td>\n      <td>0.040590</td>\n      <td>-0.921986</td>\n      <td>0.416794</td>\n      <td>-0.411638</td>\n      <td>0.275266</td>\n      <td>-0.568300</td>\n      <td>10.0</td>\n      <td>7125.0</td>\n      <td>7115.0</td>\n    </tr>\n    <tr>\n      <th>6</th>\n      <td>1.0</td>\n      <td>0.21097</td>\n      <td>0.21097</td>\n      <td>0.21097</td>\n      <td>0.21097</td>\n      <td>0.21097</td>\n      <td>0.21097</td>\n      <td>0.21097</td>\n      <td>0.21097</td>\n      <td>0.21097</td>\n      <td>...</td>\n      <td>-0.926773</td>\n      <td>0.040590</td>\n      <td>-0.921986</td>\n      <td>0.737405</td>\n      <td>-0.151142</td>\n      <td>0.474734</td>\n      <td>-0.356177</td>\n      <td>10.0</td>\n      <td>7125.0</td>\n      <td>7115.0</td>\n    </tr>\n    <tr>\n      <th>7</th>\n      <td>1.0</td>\n      <td>0.21097</td>\n      <td>0.21097</td>\n      <td>0.21097</td>\n      <td>0.21097</td>\n      <td>0.21097</td>\n      <td>0.21097</td>\n      <td>0.21097</td>\n      <td>0.21097</td>\n      <td>0.21097</td>\n      <td>...</td>\n      <td>-0.922374</td>\n      <td>0.044280</td>\n      <td>-0.915194</td>\n      <td>0.738931</td>\n      <td>-0.150132</td>\n      <td>0.477394</td>\n      <td>-0.353735</td>\n      <td>10.0</td>\n      <td>7125.0</td>\n      <td>7115.0</td>\n    </tr>\n    <tr>\n      <th>8</th>\n      <td>1.0</td>\n      <td>0.21097</td>\n      <td>0.21097</td>\n      <td>0.21097</td>\n      <td>0.21097</td>\n      <td>0.21097</td>\n      <td>0.21097</td>\n      <td>0.21097</td>\n      <td>0.21097</td>\n      <td>0.21097</td>\n      <td>...</td>\n      <td>-0.922374</td>\n      <td>0.044280</td>\n      <td>-0.915194</td>\n      <td>0.738931</td>\n      <td>-0.150132</td>\n      <td>0.477394</td>\n      <td>-0.353735</td>\n      <td>10.0</td>\n      <td>7125.0</td>\n      <td>7115.0</td>\n    </tr>\n    <tr>\n      <th>9</th>\n      <td>1.0</td>\n      <td>0.21097</td>\n      <td>0.21097</td>\n      <td>0.21097</td>\n      <td>0.21097</td>\n      <td>0.21097</td>\n      <td>0.21097</td>\n      <td>0.21097</td>\n      <td>0.21097</td>\n      <td>0.21097</td>\n      <td>...</td>\n      <td>-0.912188</td>\n      <td>0.049815</td>\n      <td>-0.905097</td>\n      <td>0.741985</td>\n      <td>-0.148116</td>\n      <td>0.481383</td>\n      <td>-0.350090</td>\n      <td>10.0</td>\n      <td>7125.0</td>\n      <td>7115.0</td>\n    </tr>\n  </tbody>\n</table>\n<p>10 rows × 68 columns</p>\n</div>"
     },
     "execution_count": 42,
     "metadata": {},
     "output_type": "execute_result"
    }
   ],
   "source": [
    "data_2014_up[0].head(10)"
   ]
  },
  {
   "cell_type": "markdown",
   "metadata": {},
   "source": [
    "### Machine learning algorithms"
   ]
  },
  {
   "cell_type": "code",
   "execution_count": 43,
   "metadata": {
    "collapsed": false
   },
   "outputs": [],
   "source": [
    "models = {\n",
    "    'RandomForestClassifier': RandomForestClassifier(random_state = 0),\n",
    "    'ExtraTreesClassifier': ExtraTreesClassifier(random_state = 0),\n",
    "    'AdaBoostClassifier': AdaBoostClassifier(estimator = DecisionTreeClassifier(),\\\n",
    "                                             n_estimators = 10,random_state = 0),\n",
    "    'GradientBoostingClassifier': GradientBoostingClassifier(random_state = 0),\n",
    "    'SVC': SVC(probability=True,random_state = 0),\n",
    "}"
   ]
  },
  {
   "cell_type": "markdown",
   "metadata": {},
   "source": [
    "### Grids for Hyperparameter Tuning"
   ]
  },
  {
   "cell_type": "code",
   "execution_count": 44,
   "metadata": {
    "collapsed": false
   },
   "outputs": [],
   "source": [
    "model_grid_params = {\n",
    "    'RandomForestClassifier': {'max_features':[None],'n_estimators':[10],'max_depth':[10],\\\n",
    "                               'min_samples_split':[2],'criterion':['entropy'],\\\n",
    "                               'min_samples_leaf':[3]},\n",
    "    'ExtraTreesClassifier': {'max_features':[None],'n_estimators':[10],'max_depth':[10],\\\n",
    "                             'min_samples_split':[2],'criterion':['entropy'],\\\n",
    "                             'min_samples_leaf':[3]},\n",
    "    'AdaBoostClassifier': {\"estimator__criterion\" : [\"entropy\"],\\\n",
    "                           \"estimator__max_depth\": [None],\\\n",
    "                           \"estimator__min_samples_leaf\" : [3],\\\n",
    "                           \"estimator__min_samples_split\" : [2],\\\n",
    "                           \"estimator__max_features\" : [None]},\n",
    "    'GradientBoostingClassifier': {'max_features':[None],'n_estimators':[10],'max_depth':[10],\\\n",
    "                                   'min_samples_split':[2],'min_samples_leaf':[3],\\\n",
    "                                   'learning_rate':[0.1],'subsample':[1.0]},\n",
    "    'SVC': [{'kernel':['rbf'],'gamma':[1e-1],'C':[1]},\\\n",
    "            {'kernel':['linear'],'C':[1,10]}]\n",
    "}"
   ]
  },
  {
   "cell_type": "markdown",
   "metadata": {},
   "source": [
    "### Model Selection Pipline"
   ]
  },
  {
   "cell_type": "code",
   "execution_count": 45,
   "metadata": {
    "collapsed": false
   },
   "outputs": [],
   "source": [
    "class Model_Selection:\n",
    "    \n",
    "    def __init__(self,models,model_grid_params,data_2014,latest_sec,pred_sec,day):\n",
    "        \n",
    "        self.models = models\n",
    "        self.model_grid = model_grid_params\n",
    "        self.data_2014 = data_2014\n",
    "        self.latest_sec = latest_sec\n",
    "        self.pred_sec = pred_sec\n",
    "        self.day = day\n",
    "        self.keys = models.keys()\n",
    "        self.best_score = {}\n",
    "        self.grid = {}\n",
    "        self.predict_values = {}\n",
    "        self.cv_acc = {}\n",
    "        self.acc = {}\n",
    "        self.fscore = {}\n",
    "        self.true_values = {}\n",
    "        self.predict_values_day = {}\n",
    "        self.cv_acc_day = {}\n",
    "        self.acc_day = {}\n",
    "        self.fscore_day = {}\n",
    "        self.true_values_day = {}\n",
    "        self.summary_day = []\n",
    "        \n",
    "    def Grid_fit(self,X_train,y_train,cv = 5,scoring = 'accuracy'):\n",
    "        \n",
    "        for key in self.keys:\n",
    "            print(\"Running GridSearchCV for %s.\" %(key))\n",
    "            model = self.models[key]\n",
    "            model_grid = self.model_grid[key]\n",
    "            Grid = GridSearchCV(model, model_grid, cv = cv, scoring = scoring)\n",
    "            Grid.fit(X_train,y_train) \n",
    "            self.grid[key] = Grid\n",
    "            print(Grid.best_params_)\n",
    "            print('CV Best Score = %s'%(Grid.best_score_))\n",
    "            self.cv_acc[key].append(Grid.best_score_)  \n",
    "    \n",
    "    def model_fit(self,X_train, y_train, X_test, y_test):\n",
    "        \n",
    "        for key in self.keys:\n",
    "            print(\"Running training & testing for %s.\" %(key))\n",
    "            model = self.models[key]\n",
    "            model.set_params(**self.grid[key].best_params_)\n",
    "            model.fit(X_train, y_train)\n",
    "            predictions = model.predict(X_test)\n",
    "            #print 'Prediction latest 15 second = %s'%(predictions)\n",
    "            self.predict_values[key].append(predictions.tolist())\n",
    "            self.true_values[key].append(y_test.tolist())\n",
    "            acc = metrics.accuracy_score(y_test,predictions)\n",
    "            f_score = metrics.f1_score(y_test,predictions)\n",
    "            print('Accuracy = %s'%(acc))\n",
    "            self.acc[key].append(acc)\n",
    "            self.fscore[key].append(f_score)\n",
    "            \n",
    "            if key == 'SVC':\n",
    "                if list(self.grid[key].best_params_.values())[0] == 'linear':\n",
    "                    feature_imp = dict(zip([i for i in range(0,64,1)],model.coef_[0]))\n",
    "                    Top_five = sorted(feature_imp.items(),key = lambda x : x[1] , reverse=True)[0:5]\n",
    "                    #print 'Kernel is linear and top five importance features = %s'%(Top_five)\n",
    "                else:\n",
    "                    #print 'Kernel is rbf'\n",
    "                    pass\n",
    "            else: \n",
    "                feature_imp = dict(zip([i for i in range(0,64,1)],model.feature_importances_))\n",
    "                Top_five = sorted(feature_imp.items(),key = lambda x : x[1] , reverse=True)[0:5]\n",
    "                #print 'Top five importance features = %s'%(Top_five)\n",
    "                pass\n",
    "\n",
    "    def pipline(self):\n",
    "        \n",
    "        self.set_list_day() # store day values\n",
    "        for day in range(0,self.day,1):\n",
    "            self.set_list() # store values\n",
    "            print('Day = %s'%(day+1))\n",
    "            # for i in range(0,10,self.pred_sec):#9000-self.latest_sec-600,self.pred_sec):\n",
    "            for i in range(0,500,self.pred_sec):\n",
    "            # for i in range(0,9000-self.latest_sec-600,self.pred_sec):\n",
    "                \n",
    "                print('--------------------Rolling Window Time = %s--------------------'%(i/pred_sec))\n",
    "                # Train data\n",
    "                data_train = self.data_2014[day][i:i+self.latest_sec]\n",
    "                X_train = data_train.drop(['65','66','67'],axis=1)\n",
    "                y_train = data_train['0']\n",
    "\n",
    "                # Test data\n",
    "                data_test = self.data_2014[day][i + self.latest_sec:i + self.latest_sec + self.pred_sec]\n",
    "                X_test = data_test.drop(['65','66','67'],axis=1)\n",
    "                y_test = data_test['0']\n",
    "                \n",
    "                #start = time.time()\n",
    "                self.Grid_fit(X_train, y_train, cv = 5, scoring = 'accuracy')\n",
    "                self.model_fit(X_train, y_train,X_test,y_test)\n",
    "                #end = time.time()\n",
    "                #print 'Total Time = %s'%(end - start)\n",
    "                \n",
    "            for key in self.keys:\n",
    "                \n",
    "                self.cv_acc_day[key].append(self.cv_acc[key])\n",
    "                self.acc_day[key].append(self.acc[key])\n",
    "                self.fscore_day[key].append(self.fscore[key])\n",
    "                self.true_values_day[key].append(self.true_values[key])\n",
    "                self.predict_values_day[key].append(self.predict_values[key])\n",
    "            \n",
    "            self.summary_day.append(self.score_summary(sort_by = 'Accuracy_mean'))\n",
    "    \n",
    "    def set_list(self):\n",
    "        \n",
    "        for key in self.keys:\n",
    "            self.predict_values[key] = []\n",
    "            self.cv_acc[key] = []\n",
    "            self.acc[key] = []\n",
    "            self.fscore[key] = []\n",
    "            self.true_values[key] = []\n",
    "            \n",
    "    def set_list_day(self):\n",
    "        \n",
    "        for key in self.keys:\n",
    "            self.predict_values_day[key] = []\n",
    "            self.cv_acc_day[key] = []\n",
    "            self.acc_day[key] = []\n",
    "            self.fscore_day[key] = []\n",
    "            self.true_values_day[key] = []\n",
    "            \n",
    "    def score_summary(self,sort_by):\n",
    "        \n",
    "        summary = pd.concat([pd.DataFrame(self.acc.keys()),\n",
    "                             pd.DataFrame(map(lambda x: np.mean(self.acc[x]), self.acc)),\\\n",
    "                             pd.DataFrame(map(lambda x: np.std(self.acc[x]), self.acc)),\\\n",
    "                             pd.DataFrame(map(lambda x: max(self.acc[x]), self.acc)),\\\n",
    "                             pd.DataFrame(map(lambda x: min(self.acc[x]), self.acc)),\\\n",
    "                             pd.DataFrame(map(lambda x: np.mean(self.fscore[x]), self.fscore))],axis=1)\n",
    "        summary.columns = ['Estimator','Accuracy_mean','Accuracy_std','Accuracy_max','Accuracy_min','F_score']\n",
    "        summary.index.rename('Ranking', inplace=True)\n",
    "        return summary.sort_values(by = [sort_by], ascending=False)\n",
    "          \n",
    "    def print_(self):\n",
    "        print(self.predict_values)\n"
   ]
  },
  {
   "cell_type": "code",
   "execution_count": 46,
   "metadata": {
    "collapsed": false
   },
   "outputs": [],
   "source": [
    "latest_sec = 60 * 30\n",
    "pred_sec = 10\n",
    "day = 1\n",
    "data_2014_up, data_2014_down = read_csv(day_trade)\n",
    "data_2014 = data_2014_up\n",
    "pip = Model_Selection(models,model_grid_params,data_2014,latest_sec,pred_sec,day)"
   ]
  },
  {
   "cell_type": "markdown",
   "metadata": {},
   "source": [
    "### Start Machine Learning Pipline"
   ]
  },
  {
   "cell_type": "code",
   "execution_count": 47,
   "metadata": {
    "collapsed": false,
    "scrolled": false
   },
   "outputs": [
    {
     "name": "stdout",
     "output_type": "stream",
     "text": [
      "Day = 1\n",
      "--------------------Rolling Window Time = 0.0--------------------\n",
      "Running GridSearchCV for RandomForestClassifier.\n",
      "{'criterion': 'entropy', 'max_depth': 10, 'max_features': None, 'min_samples_leaf': 3, 'min_samples_split': 2, 'n_estimators': 10}\n",
      "CV Best Score = 1.0\n",
      "Running GridSearchCV for ExtraTreesClassifier.\n",
      "{'criterion': 'entropy', 'max_depth': 10, 'max_features': None, 'min_samples_leaf': 3, 'min_samples_split': 2, 'n_estimators': 10}\n",
      "CV Best Score = 1.0\n",
      "Running GridSearchCV for AdaBoostClassifier.\n",
      "{'estimator__criterion': 'entropy', 'estimator__max_depth': None, 'estimator__max_features': None, 'estimator__min_samples_leaf': 3, 'estimator__min_samples_split': 2}\n",
      "CV Best Score = 1.0\n",
      "Running GridSearchCV for GradientBoostingClassifier.\n"
     ]
    },
    {
     "name": "stderr",
     "output_type": "stream",
     "text": [
      "/Users/daniel/Workspace/SGX-Full-OrderBook-Tick-Data-Trading-Strategy/venv/lib/python3.10/site-packages/sklearn/ensemble/_weight_boosting.py:519: FutureWarning: The SAMME.R algorithm (the default) is deprecated and will be removed in 1.6. Use the SAMME algorithm to circumvent this warning.\n",
      "  warnings.warn(\n",
      "/Users/daniel/Workspace/SGX-Full-OrderBook-Tick-Data-Trading-Strategy/venv/lib/python3.10/site-packages/sklearn/ensemble/_weight_boosting.py:519: FutureWarning: The SAMME.R algorithm (the default) is deprecated and will be removed in 1.6. Use the SAMME algorithm to circumvent this warning.\n",
      "  warnings.warn(\n",
      "/Users/daniel/Workspace/SGX-Full-OrderBook-Tick-Data-Trading-Strategy/venv/lib/python3.10/site-packages/sklearn/ensemble/_weight_boosting.py:519: FutureWarning: The SAMME.R algorithm (the default) is deprecated and will be removed in 1.6. Use the SAMME algorithm to circumvent this warning.\n",
      "  warnings.warn(\n",
      "/Users/daniel/Workspace/SGX-Full-OrderBook-Tick-Data-Trading-Strategy/venv/lib/python3.10/site-packages/sklearn/ensemble/_weight_boosting.py:519: FutureWarning: The SAMME.R algorithm (the default) is deprecated and will be removed in 1.6. Use the SAMME algorithm to circumvent this warning.\n",
      "  warnings.warn(\n",
      "/Users/daniel/Workspace/SGX-Full-OrderBook-Tick-Data-Trading-Strategy/venv/lib/python3.10/site-packages/sklearn/ensemble/_weight_boosting.py:519: FutureWarning: The SAMME.R algorithm (the default) is deprecated and will be removed in 1.6. Use the SAMME algorithm to circumvent this warning.\n",
      "  warnings.warn(\n",
      "/Users/daniel/Workspace/SGX-Full-OrderBook-Tick-Data-Trading-Strategy/venv/lib/python3.10/site-packages/sklearn/ensemble/_weight_boosting.py:519: FutureWarning: The SAMME.R algorithm (the default) is deprecated and will be removed in 1.6. Use the SAMME algorithm to circumvent this warning.\n",
      "  warnings.warn(\n"
     ]
    },
    {
     "name": "stdout",
     "output_type": "stream",
     "text": [
      "{'learning_rate': 0.1, 'max_depth': 10, 'max_features': None, 'min_samples_leaf': 3, 'min_samples_split': 2, 'n_estimators': 10, 'subsample': 1.0}\n",
      "CV Best Score = 1.0\n",
      "Running GridSearchCV for SVC.\n",
      "{'C': 1, 'kernel': 'linear'}\n",
      "CV Best Score = 1.0\n",
      "Running training & testing for RandomForestClassifier.\n",
      "Accuracy = 1.0\n",
      "Running training & testing for ExtraTreesClassifier.\n",
      "Accuracy = 1.0\n",
      "Running training & testing for AdaBoostClassifier.\n",
      "Accuracy = 1.0\n",
      "Running training & testing for GradientBoostingClassifier.\n",
      "Accuracy = 1.0\n",
      "Running training & testing for SVC.\n"
     ]
    },
    {
     "name": "stderr",
     "output_type": "stream",
     "text": [
      "/Users/daniel/Workspace/SGX-Full-OrderBook-Tick-Data-Trading-Strategy/venv/lib/python3.10/site-packages/sklearn/ensemble/_weight_boosting.py:519: FutureWarning: The SAMME.R algorithm (the default) is deprecated and will be removed in 1.6. Use the SAMME algorithm to circumvent this warning.\n",
      "  warnings.warn(\n"
     ]
    },
    {
     "name": "stdout",
     "output_type": "stream",
     "text": [
      "Accuracy = 1.0\n",
      "--------------------Rolling Window Time = 1.0--------------------\n",
      "Running GridSearchCV for RandomForestClassifier.\n",
      "{'criterion': 'entropy', 'max_depth': 10, 'max_features': None, 'min_samples_leaf': 3, 'min_samples_split': 2, 'n_estimators': 10}\n",
      "CV Best Score = 1.0\n",
      "Running GridSearchCV for ExtraTreesClassifier.\n",
      "{'criterion': 'entropy', 'max_depth': 10, 'max_features': None, 'min_samples_leaf': 3, 'min_samples_split': 2, 'n_estimators': 10}\n",
      "CV Best Score = 1.0\n",
      "Running GridSearchCV for AdaBoostClassifier.\n",
      "{'estimator__criterion': 'entropy', 'estimator__max_depth': None, 'estimator__max_features': None, 'estimator__min_samples_leaf': 3, 'estimator__min_samples_split': 2}\n",
      "CV Best Score = 1.0\n",
      "Running GridSearchCV for GradientBoostingClassifier.\n"
     ]
    },
    {
     "name": "stderr",
     "output_type": "stream",
     "text": [
      "/Users/daniel/Workspace/SGX-Full-OrderBook-Tick-Data-Trading-Strategy/venv/lib/python3.10/site-packages/sklearn/ensemble/_weight_boosting.py:519: FutureWarning: The SAMME.R algorithm (the default) is deprecated and will be removed in 1.6. Use the SAMME algorithm to circumvent this warning.\n",
      "  warnings.warn(\n",
      "/Users/daniel/Workspace/SGX-Full-OrderBook-Tick-Data-Trading-Strategy/venv/lib/python3.10/site-packages/sklearn/ensemble/_weight_boosting.py:519: FutureWarning: The SAMME.R algorithm (the default) is deprecated and will be removed in 1.6. Use the SAMME algorithm to circumvent this warning.\n",
      "  warnings.warn(\n",
      "/Users/daniel/Workspace/SGX-Full-OrderBook-Tick-Data-Trading-Strategy/venv/lib/python3.10/site-packages/sklearn/ensemble/_weight_boosting.py:519: FutureWarning: The SAMME.R algorithm (the default) is deprecated and will be removed in 1.6. Use the SAMME algorithm to circumvent this warning.\n",
      "  warnings.warn(\n",
      "/Users/daniel/Workspace/SGX-Full-OrderBook-Tick-Data-Trading-Strategy/venv/lib/python3.10/site-packages/sklearn/ensemble/_weight_boosting.py:519: FutureWarning: The SAMME.R algorithm (the default) is deprecated and will be removed in 1.6. Use the SAMME algorithm to circumvent this warning.\n",
      "  warnings.warn(\n",
      "/Users/daniel/Workspace/SGX-Full-OrderBook-Tick-Data-Trading-Strategy/venv/lib/python3.10/site-packages/sklearn/ensemble/_weight_boosting.py:519: FutureWarning: The SAMME.R algorithm (the default) is deprecated and will be removed in 1.6. Use the SAMME algorithm to circumvent this warning.\n",
      "  warnings.warn(\n",
      "/Users/daniel/Workspace/SGX-Full-OrderBook-Tick-Data-Trading-Strategy/venv/lib/python3.10/site-packages/sklearn/ensemble/_weight_boosting.py:519: FutureWarning: The SAMME.R algorithm (the default) is deprecated and will be removed in 1.6. Use the SAMME algorithm to circumvent this warning.\n",
      "  warnings.warn(\n"
     ]
    },
    {
     "name": "stdout",
     "output_type": "stream",
     "text": [
      "{'learning_rate': 0.1, 'max_depth': 10, 'max_features': None, 'min_samples_leaf': 3, 'min_samples_split': 2, 'n_estimators': 10, 'subsample': 1.0}\n",
      "CV Best Score = 1.0\n",
      "Running GridSearchCV for SVC.\n",
      "{'C': 1, 'kernel': 'linear'}\n",
      "CV Best Score = 1.0\n",
      "Running training & testing for RandomForestClassifier.\n",
      "Accuracy = 1.0\n",
      "Running training & testing for ExtraTreesClassifier.\n",
      "Accuracy = 1.0\n",
      "Running training & testing for AdaBoostClassifier.\n",
      "Accuracy = 1.0\n",
      "Running training & testing for GradientBoostingClassifier.\n",
      "Accuracy = 1.0\n",
      "Running training & testing for SVC.\n"
     ]
    },
    {
     "name": "stderr",
     "output_type": "stream",
     "text": [
      "/Users/daniel/Workspace/SGX-Full-OrderBook-Tick-Data-Trading-Strategy/venv/lib/python3.10/site-packages/sklearn/ensemble/_weight_boosting.py:519: FutureWarning: The SAMME.R algorithm (the default) is deprecated and will be removed in 1.6. Use the SAMME algorithm to circumvent this warning.\n",
      "  warnings.warn(\n"
     ]
    },
    {
     "name": "stdout",
     "output_type": "stream",
     "text": [
      "Accuracy = 1.0\n",
      "--------------------Rolling Window Time = 2.0--------------------\n",
      "Running GridSearchCV for RandomForestClassifier.\n",
      "{'criterion': 'entropy', 'max_depth': 10, 'max_features': None, 'min_samples_leaf': 3, 'min_samples_split': 2, 'n_estimators': 10}\n",
      "CV Best Score = 1.0\n",
      "Running GridSearchCV for ExtraTreesClassifier.\n",
      "{'criterion': 'entropy', 'max_depth': 10, 'max_features': None, 'min_samples_leaf': 3, 'min_samples_split': 2, 'n_estimators': 10}\n",
      "CV Best Score = 1.0\n",
      "Running GridSearchCV for AdaBoostClassifier.\n",
      "{'estimator__criterion': 'entropy', 'estimator__max_depth': None, 'estimator__max_features': None, 'estimator__min_samples_leaf': 3, 'estimator__min_samples_split': 2}\n",
      "CV Best Score = 1.0\n",
      "Running GridSearchCV for GradientBoostingClassifier.\n"
     ]
    },
    {
     "name": "stderr",
     "output_type": "stream",
     "text": [
      "/Users/daniel/Workspace/SGX-Full-OrderBook-Tick-Data-Trading-Strategy/venv/lib/python3.10/site-packages/sklearn/ensemble/_weight_boosting.py:519: FutureWarning: The SAMME.R algorithm (the default) is deprecated and will be removed in 1.6. Use the SAMME algorithm to circumvent this warning.\n",
      "  warnings.warn(\n",
      "/Users/daniel/Workspace/SGX-Full-OrderBook-Tick-Data-Trading-Strategy/venv/lib/python3.10/site-packages/sklearn/ensemble/_weight_boosting.py:519: FutureWarning: The SAMME.R algorithm (the default) is deprecated and will be removed in 1.6. Use the SAMME algorithm to circumvent this warning.\n",
      "  warnings.warn(\n",
      "/Users/daniel/Workspace/SGX-Full-OrderBook-Tick-Data-Trading-Strategy/venv/lib/python3.10/site-packages/sklearn/ensemble/_weight_boosting.py:519: FutureWarning: The SAMME.R algorithm (the default) is deprecated and will be removed in 1.6. Use the SAMME algorithm to circumvent this warning.\n",
      "  warnings.warn(\n",
      "/Users/daniel/Workspace/SGX-Full-OrderBook-Tick-Data-Trading-Strategy/venv/lib/python3.10/site-packages/sklearn/ensemble/_weight_boosting.py:519: FutureWarning: The SAMME.R algorithm (the default) is deprecated and will be removed in 1.6. Use the SAMME algorithm to circumvent this warning.\n",
      "  warnings.warn(\n",
      "/Users/daniel/Workspace/SGX-Full-OrderBook-Tick-Data-Trading-Strategy/venv/lib/python3.10/site-packages/sklearn/ensemble/_weight_boosting.py:519: FutureWarning: The SAMME.R algorithm (the default) is deprecated and will be removed in 1.6. Use the SAMME algorithm to circumvent this warning.\n",
      "  warnings.warn(\n",
      "/Users/daniel/Workspace/SGX-Full-OrderBook-Tick-Data-Trading-Strategy/venv/lib/python3.10/site-packages/sklearn/ensemble/_weight_boosting.py:519: FutureWarning: The SAMME.R algorithm (the default) is deprecated and will be removed in 1.6. Use the SAMME algorithm to circumvent this warning.\n",
      "  warnings.warn(\n"
     ]
    },
    {
     "name": "stdout",
     "output_type": "stream",
     "text": [
      "{'learning_rate': 0.1, 'max_depth': 10, 'max_features': None, 'min_samples_leaf': 3, 'min_samples_split': 2, 'n_estimators': 10, 'subsample': 1.0}\n",
      "CV Best Score = 1.0\n",
      "Running GridSearchCV for SVC.\n",
      "{'C': 1, 'kernel': 'linear'}\n",
      "CV Best Score = 1.0\n",
      "Running training & testing for RandomForestClassifier.\n",
      "Accuracy = 1.0\n",
      "Running training & testing for ExtraTreesClassifier.\n",
      "Accuracy = 1.0\n",
      "Running training & testing for AdaBoostClassifier.\n",
      "Accuracy = 1.0\n",
      "Running training & testing for GradientBoostingClassifier.\n",
      "Accuracy = 1.0\n",
      "Running training & testing for SVC.\n"
     ]
    },
    {
     "name": "stderr",
     "output_type": "stream",
     "text": [
      "/Users/daniel/Workspace/SGX-Full-OrderBook-Tick-Data-Trading-Strategy/venv/lib/python3.10/site-packages/sklearn/ensemble/_weight_boosting.py:519: FutureWarning: The SAMME.R algorithm (the default) is deprecated and will be removed in 1.6. Use the SAMME algorithm to circumvent this warning.\n",
      "  warnings.warn(\n"
     ]
    },
    {
     "name": "stdout",
     "output_type": "stream",
     "text": [
      "Accuracy = 1.0\n",
      "--------------------Rolling Window Time = 3.0--------------------\n",
      "Running GridSearchCV for RandomForestClassifier.\n",
      "{'criterion': 'entropy', 'max_depth': 10, 'max_features': None, 'min_samples_leaf': 3, 'min_samples_split': 2, 'n_estimators': 10}\n",
      "CV Best Score = 1.0\n",
      "Running GridSearchCV for ExtraTreesClassifier.\n",
      "{'criterion': 'entropy', 'max_depth': 10, 'max_features': None, 'min_samples_leaf': 3, 'min_samples_split': 2, 'n_estimators': 10}\n",
      "CV Best Score = 1.0\n",
      "Running GridSearchCV for AdaBoostClassifier.\n",
      "{'estimator__criterion': 'entropy', 'estimator__max_depth': None, 'estimator__max_features': None, 'estimator__min_samples_leaf': 3, 'estimator__min_samples_split': 2}\n",
      "CV Best Score = 1.0\n",
      "Running GridSearchCV for GradientBoostingClassifier.\n"
     ]
    },
    {
     "name": "stderr",
     "output_type": "stream",
     "text": [
      "/Users/daniel/Workspace/SGX-Full-OrderBook-Tick-Data-Trading-Strategy/venv/lib/python3.10/site-packages/sklearn/ensemble/_weight_boosting.py:519: FutureWarning: The SAMME.R algorithm (the default) is deprecated and will be removed in 1.6. Use the SAMME algorithm to circumvent this warning.\n",
      "  warnings.warn(\n",
      "/Users/daniel/Workspace/SGX-Full-OrderBook-Tick-Data-Trading-Strategy/venv/lib/python3.10/site-packages/sklearn/ensemble/_weight_boosting.py:519: FutureWarning: The SAMME.R algorithm (the default) is deprecated and will be removed in 1.6. Use the SAMME algorithm to circumvent this warning.\n",
      "  warnings.warn(\n",
      "/Users/daniel/Workspace/SGX-Full-OrderBook-Tick-Data-Trading-Strategy/venv/lib/python3.10/site-packages/sklearn/ensemble/_weight_boosting.py:519: FutureWarning: The SAMME.R algorithm (the default) is deprecated and will be removed in 1.6. Use the SAMME algorithm to circumvent this warning.\n",
      "  warnings.warn(\n",
      "/Users/daniel/Workspace/SGX-Full-OrderBook-Tick-Data-Trading-Strategy/venv/lib/python3.10/site-packages/sklearn/ensemble/_weight_boosting.py:519: FutureWarning: The SAMME.R algorithm (the default) is deprecated and will be removed in 1.6. Use the SAMME algorithm to circumvent this warning.\n",
      "  warnings.warn(\n",
      "/Users/daniel/Workspace/SGX-Full-OrderBook-Tick-Data-Trading-Strategy/venv/lib/python3.10/site-packages/sklearn/ensemble/_weight_boosting.py:519: FutureWarning: The SAMME.R algorithm (the default) is deprecated and will be removed in 1.6. Use the SAMME algorithm to circumvent this warning.\n",
      "  warnings.warn(\n",
      "/Users/daniel/Workspace/SGX-Full-OrderBook-Tick-Data-Trading-Strategy/venv/lib/python3.10/site-packages/sklearn/ensemble/_weight_boosting.py:519: FutureWarning: The SAMME.R algorithm (the default) is deprecated and will be removed in 1.6. Use the SAMME algorithm to circumvent this warning.\n",
      "  warnings.warn(\n"
     ]
    },
    {
     "name": "stdout",
     "output_type": "stream",
     "text": [
      "{'learning_rate': 0.1, 'max_depth': 10, 'max_features': None, 'min_samples_leaf': 3, 'min_samples_split': 2, 'n_estimators': 10, 'subsample': 1.0}\n",
      "CV Best Score = 1.0\n",
      "Running GridSearchCV for SVC.\n",
      "{'C': 1, 'kernel': 'linear'}\n",
      "CV Best Score = 1.0\n",
      "Running training & testing for RandomForestClassifier.\n",
      "Accuracy = 1.0\n",
      "Running training & testing for ExtraTreesClassifier.\n",
      "Accuracy = 1.0\n",
      "Running training & testing for AdaBoostClassifier.\n",
      "Accuracy = 1.0\n",
      "Running training & testing for GradientBoostingClassifier.\n",
      "Accuracy = 1.0\n",
      "Running training & testing for SVC.\n"
     ]
    },
    {
     "name": "stderr",
     "output_type": "stream",
     "text": [
      "/Users/daniel/Workspace/SGX-Full-OrderBook-Tick-Data-Trading-Strategy/venv/lib/python3.10/site-packages/sklearn/ensemble/_weight_boosting.py:519: FutureWarning: The SAMME.R algorithm (the default) is deprecated and will be removed in 1.6. Use the SAMME algorithm to circumvent this warning.\n",
      "  warnings.warn(\n"
     ]
    },
    {
     "name": "stdout",
     "output_type": "stream",
     "text": [
      "Accuracy = 1.0\n",
      "--------------------Rolling Window Time = 4.0--------------------\n",
      "Running GridSearchCV for RandomForestClassifier.\n",
      "{'criterion': 'entropy', 'max_depth': 10, 'max_features': None, 'min_samples_leaf': 3, 'min_samples_split': 2, 'n_estimators': 10}\n",
      "CV Best Score = 1.0\n",
      "Running GridSearchCV for ExtraTreesClassifier.\n",
      "{'criterion': 'entropy', 'max_depth': 10, 'max_features': None, 'min_samples_leaf': 3, 'min_samples_split': 2, 'n_estimators': 10}\n",
      "CV Best Score = 1.0\n",
      "Running GridSearchCV for AdaBoostClassifier.\n",
      "{'estimator__criterion': 'entropy', 'estimator__max_depth': None, 'estimator__max_features': None, 'estimator__min_samples_leaf': 3, 'estimator__min_samples_split': 2}\n",
      "CV Best Score = 1.0\n",
      "Running GridSearchCV for GradientBoostingClassifier.\n"
     ]
    },
    {
     "name": "stderr",
     "output_type": "stream",
     "text": [
      "/Users/daniel/Workspace/SGX-Full-OrderBook-Tick-Data-Trading-Strategy/venv/lib/python3.10/site-packages/sklearn/ensemble/_weight_boosting.py:519: FutureWarning: The SAMME.R algorithm (the default) is deprecated and will be removed in 1.6. Use the SAMME algorithm to circumvent this warning.\n",
      "  warnings.warn(\n",
      "/Users/daniel/Workspace/SGX-Full-OrderBook-Tick-Data-Trading-Strategy/venv/lib/python3.10/site-packages/sklearn/ensemble/_weight_boosting.py:519: FutureWarning: The SAMME.R algorithm (the default) is deprecated and will be removed in 1.6. Use the SAMME algorithm to circumvent this warning.\n",
      "  warnings.warn(\n",
      "/Users/daniel/Workspace/SGX-Full-OrderBook-Tick-Data-Trading-Strategy/venv/lib/python3.10/site-packages/sklearn/ensemble/_weight_boosting.py:519: FutureWarning: The SAMME.R algorithm (the default) is deprecated and will be removed in 1.6. Use the SAMME algorithm to circumvent this warning.\n",
      "  warnings.warn(\n",
      "/Users/daniel/Workspace/SGX-Full-OrderBook-Tick-Data-Trading-Strategy/venv/lib/python3.10/site-packages/sklearn/ensemble/_weight_boosting.py:519: FutureWarning: The SAMME.R algorithm (the default) is deprecated and will be removed in 1.6. Use the SAMME algorithm to circumvent this warning.\n",
      "  warnings.warn(\n",
      "/Users/daniel/Workspace/SGX-Full-OrderBook-Tick-Data-Trading-Strategy/venv/lib/python3.10/site-packages/sklearn/ensemble/_weight_boosting.py:519: FutureWarning: The SAMME.R algorithm (the default) is deprecated and will be removed in 1.6. Use the SAMME algorithm to circumvent this warning.\n",
      "  warnings.warn(\n",
      "/Users/daniel/Workspace/SGX-Full-OrderBook-Tick-Data-Trading-Strategy/venv/lib/python3.10/site-packages/sklearn/ensemble/_weight_boosting.py:519: FutureWarning: The SAMME.R algorithm (the default) is deprecated and will be removed in 1.6. Use the SAMME algorithm to circumvent this warning.\n",
      "  warnings.warn(\n"
     ]
    },
    {
     "name": "stdout",
     "output_type": "stream",
     "text": [
      "{'learning_rate': 0.1, 'max_depth': 10, 'max_features': None, 'min_samples_leaf': 3, 'min_samples_split': 2, 'n_estimators': 10, 'subsample': 1.0}\n",
      "CV Best Score = 1.0\n",
      "Running GridSearchCV for SVC.\n",
      "{'C': 1, 'kernel': 'linear'}\n",
      "CV Best Score = 0.9972222222222221\n",
      "Running training & testing for RandomForestClassifier.\n",
      "Accuracy = 1.0\n",
      "Running training & testing for ExtraTreesClassifier.\n",
      "Accuracy = 1.0\n",
      "Running training & testing for AdaBoostClassifier.\n",
      "Accuracy = 1.0\n",
      "Running training & testing for GradientBoostingClassifier.\n",
      "Accuracy = 1.0\n",
      "Running training & testing for SVC.\n"
     ]
    },
    {
     "name": "stderr",
     "output_type": "stream",
     "text": [
      "/Users/daniel/Workspace/SGX-Full-OrderBook-Tick-Data-Trading-Strategy/venv/lib/python3.10/site-packages/sklearn/ensemble/_weight_boosting.py:519: FutureWarning: The SAMME.R algorithm (the default) is deprecated and will be removed in 1.6. Use the SAMME algorithm to circumvent this warning.\n",
      "  warnings.warn(\n"
     ]
    },
    {
     "name": "stdout",
     "output_type": "stream",
     "text": [
      "Accuracy = 1.0\n",
      "--------------------Rolling Window Time = 5.0--------------------\n",
      "Running GridSearchCV for RandomForestClassifier.\n",
      "{'criterion': 'entropy', 'max_depth': 10, 'max_features': None, 'min_samples_leaf': 3, 'min_samples_split': 2, 'n_estimators': 10}\n",
      "CV Best Score = 1.0\n",
      "Running GridSearchCV for ExtraTreesClassifier.\n",
      "{'criterion': 'entropy', 'max_depth': 10, 'max_features': None, 'min_samples_leaf': 3, 'min_samples_split': 2, 'n_estimators': 10}\n",
      "CV Best Score = 1.0\n",
      "Running GridSearchCV for AdaBoostClassifier.\n",
      "{'estimator__criterion': 'entropy', 'estimator__max_depth': None, 'estimator__max_features': None, 'estimator__min_samples_leaf': 3, 'estimator__min_samples_split': 2}\n",
      "CV Best Score = 1.0\n",
      "Running GridSearchCV for GradientBoostingClassifier.\n"
     ]
    },
    {
     "name": "stderr",
     "output_type": "stream",
     "text": [
      "/Users/daniel/Workspace/SGX-Full-OrderBook-Tick-Data-Trading-Strategy/venv/lib/python3.10/site-packages/sklearn/ensemble/_weight_boosting.py:519: FutureWarning: The SAMME.R algorithm (the default) is deprecated and will be removed in 1.6. Use the SAMME algorithm to circumvent this warning.\n",
      "  warnings.warn(\n",
      "/Users/daniel/Workspace/SGX-Full-OrderBook-Tick-Data-Trading-Strategy/venv/lib/python3.10/site-packages/sklearn/ensemble/_weight_boosting.py:519: FutureWarning: The SAMME.R algorithm (the default) is deprecated and will be removed in 1.6. Use the SAMME algorithm to circumvent this warning.\n",
      "  warnings.warn(\n",
      "/Users/daniel/Workspace/SGX-Full-OrderBook-Tick-Data-Trading-Strategy/venv/lib/python3.10/site-packages/sklearn/ensemble/_weight_boosting.py:519: FutureWarning: The SAMME.R algorithm (the default) is deprecated and will be removed in 1.6. Use the SAMME algorithm to circumvent this warning.\n",
      "  warnings.warn(\n",
      "/Users/daniel/Workspace/SGX-Full-OrderBook-Tick-Data-Trading-Strategy/venv/lib/python3.10/site-packages/sklearn/ensemble/_weight_boosting.py:519: FutureWarning: The SAMME.R algorithm (the default) is deprecated and will be removed in 1.6. Use the SAMME algorithm to circumvent this warning.\n",
      "  warnings.warn(\n",
      "/Users/daniel/Workspace/SGX-Full-OrderBook-Tick-Data-Trading-Strategy/venv/lib/python3.10/site-packages/sklearn/ensemble/_weight_boosting.py:519: FutureWarning: The SAMME.R algorithm (the default) is deprecated and will be removed in 1.6. Use the SAMME algorithm to circumvent this warning.\n",
      "  warnings.warn(\n",
      "/Users/daniel/Workspace/SGX-Full-OrderBook-Tick-Data-Trading-Strategy/venv/lib/python3.10/site-packages/sklearn/ensemble/_weight_boosting.py:519: FutureWarning: The SAMME.R algorithm (the default) is deprecated and will be removed in 1.6. Use the SAMME algorithm to circumvent this warning.\n",
      "  warnings.warn(\n"
     ]
    },
    {
     "name": "stdout",
     "output_type": "stream",
     "text": [
      "{'learning_rate': 0.1, 'max_depth': 10, 'max_features': None, 'min_samples_leaf': 3, 'min_samples_split': 2, 'n_estimators': 10, 'subsample': 1.0}\n",
      "CV Best Score = 1.0\n",
      "Running GridSearchCV for SVC.\n",
      "{'C': 1, 'kernel': 'linear'}\n",
      "CV Best Score = 1.0\n",
      "Running training & testing for RandomForestClassifier.\n",
      "Accuracy = 1.0\n",
      "Running training & testing for ExtraTreesClassifier.\n",
      "Accuracy = 1.0\n",
      "Running training & testing for AdaBoostClassifier.\n",
      "Accuracy = 1.0\n",
      "Running training & testing for GradientBoostingClassifier.\n",
      "Accuracy = 1.0\n",
      "Running training & testing for SVC.\n"
     ]
    },
    {
     "name": "stderr",
     "output_type": "stream",
     "text": [
      "/Users/daniel/Workspace/SGX-Full-OrderBook-Tick-Data-Trading-Strategy/venv/lib/python3.10/site-packages/sklearn/ensemble/_weight_boosting.py:519: FutureWarning: The SAMME.R algorithm (the default) is deprecated and will be removed in 1.6. Use the SAMME algorithm to circumvent this warning.\n",
      "  warnings.warn(\n"
     ]
    },
    {
     "name": "stdout",
     "output_type": "stream",
     "text": [
      "Accuracy = 1.0\n",
      "--------------------Rolling Window Time = 6.0--------------------\n",
      "Running GridSearchCV for RandomForestClassifier.\n",
      "{'criterion': 'entropy', 'max_depth': 10, 'max_features': None, 'min_samples_leaf': 3, 'min_samples_split': 2, 'n_estimators': 10}\n",
      "CV Best Score = 1.0\n",
      "Running GridSearchCV for ExtraTreesClassifier.\n",
      "{'criterion': 'entropy', 'max_depth': 10, 'max_features': None, 'min_samples_leaf': 3, 'min_samples_split': 2, 'n_estimators': 10}\n",
      "CV Best Score = 1.0\n",
      "Running GridSearchCV for AdaBoostClassifier.\n",
      "{'estimator__criterion': 'entropy', 'estimator__max_depth': None, 'estimator__max_features': None, 'estimator__min_samples_leaf': 3, 'estimator__min_samples_split': 2}\n",
      "CV Best Score = 1.0\n",
      "Running GridSearchCV for GradientBoostingClassifier.\n"
     ]
    },
    {
     "name": "stderr",
     "output_type": "stream",
     "text": [
      "/Users/daniel/Workspace/SGX-Full-OrderBook-Tick-Data-Trading-Strategy/venv/lib/python3.10/site-packages/sklearn/ensemble/_weight_boosting.py:519: FutureWarning: The SAMME.R algorithm (the default) is deprecated and will be removed in 1.6. Use the SAMME algorithm to circumvent this warning.\n",
      "  warnings.warn(\n",
      "/Users/daniel/Workspace/SGX-Full-OrderBook-Tick-Data-Trading-Strategy/venv/lib/python3.10/site-packages/sklearn/ensemble/_weight_boosting.py:519: FutureWarning: The SAMME.R algorithm (the default) is deprecated and will be removed in 1.6. Use the SAMME algorithm to circumvent this warning.\n",
      "  warnings.warn(\n",
      "/Users/daniel/Workspace/SGX-Full-OrderBook-Tick-Data-Trading-Strategy/venv/lib/python3.10/site-packages/sklearn/ensemble/_weight_boosting.py:519: FutureWarning: The SAMME.R algorithm (the default) is deprecated and will be removed in 1.6. Use the SAMME algorithm to circumvent this warning.\n",
      "  warnings.warn(\n",
      "/Users/daniel/Workspace/SGX-Full-OrderBook-Tick-Data-Trading-Strategy/venv/lib/python3.10/site-packages/sklearn/ensemble/_weight_boosting.py:519: FutureWarning: The SAMME.R algorithm (the default) is deprecated and will be removed in 1.6. Use the SAMME algorithm to circumvent this warning.\n",
      "  warnings.warn(\n",
      "/Users/daniel/Workspace/SGX-Full-OrderBook-Tick-Data-Trading-Strategy/venv/lib/python3.10/site-packages/sklearn/ensemble/_weight_boosting.py:519: FutureWarning: The SAMME.R algorithm (the default) is deprecated and will be removed in 1.6. Use the SAMME algorithm to circumvent this warning.\n",
      "  warnings.warn(\n",
      "/Users/daniel/Workspace/SGX-Full-OrderBook-Tick-Data-Trading-Strategy/venv/lib/python3.10/site-packages/sklearn/ensemble/_weight_boosting.py:519: FutureWarning: The SAMME.R algorithm (the default) is deprecated and will be removed in 1.6. Use the SAMME algorithm to circumvent this warning.\n",
      "  warnings.warn(\n"
     ]
    },
    {
     "name": "stdout",
     "output_type": "stream",
     "text": [
      "{'learning_rate': 0.1, 'max_depth': 10, 'max_features': None, 'min_samples_leaf': 3, 'min_samples_split': 2, 'n_estimators': 10, 'subsample': 1.0}\n",
      "CV Best Score = 1.0\n",
      "Running GridSearchCV for SVC.\n",
      "{'C': 1, 'kernel': 'linear'}\n",
      "CV Best Score = 1.0\n",
      "Running training & testing for RandomForestClassifier.\n",
      "Accuracy = 1.0\n",
      "Running training & testing for ExtraTreesClassifier.\n",
      "Accuracy = 1.0\n",
      "Running training & testing for AdaBoostClassifier.\n",
      "Accuracy = 1.0\n",
      "Running training & testing for GradientBoostingClassifier.\n",
      "Accuracy = 1.0\n",
      "Running training & testing for SVC.\n"
     ]
    },
    {
     "name": "stderr",
     "output_type": "stream",
     "text": [
      "/Users/daniel/Workspace/SGX-Full-OrderBook-Tick-Data-Trading-Strategy/venv/lib/python3.10/site-packages/sklearn/ensemble/_weight_boosting.py:519: FutureWarning: The SAMME.R algorithm (the default) is deprecated and will be removed in 1.6. Use the SAMME algorithm to circumvent this warning.\n",
      "  warnings.warn(\n"
     ]
    },
    {
     "name": "stdout",
     "output_type": "stream",
     "text": [
      "Accuracy = 1.0\n",
      "--------------------Rolling Window Time = 7.0--------------------\n",
      "Running GridSearchCV for RandomForestClassifier.\n",
      "{'criterion': 'entropy', 'max_depth': 10, 'max_features': None, 'min_samples_leaf': 3, 'min_samples_split': 2, 'n_estimators': 10}\n",
      "CV Best Score = 1.0\n",
      "Running GridSearchCV for ExtraTreesClassifier.\n",
      "{'criterion': 'entropy', 'max_depth': 10, 'max_features': None, 'min_samples_leaf': 3, 'min_samples_split': 2, 'n_estimators': 10}\n",
      "CV Best Score = 1.0\n",
      "Running GridSearchCV for AdaBoostClassifier.\n",
      "{'estimator__criterion': 'entropy', 'estimator__max_depth': None, 'estimator__max_features': None, 'estimator__min_samples_leaf': 3, 'estimator__min_samples_split': 2}\n",
      "CV Best Score = 1.0\n",
      "Running GridSearchCV for GradientBoostingClassifier.\n"
     ]
    },
    {
     "name": "stderr",
     "output_type": "stream",
     "text": [
      "/Users/daniel/Workspace/SGX-Full-OrderBook-Tick-Data-Trading-Strategy/venv/lib/python3.10/site-packages/sklearn/ensemble/_weight_boosting.py:519: FutureWarning: The SAMME.R algorithm (the default) is deprecated and will be removed in 1.6. Use the SAMME algorithm to circumvent this warning.\n",
      "  warnings.warn(\n",
      "/Users/daniel/Workspace/SGX-Full-OrderBook-Tick-Data-Trading-Strategy/venv/lib/python3.10/site-packages/sklearn/ensemble/_weight_boosting.py:519: FutureWarning: The SAMME.R algorithm (the default) is deprecated and will be removed in 1.6. Use the SAMME algorithm to circumvent this warning.\n",
      "  warnings.warn(\n",
      "/Users/daniel/Workspace/SGX-Full-OrderBook-Tick-Data-Trading-Strategy/venv/lib/python3.10/site-packages/sklearn/ensemble/_weight_boosting.py:519: FutureWarning: The SAMME.R algorithm (the default) is deprecated and will be removed in 1.6. Use the SAMME algorithm to circumvent this warning.\n",
      "  warnings.warn(\n",
      "/Users/daniel/Workspace/SGX-Full-OrderBook-Tick-Data-Trading-Strategy/venv/lib/python3.10/site-packages/sklearn/ensemble/_weight_boosting.py:519: FutureWarning: The SAMME.R algorithm (the default) is deprecated and will be removed in 1.6. Use the SAMME algorithm to circumvent this warning.\n",
      "  warnings.warn(\n",
      "/Users/daniel/Workspace/SGX-Full-OrderBook-Tick-Data-Trading-Strategy/venv/lib/python3.10/site-packages/sklearn/ensemble/_weight_boosting.py:519: FutureWarning: The SAMME.R algorithm (the default) is deprecated and will be removed in 1.6. Use the SAMME algorithm to circumvent this warning.\n",
      "  warnings.warn(\n",
      "/Users/daniel/Workspace/SGX-Full-OrderBook-Tick-Data-Trading-Strategy/venv/lib/python3.10/site-packages/sklearn/ensemble/_weight_boosting.py:519: FutureWarning: The SAMME.R algorithm (the default) is deprecated and will be removed in 1.6. Use the SAMME algorithm to circumvent this warning.\n",
      "  warnings.warn(\n"
     ]
    },
    {
     "name": "stdout",
     "output_type": "stream",
     "text": [
      "{'learning_rate': 0.1, 'max_depth': 10, 'max_features': None, 'min_samples_leaf': 3, 'min_samples_split': 2, 'n_estimators': 10, 'subsample': 1.0}\n",
      "CV Best Score = 1.0\n",
      "Running GridSearchCV for SVC.\n",
      "{'C': 1, 'kernel': 'linear'}\n",
      "CV Best Score = 1.0\n",
      "Running training & testing for RandomForestClassifier.\n",
      "Accuracy = 1.0\n",
      "Running training & testing for ExtraTreesClassifier.\n",
      "Accuracy = 1.0\n",
      "Running training & testing for AdaBoostClassifier.\n",
      "Accuracy = 1.0\n",
      "Running training & testing for GradientBoostingClassifier.\n",
      "Accuracy = 1.0\n",
      "Running training & testing for SVC.\n"
     ]
    },
    {
     "name": "stderr",
     "output_type": "stream",
     "text": [
      "/Users/daniel/Workspace/SGX-Full-OrderBook-Tick-Data-Trading-Strategy/venv/lib/python3.10/site-packages/sklearn/ensemble/_weight_boosting.py:519: FutureWarning: The SAMME.R algorithm (the default) is deprecated and will be removed in 1.6. Use the SAMME algorithm to circumvent this warning.\n",
      "  warnings.warn(\n"
     ]
    },
    {
     "name": "stdout",
     "output_type": "stream",
     "text": [
      "Accuracy = 1.0\n",
      "--------------------Rolling Window Time = 8.0--------------------\n",
      "Running GridSearchCV for RandomForestClassifier.\n",
      "{'criterion': 'entropy', 'max_depth': 10, 'max_features': None, 'min_samples_leaf': 3, 'min_samples_split': 2, 'n_estimators': 10}\n",
      "CV Best Score = 1.0\n",
      "Running GridSearchCV for ExtraTreesClassifier.\n",
      "{'criterion': 'entropy', 'max_depth': 10, 'max_features': None, 'min_samples_leaf': 3, 'min_samples_split': 2, 'n_estimators': 10}\n",
      "CV Best Score = 1.0\n",
      "Running GridSearchCV for AdaBoostClassifier.\n",
      "{'estimator__criterion': 'entropy', 'estimator__max_depth': None, 'estimator__max_features': None, 'estimator__min_samples_leaf': 3, 'estimator__min_samples_split': 2}\n",
      "CV Best Score = 1.0\n",
      "Running GridSearchCV for GradientBoostingClassifier.\n"
     ]
    },
    {
     "name": "stderr",
     "output_type": "stream",
     "text": [
      "/Users/daniel/Workspace/SGX-Full-OrderBook-Tick-Data-Trading-Strategy/venv/lib/python3.10/site-packages/sklearn/ensemble/_weight_boosting.py:519: FutureWarning: The SAMME.R algorithm (the default) is deprecated and will be removed in 1.6. Use the SAMME algorithm to circumvent this warning.\n",
      "  warnings.warn(\n",
      "/Users/daniel/Workspace/SGX-Full-OrderBook-Tick-Data-Trading-Strategy/venv/lib/python3.10/site-packages/sklearn/ensemble/_weight_boosting.py:519: FutureWarning: The SAMME.R algorithm (the default) is deprecated and will be removed in 1.6. Use the SAMME algorithm to circumvent this warning.\n",
      "  warnings.warn(\n",
      "/Users/daniel/Workspace/SGX-Full-OrderBook-Tick-Data-Trading-Strategy/venv/lib/python3.10/site-packages/sklearn/ensemble/_weight_boosting.py:519: FutureWarning: The SAMME.R algorithm (the default) is deprecated and will be removed in 1.6. Use the SAMME algorithm to circumvent this warning.\n",
      "  warnings.warn(\n",
      "/Users/daniel/Workspace/SGX-Full-OrderBook-Tick-Data-Trading-Strategy/venv/lib/python3.10/site-packages/sklearn/ensemble/_weight_boosting.py:519: FutureWarning: The SAMME.R algorithm (the default) is deprecated and will be removed in 1.6. Use the SAMME algorithm to circumvent this warning.\n",
      "  warnings.warn(\n",
      "/Users/daniel/Workspace/SGX-Full-OrderBook-Tick-Data-Trading-Strategy/venv/lib/python3.10/site-packages/sklearn/ensemble/_weight_boosting.py:519: FutureWarning: The SAMME.R algorithm (the default) is deprecated and will be removed in 1.6. Use the SAMME algorithm to circumvent this warning.\n",
      "  warnings.warn(\n",
      "/Users/daniel/Workspace/SGX-Full-OrderBook-Tick-Data-Trading-Strategy/venv/lib/python3.10/site-packages/sklearn/ensemble/_weight_boosting.py:519: FutureWarning: The SAMME.R algorithm (the default) is deprecated and will be removed in 1.6. Use the SAMME algorithm to circumvent this warning.\n",
      "  warnings.warn(\n"
     ]
    },
    {
     "name": "stdout",
     "output_type": "stream",
     "text": [
      "{'learning_rate': 0.1, 'max_depth': 10, 'max_features': None, 'min_samples_leaf': 3, 'min_samples_split': 2, 'n_estimators': 10, 'subsample': 1.0}\n",
      "CV Best Score = 1.0\n",
      "Running GridSearchCV for SVC.\n",
      "{'C': 1, 'kernel': 'linear'}\n",
      "CV Best Score = 1.0\n",
      "Running training & testing for RandomForestClassifier.\n",
      "Accuracy = 1.0\n",
      "Running training & testing for ExtraTreesClassifier.\n",
      "Accuracy = 1.0\n",
      "Running training & testing for AdaBoostClassifier.\n",
      "Accuracy = 1.0\n",
      "Running training & testing for GradientBoostingClassifier.\n",
      "Accuracy = 1.0\n",
      "Running training & testing for SVC.\n"
     ]
    },
    {
     "name": "stderr",
     "output_type": "stream",
     "text": [
      "/Users/daniel/Workspace/SGX-Full-OrderBook-Tick-Data-Trading-Strategy/venv/lib/python3.10/site-packages/sklearn/ensemble/_weight_boosting.py:519: FutureWarning: The SAMME.R algorithm (the default) is deprecated and will be removed in 1.6. Use the SAMME algorithm to circumvent this warning.\n",
      "  warnings.warn(\n"
     ]
    },
    {
     "name": "stdout",
     "output_type": "stream",
     "text": [
      "Accuracy = 1.0\n",
      "--------------------Rolling Window Time = 9.0--------------------\n",
      "Running GridSearchCV for RandomForestClassifier.\n",
      "{'criterion': 'entropy', 'max_depth': 10, 'max_features': None, 'min_samples_leaf': 3, 'min_samples_split': 2, 'n_estimators': 10}\n",
      "CV Best Score = 1.0\n",
      "Running GridSearchCV for ExtraTreesClassifier.\n",
      "{'criterion': 'entropy', 'max_depth': 10, 'max_features': None, 'min_samples_leaf': 3, 'min_samples_split': 2, 'n_estimators': 10}\n",
      "CV Best Score = 1.0\n",
      "Running GridSearchCV for AdaBoostClassifier.\n",
      "{'estimator__criterion': 'entropy', 'estimator__max_depth': None, 'estimator__max_features': None, 'estimator__min_samples_leaf': 3, 'estimator__min_samples_split': 2}\n",
      "CV Best Score = 1.0\n",
      "Running GridSearchCV for GradientBoostingClassifier.\n"
     ]
    },
    {
     "name": "stderr",
     "output_type": "stream",
     "text": [
      "/Users/daniel/Workspace/SGX-Full-OrderBook-Tick-Data-Trading-Strategy/venv/lib/python3.10/site-packages/sklearn/ensemble/_weight_boosting.py:519: FutureWarning: The SAMME.R algorithm (the default) is deprecated and will be removed in 1.6. Use the SAMME algorithm to circumvent this warning.\n",
      "  warnings.warn(\n",
      "/Users/daniel/Workspace/SGX-Full-OrderBook-Tick-Data-Trading-Strategy/venv/lib/python3.10/site-packages/sklearn/ensemble/_weight_boosting.py:519: FutureWarning: The SAMME.R algorithm (the default) is deprecated and will be removed in 1.6. Use the SAMME algorithm to circumvent this warning.\n",
      "  warnings.warn(\n",
      "/Users/daniel/Workspace/SGX-Full-OrderBook-Tick-Data-Trading-Strategy/venv/lib/python3.10/site-packages/sklearn/ensemble/_weight_boosting.py:519: FutureWarning: The SAMME.R algorithm (the default) is deprecated and will be removed in 1.6. Use the SAMME algorithm to circumvent this warning.\n",
      "  warnings.warn(\n",
      "/Users/daniel/Workspace/SGX-Full-OrderBook-Tick-Data-Trading-Strategy/venv/lib/python3.10/site-packages/sklearn/ensemble/_weight_boosting.py:519: FutureWarning: The SAMME.R algorithm (the default) is deprecated and will be removed in 1.6. Use the SAMME algorithm to circumvent this warning.\n",
      "  warnings.warn(\n",
      "/Users/daniel/Workspace/SGX-Full-OrderBook-Tick-Data-Trading-Strategy/venv/lib/python3.10/site-packages/sklearn/ensemble/_weight_boosting.py:519: FutureWarning: The SAMME.R algorithm (the default) is deprecated and will be removed in 1.6. Use the SAMME algorithm to circumvent this warning.\n",
      "  warnings.warn(\n",
      "/Users/daniel/Workspace/SGX-Full-OrderBook-Tick-Data-Trading-Strategy/venv/lib/python3.10/site-packages/sklearn/ensemble/_weight_boosting.py:519: FutureWarning: The SAMME.R algorithm (the default) is deprecated and will be removed in 1.6. Use the SAMME algorithm to circumvent this warning.\n",
      "  warnings.warn(\n"
     ]
    },
    {
     "name": "stdout",
     "output_type": "stream",
     "text": [
      "{'learning_rate': 0.1, 'max_depth': 10, 'max_features': None, 'min_samples_leaf': 3, 'min_samples_split': 2, 'n_estimators': 10, 'subsample': 1.0}\n",
      "CV Best Score = 1.0\n",
      "Running GridSearchCV for SVC.\n",
      "{'C': 1, 'kernel': 'linear'}\n",
      "CV Best Score = 1.0\n",
      "Running training & testing for RandomForestClassifier.\n",
      "Accuracy = 1.0\n",
      "Running training & testing for ExtraTreesClassifier.\n",
      "Accuracy = 1.0\n",
      "Running training & testing for AdaBoostClassifier.\n",
      "Accuracy = 1.0\n",
      "Running training & testing for GradientBoostingClassifier.\n",
      "Accuracy = 1.0\n",
      "Running training & testing for SVC.\n"
     ]
    },
    {
     "name": "stderr",
     "output_type": "stream",
     "text": [
      "/Users/daniel/Workspace/SGX-Full-OrderBook-Tick-Data-Trading-Strategy/venv/lib/python3.10/site-packages/sklearn/ensemble/_weight_boosting.py:519: FutureWarning: The SAMME.R algorithm (the default) is deprecated and will be removed in 1.6. Use the SAMME algorithm to circumvent this warning.\n",
      "  warnings.warn(\n"
     ]
    },
    {
     "name": "stdout",
     "output_type": "stream",
     "text": [
      "Accuracy = 1.0\n",
      "--------------------Rolling Window Time = 10.0--------------------\n",
      "Running GridSearchCV for RandomForestClassifier.\n",
      "{'criterion': 'entropy', 'max_depth': 10, 'max_features': None, 'min_samples_leaf': 3, 'min_samples_split': 2, 'n_estimators': 10}\n",
      "CV Best Score = 1.0\n",
      "Running GridSearchCV for ExtraTreesClassifier.\n",
      "{'criterion': 'entropy', 'max_depth': 10, 'max_features': None, 'min_samples_leaf': 3, 'min_samples_split': 2, 'n_estimators': 10}\n",
      "CV Best Score = 1.0\n",
      "Running GridSearchCV for AdaBoostClassifier.\n",
      "{'estimator__criterion': 'entropy', 'estimator__max_depth': None, 'estimator__max_features': None, 'estimator__min_samples_leaf': 3, 'estimator__min_samples_split': 2}\n",
      "CV Best Score = 1.0\n",
      "Running GridSearchCV for GradientBoostingClassifier.\n"
     ]
    },
    {
     "name": "stderr",
     "output_type": "stream",
     "text": [
      "/Users/daniel/Workspace/SGX-Full-OrderBook-Tick-Data-Trading-Strategy/venv/lib/python3.10/site-packages/sklearn/ensemble/_weight_boosting.py:519: FutureWarning: The SAMME.R algorithm (the default) is deprecated and will be removed in 1.6. Use the SAMME algorithm to circumvent this warning.\n",
      "  warnings.warn(\n",
      "/Users/daniel/Workspace/SGX-Full-OrderBook-Tick-Data-Trading-Strategy/venv/lib/python3.10/site-packages/sklearn/ensemble/_weight_boosting.py:519: FutureWarning: The SAMME.R algorithm (the default) is deprecated and will be removed in 1.6. Use the SAMME algorithm to circumvent this warning.\n",
      "  warnings.warn(\n",
      "/Users/daniel/Workspace/SGX-Full-OrderBook-Tick-Data-Trading-Strategy/venv/lib/python3.10/site-packages/sklearn/ensemble/_weight_boosting.py:519: FutureWarning: The SAMME.R algorithm (the default) is deprecated and will be removed in 1.6. Use the SAMME algorithm to circumvent this warning.\n",
      "  warnings.warn(\n",
      "/Users/daniel/Workspace/SGX-Full-OrderBook-Tick-Data-Trading-Strategy/venv/lib/python3.10/site-packages/sklearn/ensemble/_weight_boosting.py:519: FutureWarning: The SAMME.R algorithm (the default) is deprecated and will be removed in 1.6. Use the SAMME algorithm to circumvent this warning.\n",
      "  warnings.warn(\n",
      "/Users/daniel/Workspace/SGX-Full-OrderBook-Tick-Data-Trading-Strategy/venv/lib/python3.10/site-packages/sklearn/ensemble/_weight_boosting.py:519: FutureWarning: The SAMME.R algorithm (the default) is deprecated and will be removed in 1.6. Use the SAMME algorithm to circumvent this warning.\n",
      "  warnings.warn(\n",
      "/Users/daniel/Workspace/SGX-Full-OrderBook-Tick-Data-Trading-Strategy/venv/lib/python3.10/site-packages/sklearn/ensemble/_weight_boosting.py:519: FutureWarning: The SAMME.R algorithm (the default) is deprecated and will be removed in 1.6. Use the SAMME algorithm to circumvent this warning.\n",
      "  warnings.warn(\n"
     ]
    },
    {
     "name": "stdout",
     "output_type": "stream",
     "text": [
      "{'learning_rate': 0.1, 'max_depth': 10, 'max_features': None, 'min_samples_leaf': 3, 'min_samples_split': 2, 'n_estimators': 10, 'subsample': 1.0}\n",
      "CV Best Score = 1.0\n",
      "Running GridSearchCV for SVC.\n",
      "{'C': 1, 'kernel': 'linear'}\n",
      "CV Best Score = 1.0\n",
      "Running training & testing for RandomForestClassifier.\n",
      "Accuracy = 1.0\n",
      "Running training & testing for ExtraTreesClassifier.\n",
      "Accuracy = 1.0\n",
      "Running training & testing for AdaBoostClassifier.\n",
      "Accuracy = 1.0\n",
      "Running training & testing for GradientBoostingClassifier.\n",
      "Accuracy = 1.0\n",
      "Running training & testing for SVC.\n"
     ]
    },
    {
     "name": "stderr",
     "output_type": "stream",
     "text": [
      "/Users/daniel/Workspace/SGX-Full-OrderBook-Tick-Data-Trading-Strategy/venv/lib/python3.10/site-packages/sklearn/ensemble/_weight_boosting.py:519: FutureWarning: The SAMME.R algorithm (the default) is deprecated and will be removed in 1.6. Use the SAMME algorithm to circumvent this warning.\n",
      "  warnings.warn(\n"
     ]
    },
    {
     "name": "stdout",
     "output_type": "stream",
     "text": [
      "Accuracy = 1.0\n",
      "--------------------Rolling Window Time = 11.0--------------------\n",
      "Running GridSearchCV for RandomForestClassifier.\n",
      "{'criterion': 'entropy', 'max_depth': 10, 'max_features': None, 'min_samples_leaf': 3, 'min_samples_split': 2, 'n_estimators': 10}\n",
      "CV Best Score = 1.0\n",
      "Running GridSearchCV for ExtraTreesClassifier.\n",
      "{'criterion': 'entropy', 'max_depth': 10, 'max_features': None, 'min_samples_leaf': 3, 'min_samples_split': 2, 'n_estimators': 10}\n",
      "CV Best Score = 1.0\n",
      "Running GridSearchCV for AdaBoostClassifier.\n",
      "{'estimator__criterion': 'entropy', 'estimator__max_depth': None, 'estimator__max_features': None, 'estimator__min_samples_leaf': 3, 'estimator__min_samples_split': 2}\n",
      "CV Best Score = 1.0\n",
      "Running GridSearchCV for GradientBoostingClassifier.\n"
     ]
    },
    {
     "name": "stderr",
     "output_type": "stream",
     "text": [
      "/Users/daniel/Workspace/SGX-Full-OrderBook-Tick-Data-Trading-Strategy/venv/lib/python3.10/site-packages/sklearn/ensemble/_weight_boosting.py:519: FutureWarning: The SAMME.R algorithm (the default) is deprecated and will be removed in 1.6. Use the SAMME algorithm to circumvent this warning.\n",
      "  warnings.warn(\n",
      "/Users/daniel/Workspace/SGX-Full-OrderBook-Tick-Data-Trading-Strategy/venv/lib/python3.10/site-packages/sklearn/ensemble/_weight_boosting.py:519: FutureWarning: The SAMME.R algorithm (the default) is deprecated and will be removed in 1.6. Use the SAMME algorithm to circumvent this warning.\n",
      "  warnings.warn(\n",
      "/Users/daniel/Workspace/SGX-Full-OrderBook-Tick-Data-Trading-Strategy/venv/lib/python3.10/site-packages/sklearn/ensemble/_weight_boosting.py:519: FutureWarning: The SAMME.R algorithm (the default) is deprecated and will be removed in 1.6. Use the SAMME algorithm to circumvent this warning.\n",
      "  warnings.warn(\n",
      "/Users/daniel/Workspace/SGX-Full-OrderBook-Tick-Data-Trading-Strategy/venv/lib/python3.10/site-packages/sklearn/ensemble/_weight_boosting.py:519: FutureWarning: The SAMME.R algorithm (the default) is deprecated and will be removed in 1.6. Use the SAMME algorithm to circumvent this warning.\n",
      "  warnings.warn(\n",
      "/Users/daniel/Workspace/SGX-Full-OrderBook-Tick-Data-Trading-Strategy/venv/lib/python3.10/site-packages/sklearn/ensemble/_weight_boosting.py:519: FutureWarning: The SAMME.R algorithm (the default) is deprecated and will be removed in 1.6. Use the SAMME algorithm to circumvent this warning.\n",
      "  warnings.warn(\n",
      "/Users/daniel/Workspace/SGX-Full-OrderBook-Tick-Data-Trading-Strategy/venv/lib/python3.10/site-packages/sklearn/ensemble/_weight_boosting.py:519: FutureWarning: The SAMME.R algorithm (the default) is deprecated and will be removed in 1.6. Use the SAMME algorithm to circumvent this warning.\n",
      "  warnings.warn(\n"
     ]
    },
    {
     "name": "stdout",
     "output_type": "stream",
     "text": [
      "{'learning_rate': 0.1, 'max_depth': 10, 'max_features': None, 'min_samples_leaf': 3, 'min_samples_split': 2, 'n_estimators': 10, 'subsample': 1.0}\n",
      "CV Best Score = 1.0\n",
      "Running GridSearchCV for SVC.\n",
      "{'C': 1, 'kernel': 'linear'}\n",
      "CV Best Score = 1.0\n",
      "Running training & testing for RandomForestClassifier.\n",
      "Accuracy = 1.0\n",
      "Running training & testing for ExtraTreesClassifier.\n",
      "Accuracy = 1.0\n",
      "Running training & testing for AdaBoostClassifier.\n",
      "Accuracy = 1.0\n",
      "Running training & testing for GradientBoostingClassifier.\n",
      "Accuracy = 1.0\n",
      "Running training & testing for SVC.\n"
     ]
    },
    {
     "name": "stderr",
     "output_type": "stream",
     "text": [
      "/Users/daniel/Workspace/SGX-Full-OrderBook-Tick-Data-Trading-Strategy/venv/lib/python3.10/site-packages/sklearn/ensemble/_weight_boosting.py:519: FutureWarning: The SAMME.R algorithm (the default) is deprecated and will be removed in 1.6. Use the SAMME algorithm to circumvent this warning.\n",
      "  warnings.warn(\n"
     ]
    },
    {
     "name": "stdout",
     "output_type": "stream",
     "text": [
      "Accuracy = 1.0\n",
      "--------------------Rolling Window Time = 12.0--------------------\n",
      "Running GridSearchCV for RandomForestClassifier.\n",
      "{'criterion': 'entropy', 'max_depth': 10, 'max_features': None, 'min_samples_leaf': 3, 'min_samples_split': 2, 'n_estimators': 10}\n",
      "CV Best Score = 1.0\n",
      "Running GridSearchCV for ExtraTreesClassifier.\n",
      "{'criterion': 'entropy', 'max_depth': 10, 'max_features': None, 'min_samples_leaf': 3, 'min_samples_split': 2, 'n_estimators': 10}\n",
      "CV Best Score = 1.0\n",
      "Running GridSearchCV for AdaBoostClassifier.\n",
      "{'estimator__criterion': 'entropy', 'estimator__max_depth': None, 'estimator__max_features': None, 'estimator__min_samples_leaf': 3, 'estimator__min_samples_split': 2}\n",
      "CV Best Score = 1.0\n",
      "Running GridSearchCV for GradientBoostingClassifier.\n"
     ]
    },
    {
     "name": "stderr",
     "output_type": "stream",
     "text": [
      "/Users/daniel/Workspace/SGX-Full-OrderBook-Tick-Data-Trading-Strategy/venv/lib/python3.10/site-packages/sklearn/ensemble/_weight_boosting.py:519: FutureWarning: The SAMME.R algorithm (the default) is deprecated and will be removed in 1.6. Use the SAMME algorithm to circumvent this warning.\n",
      "  warnings.warn(\n",
      "/Users/daniel/Workspace/SGX-Full-OrderBook-Tick-Data-Trading-Strategy/venv/lib/python3.10/site-packages/sklearn/ensemble/_weight_boosting.py:519: FutureWarning: The SAMME.R algorithm (the default) is deprecated and will be removed in 1.6. Use the SAMME algorithm to circumvent this warning.\n",
      "  warnings.warn(\n",
      "/Users/daniel/Workspace/SGX-Full-OrderBook-Tick-Data-Trading-Strategy/venv/lib/python3.10/site-packages/sklearn/ensemble/_weight_boosting.py:519: FutureWarning: The SAMME.R algorithm (the default) is deprecated and will be removed in 1.6. Use the SAMME algorithm to circumvent this warning.\n",
      "  warnings.warn(\n",
      "/Users/daniel/Workspace/SGX-Full-OrderBook-Tick-Data-Trading-Strategy/venv/lib/python3.10/site-packages/sklearn/ensemble/_weight_boosting.py:519: FutureWarning: The SAMME.R algorithm (the default) is deprecated and will be removed in 1.6. Use the SAMME algorithm to circumvent this warning.\n",
      "  warnings.warn(\n",
      "/Users/daniel/Workspace/SGX-Full-OrderBook-Tick-Data-Trading-Strategy/venv/lib/python3.10/site-packages/sklearn/ensemble/_weight_boosting.py:519: FutureWarning: The SAMME.R algorithm (the default) is deprecated and will be removed in 1.6. Use the SAMME algorithm to circumvent this warning.\n",
      "  warnings.warn(\n",
      "/Users/daniel/Workspace/SGX-Full-OrderBook-Tick-Data-Trading-Strategy/venv/lib/python3.10/site-packages/sklearn/ensemble/_weight_boosting.py:519: FutureWarning: The SAMME.R algorithm (the default) is deprecated and will be removed in 1.6. Use the SAMME algorithm to circumvent this warning.\n",
      "  warnings.warn(\n"
     ]
    },
    {
     "name": "stdout",
     "output_type": "stream",
     "text": [
      "{'learning_rate': 0.1, 'max_depth': 10, 'max_features': None, 'min_samples_leaf': 3, 'min_samples_split': 2, 'n_estimators': 10, 'subsample': 1.0}\n",
      "CV Best Score = 1.0\n",
      "Running GridSearchCV for SVC.\n",
      "{'C': 1, 'kernel': 'linear'}\n",
      "CV Best Score = 1.0\n",
      "Running training & testing for RandomForestClassifier.\n",
      "Accuracy = 1.0\n",
      "Running training & testing for ExtraTreesClassifier.\n",
      "Accuracy = 1.0\n",
      "Running training & testing for AdaBoostClassifier.\n",
      "Accuracy = 1.0\n",
      "Running training & testing for GradientBoostingClassifier.\n",
      "Accuracy = 1.0\n",
      "Running training & testing for SVC.\n"
     ]
    },
    {
     "name": "stderr",
     "output_type": "stream",
     "text": [
      "/Users/daniel/Workspace/SGX-Full-OrderBook-Tick-Data-Trading-Strategy/venv/lib/python3.10/site-packages/sklearn/ensemble/_weight_boosting.py:519: FutureWarning: The SAMME.R algorithm (the default) is deprecated and will be removed in 1.6. Use the SAMME algorithm to circumvent this warning.\n",
      "  warnings.warn(\n"
     ]
    },
    {
     "name": "stdout",
     "output_type": "stream",
     "text": [
      "Accuracy = 1.0\n",
      "--------------------Rolling Window Time = 13.0--------------------\n",
      "Running GridSearchCV for RandomForestClassifier.\n",
      "{'criterion': 'entropy', 'max_depth': 10, 'max_features': None, 'min_samples_leaf': 3, 'min_samples_split': 2, 'n_estimators': 10}\n",
      "CV Best Score = 1.0\n",
      "Running GridSearchCV for ExtraTreesClassifier.\n",
      "{'criterion': 'entropy', 'max_depth': 10, 'max_features': None, 'min_samples_leaf': 3, 'min_samples_split': 2, 'n_estimators': 10}\n",
      "CV Best Score = 1.0\n",
      "Running GridSearchCV for AdaBoostClassifier.\n",
      "{'estimator__criterion': 'entropy', 'estimator__max_depth': None, 'estimator__max_features': None, 'estimator__min_samples_leaf': 3, 'estimator__min_samples_split': 2}\n",
      "CV Best Score = 1.0\n",
      "Running GridSearchCV for GradientBoostingClassifier.\n"
     ]
    },
    {
     "name": "stderr",
     "output_type": "stream",
     "text": [
      "/Users/daniel/Workspace/SGX-Full-OrderBook-Tick-Data-Trading-Strategy/venv/lib/python3.10/site-packages/sklearn/ensemble/_weight_boosting.py:519: FutureWarning: The SAMME.R algorithm (the default) is deprecated and will be removed in 1.6. Use the SAMME algorithm to circumvent this warning.\n",
      "  warnings.warn(\n",
      "/Users/daniel/Workspace/SGX-Full-OrderBook-Tick-Data-Trading-Strategy/venv/lib/python3.10/site-packages/sklearn/ensemble/_weight_boosting.py:519: FutureWarning: The SAMME.R algorithm (the default) is deprecated and will be removed in 1.6. Use the SAMME algorithm to circumvent this warning.\n",
      "  warnings.warn(\n",
      "/Users/daniel/Workspace/SGX-Full-OrderBook-Tick-Data-Trading-Strategy/venv/lib/python3.10/site-packages/sklearn/ensemble/_weight_boosting.py:519: FutureWarning: The SAMME.R algorithm (the default) is deprecated and will be removed in 1.6. Use the SAMME algorithm to circumvent this warning.\n",
      "  warnings.warn(\n",
      "/Users/daniel/Workspace/SGX-Full-OrderBook-Tick-Data-Trading-Strategy/venv/lib/python3.10/site-packages/sklearn/ensemble/_weight_boosting.py:519: FutureWarning: The SAMME.R algorithm (the default) is deprecated and will be removed in 1.6. Use the SAMME algorithm to circumvent this warning.\n",
      "  warnings.warn(\n",
      "/Users/daniel/Workspace/SGX-Full-OrderBook-Tick-Data-Trading-Strategy/venv/lib/python3.10/site-packages/sklearn/ensemble/_weight_boosting.py:519: FutureWarning: The SAMME.R algorithm (the default) is deprecated and will be removed in 1.6. Use the SAMME algorithm to circumvent this warning.\n",
      "  warnings.warn(\n",
      "/Users/daniel/Workspace/SGX-Full-OrderBook-Tick-Data-Trading-Strategy/venv/lib/python3.10/site-packages/sklearn/ensemble/_weight_boosting.py:519: FutureWarning: The SAMME.R algorithm (the default) is deprecated and will be removed in 1.6. Use the SAMME algorithm to circumvent this warning.\n",
      "  warnings.warn(\n"
     ]
    },
    {
     "name": "stdout",
     "output_type": "stream",
     "text": [
      "{'learning_rate': 0.1, 'max_depth': 10, 'max_features': None, 'min_samples_leaf': 3, 'min_samples_split': 2, 'n_estimators': 10, 'subsample': 1.0}\n",
      "CV Best Score = 1.0\n",
      "Running GridSearchCV for SVC.\n",
      "{'C': 1, 'kernel': 'linear'}\n",
      "CV Best Score = 1.0\n",
      "Running training & testing for RandomForestClassifier.\n",
      "Accuracy = 1.0\n",
      "Running training & testing for ExtraTreesClassifier.\n",
      "Accuracy = 1.0\n",
      "Running training & testing for AdaBoostClassifier.\n",
      "Accuracy = 1.0\n",
      "Running training & testing for GradientBoostingClassifier.\n",
      "Accuracy = 1.0\n",
      "Running training & testing for SVC.\n"
     ]
    },
    {
     "name": "stderr",
     "output_type": "stream",
     "text": [
      "/Users/daniel/Workspace/SGX-Full-OrderBook-Tick-Data-Trading-Strategy/venv/lib/python3.10/site-packages/sklearn/ensemble/_weight_boosting.py:519: FutureWarning: The SAMME.R algorithm (the default) is deprecated and will be removed in 1.6. Use the SAMME algorithm to circumvent this warning.\n",
      "  warnings.warn(\n"
     ]
    },
    {
     "name": "stdout",
     "output_type": "stream",
     "text": [
      "Accuracy = 1.0\n",
      "--------------------Rolling Window Time = 14.0--------------------\n",
      "Running GridSearchCV for RandomForestClassifier.\n",
      "{'criterion': 'entropy', 'max_depth': 10, 'max_features': None, 'min_samples_leaf': 3, 'min_samples_split': 2, 'n_estimators': 10}\n",
      "CV Best Score = 1.0\n",
      "Running GridSearchCV for ExtraTreesClassifier.\n",
      "{'criterion': 'entropy', 'max_depth': 10, 'max_features': None, 'min_samples_leaf': 3, 'min_samples_split': 2, 'n_estimators': 10}\n",
      "CV Best Score = 1.0\n",
      "Running GridSearchCV for AdaBoostClassifier.\n",
      "{'estimator__criterion': 'entropy', 'estimator__max_depth': None, 'estimator__max_features': None, 'estimator__min_samples_leaf': 3, 'estimator__min_samples_split': 2}\n",
      "CV Best Score = 1.0\n",
      "Running GridSearchCV for GradientBoostingClassifier.\n"
     ]
    },
    {
     "name": "stderr",
     "output_type": "stream",
     "text": [
      "/Users/daniel/Workspace/SGX-Full-OrderBook-Tick-Data-Trading-Strategy/venv/lib/python3.10/site-packages/sklearn/ensemble/_weight_boosting.py:519: FutureWarning: The SAMME.R algorithm (the default) is deprecated and will be removed in 1.6. Use the SAMME algorithm to circumvent this warning.\n",
      "  warnings.warn(\n",
      "/Users/daniel/Workspace/SGX-Full-OrderBook-Tick-Data-Trading-Strategy/venv/lib/python3.10/site-packages/sklearn/ensemble/_weight_boosting.py:519: FutureWarning: The SAMME.R algorithm (the default) is deprecated and will be removed in 1.6. Use the SAMME algorithm to circumvent this warning.\n",
      "  warnings.warn(\n",
      "/Users/daniel/Workspace/SGX-Full-OrderBook-Tick-Data-Trading-Strategy/venv/lib/python3.10/site-packages/sklearn/ensemble/_weight_boosting.py:519: FutureWarning: The SAMME.R algorithm (the default) is deprecated and will be removed in 1.6. Use the SAMME algorithm to circumvent this warning.\n",
      "  warnings.warn(\n",
      "/Users/daniel/Workspace/SGX-Full-OrderBook-Tick-Data-Trading-Strategy/venv/lib/python3.10/site-packages/sklearn/ensemble/_weight_boosting.py:519: FutureWarning: The SAMME.R algorithm (the default) is deprecated and will be removed in 1.6. Use the SAMME algorithm to circumvent this warning.\n",
      "  warnings.warn(\n",
      "/Users/daniel/Workspace/SGX-Full-OrderBook-Tick-Data-Trading-Strategy/venv/lib/python3.10/site-packages/sklearn/ensemble/_weight_boosting.py:519: FutureWarning: The SAMME.R algorithm (the default) is deprecated and will be removed in 1.6. Use the SAMME algorithm to circumvent this warning.\n",
      "  warnings.warn(\n",
      "/Users/daniel/Workspace/SGX-Full-OrderBook-Tick-Data-Trading-Strategy/venv/lib/python3.10/site-packages/sklearn/ensemble/_weight_boosting.py:519: FutureWarning: The SAMME.R algorithm (the default) is deprecated and will be removed in 1.6. Use the SAMME algorithm to circumvent this warning.\n",
      "  warnings.warn(\n"
     ]
    },
    {
     "name": "stdout",
     "output_type": "stream",
     "text": [
      "{'learning_rate': 0.1, 'max_depth': 10, 'max_features': None, 'min_samples_leaf': 3, 'min_samples_split': 2, 'n_estimators': 10, 'subsample': 1.0}\n",
      "CV Best Score = 1.0\n",
      "Running GridSearchCV for SVC.\n",
      "{'C': 1, 'kernel': 'linear'}\n",
      "CV Best Score = 1.0\n",
      "Running training & testing for RandomForestClassifier.\n",
      "Accuracy = 1.0\n",
      "Running training & testing for ExtraTreesClassifier.\n",
      "Accuracy = 1.0\n",
      "Running training & testing for AdaBoostClassifier.\n",
      "Accuracy = 1.0\n",
      "Running training & testing for GradientBoostingClassifier.\n",
      "Accuracy = 1.0\n",
      "Running training & testing for SVC.\n"
     ]
    },
    {
     "name": "stderr",
     "output_type": "stream",
     "text": [
      "/Users/daniel/Workspace/SGX-Full-OrderBook-Tick-Data-Trading-Strategy/venv/lib/python3.10/site-packages/sklearn/ensemble/_weight_boosting.py:519: FutureWarning: The SAMME.R algorithm (the default) is deprecated and will be removed in 1.6. Use the SAMME algorithm to circumvent this warning.\n",
      "  warnings.warn(\n"
     ]
    },
    {
     "name": "stdout",
     "output_type": "stream",
     "text": [
      "Accuracy = 1.0\n",
      "--------------------Rolling Window Time = 15.0--------------------\n",
      "Running GridSearchCV for RandomForestClassifier.\n",
      "{'criterion': 'entropy', 'max_depth': 10, 'max_features': None, 'min_samples_leaf': 3, 'min_samples_split': 2, 'n_estimators': 10}\n",
      "CV Best Score = 1.0\n",
      "Running GridSearchCV for ExtraTreesClassifier.\n",
      "{'criterion': 'entropy', 'max_depth': 10, 'max_features': None, 'min_samples_leaf': 3, 'min_samples_split': 2, 'n_estimators': 10}\n",
      "CV Best Score = 1.0\n",
      "Running GridSearchCV for AdaBoostClassifier.\n",
      "{'estimator__criterion': 'entropy', 'estimator__max_depth': None, 'estimator__max_features': None, 'estimator__min_samples_leaf': 3, 'estimator__min_samples_split': 2}\n",
      "CV Best Score = 1.0\n",
      "Running GridSearchCV for GradientBoostingClassifier.\n"
     ]
    },
    {
     "name": "stderr",
     "output_type": "stream",
     "text": [
      "/Users/daniel/Workspace/SGX-Full-OrderBook-Tick-Data-Trading-Strategy/venv/lib/python3.10/site-packages/sklearn/ensemble/_weight_boosting.py:519: FutureWarning: The SAMME.R algorithm (the default) is deprecated and will be removed in 1.6. Use the SAMME algorithm to circumvent this warning.\n",
      "  warnings.warn(\n",
      "/Users/daniel/Workspace/SGX-Full-OrderBook-Tick-Data-Trading-Strategy/venv/lib/python3.10/site-packages/sklearn/ensemble/_weight_boosting.py:519: FutureWarning: The SAMME.R algorithm (the default) is deprecated and will be removed in 1.6. Use the SAMME algorithm to circumvent this warning.\n",
      "  warnings.warn(\n",
      "/Users/daniel/Workspace/SGX-Full-OrderBook-Tick-Data-Trading-Strategy/venv/lib/python3.10/site-packages/sklearn/ensemble/_weight_boosting.py:519: FutureWarning: The SAMME.R algorithm (the default) is deprecated and will be removed in 1.6. Use the SAMME algorithm to circumvent this warning.\n",
      "  warnings.warn(\n",
      "/Users/daniel/Workspace/SGX-Full-OrderBook-Tick-Data-Trading-Strategy/venv/lib/python3.10/site-packages/sklearn/ensemble/_weight_boosting.py:519: FutureWarning: The SAMME.R algorithm (the default) is deprecated and will be removed in 1.6. Use the SAMME algorithm to circumvent this warning.\n",
      "  warnings.warn(\n",
      "/Users/daniel/Workspace/SGX-Full-OrderBook-Tick-Data-Trading-Strategy/venv/lib/python3.10/site-packages/sklearn/ensemble/_weight_boosting.py:519: FutureWarning: The SAMME.R algorithm (the default) is deprecated and will be removed in 1.6. Use the SAMME algorithm to circumvent this warning.\n",
      "  warnings.warn(\n",
      "/Users/daniel/Workspace/SGX-Full-OrderBook-Tick-Data-Trading-Strategy/venv/lib/python3.10/site-packages/sklearn/ensemble/_weight_boosting.py:519: FutureWarning: The SAMME.R algorithm (the default) is deprecated and will be removed in 1.6. Use the SAMME algorithm to circumvent this warning.\n",
      "  warnings.warn(\n"
     ]
    },
    {
     "name": "stdout",
     "output_type": "stream",
     "text": [
      "{'learning_rate': 0.1, 'max_depth': 10, 'max_features': None, 'min_samples_leaf': 3, 'min_samples_split': 2, 'n_estimators': 10, 'subsample': 1.0}\n",
      "CV Best Score = 1.0\n",
      "Running GridSearchCV for SVC.\n",
      "{'C': 1, 'kernel': 'linear'}\n",
      "CV Best Score = 1.0\n",
      "Running training & testing for RandomForestClassifier.\n",
      "Accuracy = 1.0\n",
      "Running training & testing for ExtraTreesClassifier.\n",
      "Accuracy = 1.0\n",
      "Running training & testing for AdaBoostClassifier.\n",
      "Accuracy = 1.0\n",
      "Running training & testing for GradientBoostingClassifier.\n",
      "Accuracy = 1.0\n",
      "Running training & testing for SVC.\n"
     ]
    },
    {
     "name": "stderr",
     "output_type": "stream",
     "text": [
      "/Users/daniel/Workspace/SGX-Full-OrderBook-Tick-Data-Trading-Strategy/venv/lib/python3.10/site-packages/sklearn/ensemble/_weight_boosting.py:519: FutureWarning: The SAMME.R algorithm (the default) is deprecated and will be removed in 1.6. Use the SAMME algorithm to circumvent this warning.\n",
      "  warnings.warn(\n"
     ]
    },
    {
     "name": "stdout",
     "output_type": "stream",
     "text": [
      "Accuracy = 1.0\n",
      "--------------------Rolling Window Time = 16.0--------------------\n",
      "Running GridSearchCV for RandomForestClassifier.\n",
      "{'criterion': 'entropy', 'max_depth': 10, 'max_features': None, 'min_samples_leaf': 3, 'min_samples_split': 2, 'n_estimators': 10}\n",
      "CV Best Score = 1.0\n",
      "Running GridSearchCV for ExtraTreesClassifier.\n",
      "{'criterion': 'entropy', 'max_depth': 10, 'max_features': None, 'min_samples_leaf': 3, 'min_samples_split': 2, 'n_estimators': 10}\n",
      "CV Best Score = 1.0\n",
      "Running GridSearchCV for AdaBoostClassifier.\n",
      "{'estimator__criterion': 'entropy', 'estimator__max_depth': None, 'estimator__max_features': None, 'estimator__min_samples_leaf': 3, 'estimator__min_samples_split': 2}\n",
      "CV Best Score = 1.0\n",
      "Running GridSearchCV for GradientBoostingClassifier.\n"
     ]
    },
    {
     "name": "stderr",
     "output_type": "stream",
     "text": [
      "/Users/daniel/Workspace/SGX-Full-OrderBook-Tick-Data-Trading-Strategy/venv/lib/python3.10/site-packages/sklearn/ensemble/_weight_boosting.py:519: FutureWarning: The SAMME.R algorithm (the default) is deprecated and will be removed in 1.6. Use the SAMME algorithm to circumvent this warning.\n",
      "  warnings.warn(\n",
      "/Users/daniel/Workspace/SGX-Full-OrderBook-Tick-Data-Trading-Strategy/venv/lib/python3.10/site-packages/sklearn/ensemble/_weight_boosting.py:519: FutureWarning: The SAMME.R algorithm (the default) is deprecated and will be removed in 1.6. Use the SAMME algorithm to circumvent this warning.\n",
      "  warnings.warn(\n",
      "/Users/daniel/Workspace/SGX-Full-OrderBook-Tick-Data-Trading-Strategy/venv/lib/python3.10/site-packages/sklearn/ensemble/_weight_boosting.py:519: FutureWarning: The SAMME.R algorithm (the default) is deprecated and will be removed in 1.6. Use the SAMME algorithm to circumvent this warning.\n",
      "  warnings.warn(\n",
      "/Users/daniel/Workspace/SGX-Full-OrderBook-Tick-Data-Trading-Strategy/venv/lib/python3.10/site-packages/sklearn/ensemble/_weight_boosting.py:519: FutureWarning: The SAMME.R algorithm (the default) is deprecated and will be removed in 1.6. Use the SAMME algorithm to circumvent this warning.\n",
      "  warnings.warn(\n",
      "/Users/daniel/Workspace/SGX-Full-OrderBook-Tick-Data-Trading-Strategy/venv/lib/python3.10/site-packages/sklearn/ensemble/_weight_boosting.py:519: FutureWarning: The SAMME.R algorithm (the default) is deprecated and will be removed in 1.6. Use the SAMME algorithm to circumvent this warning.\n",
      "  warnings.warn(\n",
      "/Users/daniel/Workspace/SGX-Full-OrderBook-Tick-Data-Trading-Strategy/venv/lib/python3.10/site-packages/sklearn/ensemble/_weight_boosting.py:519: FutureWarning: The SAMME.R algorithm (the default) is deprecated and will be removed in 1.6. Use the SAMME algorithm to circumvent this warning.\n",
      "  warnings.warn(\n"
     ]
    },
    {
     "name": "stdout",
     "output_type": "stream",
     "text": [
      "{'learning_rate': 0.1, 'max_depth': 10, 'max_features': None, 'min_samples_leaf': 3, 'min_samples_split': 2, 'n_estimators': 10, 'subsample': 1.0}\n",
      "CV Best Score = 1.0\n",
      "Running GridSearchCV for SVC.\n",
      "{'C': 1, 'kernel': 'linear'}\n",
      "CV Best Score = 1.0\n",
      "Running training & testing for RandomForestClassifier.\n",
      "Accuracy = 1.0\n",
      "Running training & testing for ExtraTreesClassifier.\n",
      "Accuracy = 1.0\n",
      "Running training & testing for AdaBoostClassifier.\n",
      "Accuracy = 1.0\n",
      "Running training & testing for GradientBoostingClassifier.\n",
      "Accuracy = 1.0\n",
      "Running training & testing for SVC.\n"
     ]
    },
    {
     "name": "stderr",
     "output_type": "stream",
     "text": [
      "/Users/daniel/Workspace/SGX-Full-OrderBook-Tick-Data-Trading-Strategy/venv/lib/python3.10/site-packages/sklearn/ensemble/_weight_boosting.py:519: FutureWarning: The SAMME.R algorithm (the default) is deprecated and will be removed in 1.6. Use the SAMME algorithm to circumvent this warning.\n",
      "  warnings.warn(\n"
     ]
    },
    {
     "name": "stdout",
     "output_type": "stream",
     "text": [
      "Accuracy = 1.0\n",
      "--------------------Rolling Window Time = 17.0--------------------\n",
      "Running GridSearchCV for RandomForestClassifier.\n",
      "{'criterion': 'entropy', 'max_depth': 10, 'max_features': None, 'min_samples_leaf': 3, 'min_samples_split': 2, 'n_estimators': 10}\n",
      "CV Best Score = 1.0\n",
      "Running GridSearchCV for ExtraTreesClassifier.\n",
      "{'criterion': 'entropy', 'max_depth': 10, 'max_features': None, 'min_samples_leaf': 3, 'min_samples_split': 2, 'n_estimators': 10}\n",
      "CV Best Score = 1.0\n",
      "Running GridSearchCV for AdaBoostClassifier.\n",
      "{'estimator__criterion': 'entropy', 'estimator__max_depth': None, 'estimator__max_features': None, 'estimator__min_samples_leaf': 3, 'estimator__min_samples_split': 2}\n",
      "CV Best Score = 1.0\n",
      "Running GridSearchCV for GradientBoostingClassifier.\n"
     ]
    },
    {
     "name": "stderr",
     "output_type": "stream",
     "text": [
      "/Users/daniel/Workspace/SGX-Full-OrderBook-Tick-Data-Trading-Strategy/venv/lib/python3.10/site-packages/sklearn/ensemble/_weight_boosting.py:519: FutureWarning: The SAMME.R algorithm (the default) is deprecated and will be removed in 1.6. Use the SAMME algorithm to circumvent this warning.\n",
      "  warnings.warn(\n",
      "/Users/daniel/Workspace/SGX-Full-OrderBook-Tick-Data-Trading-Strategy/venv/lib/python3.10/site-packages/sklearn/ensemble/_weight_boosting.py:519: FutureWarning: The SAMME.R algorithm (the default) is deprecated and will be removed in 1.6. Use the SAMME algorithm to circumvent this warning.\n",
      "  warnings.warn(\n",
      "/Users/daniel/Workspace/SGX-Full-OrderBook-Tick-Data-Trading-Strategy/venv/lib/python3.10/site-packages/sklearn/ensemble/_weight_boosting.py:519: FutureWarning: The SAMME.R algorithm (the default) is deprecated and will be removed in 1.6. Use the SAMME algorithm to circumvent this warning.\n",
      "  warnings.warn(\n",
      "/Users/daniel/Workspace/SGX-Full-OrderBook-Tick-Data-Trading-Strategy/venv/lib/python3.10/site-packages/sklearn/ensemble/_weight_boosting.py:519: FutureWarning: The SAMME.R algorithm (the default) is deprecated and will be removed in 1.6. Use the SAMME algorithm to circumvent this warning.\n",
      "  warnings.warn(\n",
      "/Users/daniel/Workspace/SGX-Full-OrderBook-Tick-Data-Trading-Strategy/venv/lib/python3.10/site-packages/sklearn/ensemble/_weight_boosting.py:519: FutureWarning: The SAMME.R algorithm (the default) is deprecated and will be removed in 1.6. Use the SAMME algorithm to circumvent this warning.\n",
      "  warnings.warn(\n",
      "/Users/daniel/Workspace/SGX-Full-OrderBook-Tick-Data-Trading-Strategy/venv/lib/python3.10/site-packages/sklearn/ensemble/_weight_boosting.py:519: FutureWarning: The SAMME.R algorithm (the default) is deprecated and will be removed in 1.6. Use the SAMME algorithm to circumvent this warning.\n",
      "  warnings.warn(\n"
     ]
    },
    {
     "name": "stdout",
     "output_type": "stream",
     "text": [
      "{'learning_rate': 0.1, 'max_depth': 10, 'max_features': None, 'min_samples_leaf': 3, 'min_samples_split': 2, 'n_estimators': 10, 'subsample': 1.0}\n",
      "CV Best Score = 1.0\n",
      "Running GridSearchCV for SVC.\n",
      "{'C': 1, 'kernel': 'linear'}\n",
      "CV Best Score = 1.0\n",
      "Running training & testing for RandomForestClassifier.\n",
      "Accuracy = 1.0\n",
      "Running training & testing for ExtraTreesClassifier.\n",
      "Accuracy = 1.0\n",
      "Running training & testing for AdaBoostClassifier.\n",
      "Accuracy = 1.0\n",
      "Running training & testing for GradientBoostingClassifier.\n",
      "Accuracy = 1.0\n",
      "Running training & testing for SVC.\n"
     ]
    },
    {
     "name": "stderr",
     "output_type": "stream",
     "text": [
      "/Users/daniel/Workspace/SGX-Full-OrderBook-Tick-Data-Trading-Strategy/venv/lib/python3.10/site-packages/sklearn/ensemble/_weight_boosting.py:519: FutureWarning: The SAMME.R algorithm (the default) is deprecated and will be removed in 1.6. Use the SAMME algorithm to circumvent this warning.\n",
      "  warnings.warn(\n"
     ]
    },
    {
     "name": "stdout",
     "output_type": "stream",
     "text": [
      "Accuracy = 1.0\n",
      "--------------------Rolling Window Time = 18.0--------------------\n",
      "Running GridSearchCV for RandomForestClassifier.\n",
      "{'criterion': 'entropy', 'max_depth': 10, 'max_features': None, 'min_samples_leaf': 3, 'min_samples_split': 2, 'n_estimators': 10}\n",
      "CV Best Score = 1.0\n",
      "Running GridSearchCV for ExtraTreesClassifier.\n",
      "{'criterion': 'entropy', 'max_depth': 10, 'max_features': None, 'min_samples_leaf': 3, 'min_samples_split': 2, 'n_estimators': 10}\n",
      "CV Best Score = 1.0\n",
      "Running GridSearchCV for AdaBoostClassifier.\n",
      "{'estimator__criterion': 'entropy', 'estimator__max_depth': None, 'estimator__max_features': None, 'estimator__min_samples_leaf': 3, 'estimator__min_samples_split': 2}\n",
      "CV Best Score = 1.0\n",
      "Running GridSearchCV for GradientBoostingClassifier.\n"
     ]
    },
    {
     "name": "stderr",
     "output_type": "stream",
     "text": [
      "/Users/daniel/Workspace/SGX-Full-OrderBook-Tick-Data-Trading-Strategy/venv/lib/python3.10/site-packages/sklearn/ensemble/_weight_boosting.py:519: FutureWarning: The SAMME.R algorithm (the default) is deprecated and will be removed in 1.6. Use the SAMME algorithm to circumvent this warning.\n",
      "  warnings.warn(\n",
      "/Users/daniel/Workspace/SGX-Full-OrderBook-Tick-Data-Trading-Strategy/venv/lib/python3.10/site-packages/sklearn/ensemble/_weight_boosting.py:519: FutureWarning: The SAMME.R algorithm (the default) is deprecated and will be removed in 1.6. Use the SAMME algorithm to circumvent this warning.\n",
      "  warnings.warn(\n",
      "/Users/daniel/Workspace/SGX-Full-OrderBook-Tick-Data-Trading-Strategy/venv/lib/python3.10/site-packages/sklearn/ensemble/_weight_boosting.py:519: FutureWarning: The SAMME.R algorithm (the default) is deprecated and will be removed in 1.6. Use the SAMME algorithm to circumvent this warning.\n",
      "  warnings.warn(\n",
      "/Users/daniel/Workspace/SGX-Full-OrderBook-Tick-Data-Trading-Strategy/venv/lib/python3.10/site-packages/sklearn/ensemble/_weight_boosting.py:519: FutureWarning: The SAMME.R algorithm (the default) is deprecated and will be removed in 1.6. Use the SAMME algorithm to circumvent this warning.\n",
      "  warnings.warn(\n",
      "/Users/daniel/Workspace/SGX-Full-OrderBook-Tick-Data-Trading-Strategy/venv/lib/python3.10/site-packages/sklearn/ensemble/_weight_boosting.py:519: FutureWarning: The SAMME.R algorithm (the default) is deprecated and will be removed in 1.6. Use the SAMME algorithm to circumvent this warning.\n",
      "  warnings.warn(\n",
      "/Users/daniel/Workspace/SGX-Full-OrderBook-Tick-Data-Trading-Strategy/venv/lib/python3.10/site-packages/sklearn/ensemble/_weight_boosting.py:519: FutureWarning: The SAMME.R algorithm (the default) is deprecated and will be removed in 1.6. Use the SAMME algorithm to circumvent this warning.\n",
      "  warnings.warn(\n"
     ]
    },
    {
     "name": "stdout",
     "output_type": "stream",
     "text": [
      "{'learning_rate': 0.1, 'max_depth': 10, 'max_features': None, 'min_samples_leaf': 3, 'min_samples_split': 2, 'n_estimators': 10, 'subsample': 1.0}\n",
      "CV Best Score = 1.0\n",
      "Running GridSearchCV for SVC.\n",
      "{'C': 1, 'kernel': 'linear'}\n",
      "CV Best Score = 1.0\n",
      "Running training & testing for RandomForestClassifier.\n",
      "Accuracy = 1.0\n",
      "Running training & testing for ExtraTreesClassifier.\n",
      "Accuracy = 1.0\n",
      "Running training & testing for AdaBoostClassifier.\n",
      "Accuracy = 1.0\n",
      "Running training & testing for GradientBoostingClassifier.\n",
      "Accuracy = 1.0\n",
      "Running training & testing for SVC.\n"
     ]
    },
    {
     "name": "stderr",
     "output_type": "stream",
     "text": [
      "/Users/daniel/Workspace/SGX-Full-OrderBook-Tick-Data-Trading-Strategy/venv/lib/python3.10/site-packages/sklearn/ensemble/_weight_boosting.py:519: FutureWarning: The SAMME.R algorithm (the default) is deprecated and will be removed in 1.6. Use the SAMME algorithm to circumvent this warning.\n",
      "  warnings.warn(\n"
     ]
    },
    {
     "name": "stdout",
     "output_type": "stream",
     "text": [
      "Accuracy = 1.0\n",
      "--------------------Rolling Window Time = 19.0--------------------\n",
      "Running GridSearchCV for RandomForestClassifier.\n",
      "{'criterion': 'entropy', 'max_depth': 10, 'max_features': None, 'min_samples_leaf': 3, 'min_samples_split': 2, 'n_estimators': 10}\n",
      "CV Best Score = 1.0\n",
      "Running GridSearchCV for ExtraTreesClassifier.\n",
      "{'criterion': 'entropy', 'max_depth': 10, 'max_features': None, 'min_samples_leaf': 3, 'min_samples_split': 2, 'n_estimators': 10}\n",
      "CV Best Score = 1.0\n",
      "Running GridSearchCV for AdaBoostClassifier.\n",
      "{'estimator__criterion': 'entropy', 'estimator__max_depth': None, 'estimator__max_features': None, 'estimator__min_samples_leaf': 3, 'estimator__min_samples_split': 2}\n",
      "CV Best Score = 1.0\n",
      "Running GridSearchCV for GradientBoostingClassifier.\n"
     ]
    },
    {
     "name": "stderr",
     "output_type": "stream",
     "text": [
      "/Users/daniel/Workspace/SGX-Full-OrderBook-Tick-Data-Trading-Strategy/venv/lib/python3.10/site-packages/sklearn/ensemble/_weight_boosting.py:519: FutureWarning: The SAMME.R algorithm (the default) is deprecated and will be removed in 1.6. Use the SAMME algorithm to circumvent this warning.\n",
      "  warnings.warn(\n",
      "/Users/daniel/Workspace/SGX-Full-OrderBook-Tick-Data-Trading-Strategy/venv/lib/python3.10/site-packages/sklearn/ensemble/_weight_boosting.py:519: FutureWarning: The SAMME.R algorithm (the default) is deprecated and will be removed in 1.6. Use the SAMME algorithm to circumvent this warning.\n",
      "  warnings.warn(\n",
      "/Users/daniel/Workspace/SGX-Full-OrderBook-Tick-Data-Trading-Strategy/venv/lib/python3.10/site-packages/sklearn/ensemble/_weight_boosting.py:519: FutureWarning: The SAMME.R algorithm (the default) is deprecated and will be removed in 1.6. Use the SAMME algorithm to circumvent this warning.\n",
      "  warnings.warn(\n",
      "/Users/daniel/Workspace/SGX-Full-OrderBook-Tick-Data-Trading-Strategy/venv/lib/python3.10/site-packages/sklearn/ensemble/_weight_boosting.py:519: FutureWarning: The SAMME.R algorithm (the default) is deprecated and will be removed in 1.6. Use the SAMME algorithm to circumvent this warning.\n",
      "  warnings.warn(\n",
      "/Users/daniel/Workspace/SGX-Full-OrderBook-Tick-Data-Trading-Strategy/venv/lib/python3.10/site-packages/sklearn/ensemble/_weight_boosting.py:519: FutureWarning: The SAMME.R algorithm (the default) is deprecated and will be removed in 1.6. Use the SAMME algorithm to circumvent this warning.\n",
      "  warnings.warn(\n",
      "/Users/daniel/Workspace/SGX-Full-OrderBook-Tick-Data-Trading-Strategy/venv/lib/python3.10/site-packages/sklearn/ensemble/_weight_boosting.py:519: FutureWarning: The SAMME.R algorithm (the default) is deprecated and will be removed in 1.6. Use the SAMME algorithm to circumvent this warning.\n",
      "  warnings.warn(\n"
     ]
    },
    {
     "name": "stdout",
     "output_type": "stream",
     "text": [
      "{'learning_rate': 0.1, 'max_depth': 10, 'max_features': None, 'min_samples_leaf': 3, 'min_samples_split': 2, 'n_estimators': 10, 'subsample': 1.0}\n",
      "CV Best Score = 1.0\n",
      "Running GridSearchCV for SVC.\n",
      "{'C': 1, 'kernel': 'linear'}\n",
      "CV Best Score = 1.0\n",
      "Running training & testing for RandomForestClassifier.\n",
      "Accuracy = 1.0\n",
      "Running training & testing for ExtraTreesClassifier.\n",
      "Accuracy = 1.0\n",
      "Running training & testing for AdaBoostClassifier.\n",
      "Accuracy = 1.0\n",
      "Running training & testing for GradientBoostingClassifier.\n",
      "Accuracy = 1.0\n",
      "Running training & testing for SVC.\n"
     ]
    },
    {
     "name": "stderr",
     "output_type": "stream",
     "text": [
      "/Users/daniel/Workspace/SGX-Full-OrderBook-Tick-Data-Trading-Strategy/venv/lib/python3.10/site-packages/sklearn/ensemble/_weight_boosting.py:519: FutureWarning: The SAMME.R algorithm (the default) is deprecated and will be removed in 1.6. Use the SAMME algorithm to circumvent this warning.\n",
      "  warnings.warn(\n"
     ]
    },
    {
     "name": "stdout",
     "output_type": "stream",
     "text": [
      "Accuracy = 1.0\n",
      "--------------------Rolling Window Time = 20.0--------------------\n",
      "Running GridSearchCV for RandomForestClassifier.\n",
      "{'criterion': 'entropy', 'max_depth': 10, 'max_features': None, 'min_samples_leaf': 3, 'min_samples_split': 2, 'n_estimators': 10}\n",
      "CV Best Score = 1.0\n",
      "Running GridSearchCV for ExtraTreesClassifier.\n",
      "{'criterion': 'entropy', 'max_depth': 10, 'max_features': None, 'min_samples_leaf': 3, 'min_samples_split': 2, 'n_estimators': 10}\n",
      "CV Best Score = 1.0\n",
      "Running GridSearchCV for AdaBoostClassifier.\n",
      "{'estimator__criterion': 'entropy', 'estimator__max_depth': None, 'estimator__max_features': None, 'estimator__min_samples_leaf': 3, 'estimator__min_samples_split': 2}\n",
      "CV Best Score = 1.0\n",
      "Running GridSearchCV for GradientBoostingClassifier.\n"
     ]
    },
    {
     "name": "stderr",
     "output_type": "stream",
     "text": [
      "/Users/daniel/Workspace/SGX-Full-OrderBook-Tick-Data-Trading-Strategy/venv/lib/python3.10/site-packages/sklearn/ensemble/_weight_boosting.py:519: FutureWarning: The SAMME.R algorithm (the default) is deprecated and will be removed in 1.6. Use the SAMME algorithm to circumvent this warning.\n",
      "  warnings.warn(\n",
      "/Users/daniel/Workspace/SGX-Full-OrderBook-Tick-Data-Trading-Strategy/venv/lib/python3.10/site-packages/sklearn/ensemble/_weight_boosting.py:519: FutureWarning: The SAMME.R algorithm (the default) is deprecated and will be removed in 1.6. Use the SAMME algorithm to circumvent this warning.\n",
      "  warnings.warn(\n",
      "/Users/daniel/Workspace/SGX-Full-OrderBook-Tick-Data-Trading-Strategy/venv/lib/python3.10/site-packages/sklearn/ensemble/_weight_boosting.py:519: FutureWarning: The SAMME.R algorithm (the default) is deprecated and will be removed in 1.6. Use the SAMME algorithm to circumvent this warning.\n",
      "  warnings.warn(\n",
      "/Users/daniel/Workspace/SGX-Full-OrderBook-Tick-Data-Trading-Strategy/venv/lib/python3.10/site-packages/sklearn/ensemble/_weight_boosting.py:519: FutureWarning: The SAMME.R algorithm (the default) is deprecated and will be removed in 1.6. Use the SAMME algorithm to circumvent this warning.\n",
      "  warnings.warn(\n",
      "/Users/daniel/Workspace/SGX-Full-OrderBook-Tick-Data-Trading-Strategy/venv/lib/python3.10/site-packages/sklearn/ensemble/_weight_boosting.py:519: FutureWarning: The SAMME.R algorithm (the default) is deprecated and will be removed in 1.6. Use the SAMME algorithm to circumvent this warning.\n",
      "  warnings.warn(\n",
      "/Users/daniel/Workspace/SGX-Full-OrderBook-Tick-Data-Trading-Strategy/venv/lib/python3.10/site-packages/sklearn/ensemble/_weight_boosting.py:519: FutureWarning: The SAMME.R algorithm (the default) is deprecated and will be removed in 1.6. Use the SAMME algorithm to circumvent this warning.\n",
      "  warnings.warn(\n"
     ]
    },
    {
     "name": "stdout",
     "output_type": "stream",
     "text": [
      "{'learning_rate': 0.1, 'max_depth': 10, 'max_features': None, 'min_samples_leaf': 3, 'min_samples_split': 2, 'n_estimators': 10, 'subsample': 1.0}\n",
      "CV Best Score = 1.0\n",
      "Running GridSearchCV for SVC.\n",
      "{'C': 1, 'kernel': 'linear'}\n",
      "CV Best Score = 1.0\n",
      "Running training & testing for RandomForestClassifier.\n",
      "Accuracy = 1.0\n",
      "Running training & testing for ExtraTreesClassifier.\n",
      "Accuracy = 1.0\n",
      "Running training & testing for AdaBoostClassifier.\n",
      "Accuracy = 1.0\n",
      "Running training & testing for GradientBoostingClassifier.\n",
      "Accuracy = 1.0\n",
      "Running training & testing for SVC.\n"
     ]
    },
    {
     "name": "stderr",
     "output_type": "stream",
     "text": [
      "/Users/daniel/Workspace/SGX-Full-OrderBook-Tick-Data-Trading-Strategy/venv/lib/python3.10/site-packages/sklearn/ensemble/_weight_boosting.py:519: FutureWarning: The SAMME.R algorithm (the default) is deprecated and will be removed in 1.6. Use the SAMME algorithm to circumvent this warning.\n",
      "  warnings.warn(\n"
     ]
    },
    {
     "name": "stdout",
     "output_type": "stream",
     "text": [
      "Accuracy = 1.0\n",
      "--------------------Rolling Window Time = 21.0--------------------\n",
      "Running GridSearchCV for RandomForestClassifier.\n",
      "{'criterion': 'entropy', 'max_depth': 10, 'max_features': None, 'min_samples_leaf': 3, 'min_samples_split': 2, 'n_estimators': 10}\n",
      "CV Best Score = 1.0\n",
      "Running GridSearchCV for ExtraTreesClassifier.\n",
      "{'criterion': 'entropy', 'max_depth': 10, 'max_features': None, 'min_samples_leaf': 3, 'min_samples_split': 2, 'n_estimators': 10}\n",
      "CV Best Score = 1.0\n",
      "Running GridSearchCV for AdaBoostClassifier.\n",
      "{'estimator__criterion': 'entropy', 'estimator__max_depth': None, 'estimator__max_features': None, 'estimator__min_samples_leaf': 3, 'estimator__min_samples_split': 2}\n",
      "CV Best Score = 1.0\n",
      "Running GridSearchCV for GradientBoostingClassifier.\n"
     ]
    },
    {
     "name": "stderr",
     "output_type": "stream",
     "text": [
      "/Users/daniel/Workspace/SGX-Full-OrderBook-Tick-Data-Trading-Strategy/venv/lib/python3.10/site-packages/sklearn/ensemble/_weight_boosting.py:519: FutureWarning: The SAMME.R algorithm (the default) is deprecated and will be removed in 1.6. Use the SAMME algorithm to circumvent this warning.\n",
      "  warnings.warn(\n",
      "/Users/daniel/Workspace/SGX-Full-OrderBook-Tick-Data-Trading-Strategy/venv/lib/python3.10/site-packages/sklearn/ensemble/_weight_boosting.py:519: FutureWarning: The SAMME.R algorithm (the default) is deprecated and will be removed in 1.6. Use the SAMME algorithm to circumvent this warning.\n",
      "  warnings.warn(\n",
      "/Users/daniel/Workspace/SGX-Full-OrderBook-Tick-Data-Trading-Strategy/venv/lib/python3.10/site-packages/sklearn/ensemble/_weight_boosting.py:519: FutureWarning: The SAMME.R algorithm (the default) is deprecated and will be removed in 1.6. Use the SAMME algorithm to circumvent this warning.\n",
      "  warnings.warn(\n",
      "/Users/daniel/Workspace/SGX-Full-OrderBook-Tick-Data-Trading-Strategy/venv/lib/python3.10/site-packages/sklearn/ensemble/_weight_boosting.py:519: FutureWarning: The SAMME.R algorithm (the default) is deprecated and will be removed in 1.6. Use the SAMME algorithm to circumvent this warning.\n",
      "  warnings.warn(\n",
      "/Users/daniel/Workspace/SGX-Full-OrderBook-Tick-Data-Trading-Strategy/venv/lib/python3.10/site-packages/sklearn/ensemble/_weight_boosting.py:519: FutureWarning: The SAMME.R algorithm (the default) is deprecated and will be removed in 1.6. Use the SAMME algorithm to circumvent this warning.\n",
      "  warnings.warn(\n",
      "/Users/daniel/Workspace/SGX-Full-OrderBook-Tick-Data-Trading-Strategy/venv/lib/python3.10/site-packages/sklearn/ensemble/_weight_boosting.py:519: FutureWarning: The SAMME.R algorithm (the default) is deprecated and will be removed in 1.6. Use the SAMME algorithm to circumvent this warning.\n",
      "  warnings.warn(\n"
     ]
    },
    {
     "name": "stdout",
     "output_type": "stream",
     "text": [
      "{'learning_rate': 0.1, 'max_depth': 10, 'max_features': None, 'min_samples_leaf': 3, 'min_samples_split': 2, 'n_estimators': 10, 'subsample': 1.0}\n",
      "CV Best Score = 1.0\n",
      "Running GridSearchCV for SVC.\n",
      "{'C': 1, 'kernel': 'linear'}\n",
      "CV Best Score = 1.0\n",
      "Running training & testing for RandomForestClassifier.\n",
      "Accuracy = 1.0\n",
      "Running training & testing for ExtraTreesClassifier.\n",
      "Accuracy = 1.0\n",
      "Running training & testing for AdaBoostClassifier.\n",
      "Accuracy = 1.0\n",
      "Running training & testing for GradientBoostingClassifier.\n"
     ]
    },
    {
     "name": "stderr",
     "output_type": "stream",
     "text": [
      "/Users/daniel/Workspace/SGX-Full-OrderBook-Tick-Data-Trading-Strategy/venv/lib/python3.10/site-packages/sklearn/ensemble/_weight_boosting.py:519: FutureWarning: The SAMME.R algorithm (the default) is deprecated and will be removed in 1.6. Use the SAMME algorithm to circumvent this warning.\n",
      "  warnings.warn(\n"
     ]
    },
    {
     "name": "stdout",
     "output_type": "stream",
     "text": [
      "Accuracy = 1.0\n",
      "Running training & testing for SVC.\n",
      "Accuracy = 1.0\n",
      "--------------------Rolling Window Time = 22.0--------------------\n",
      "Running GridSearchCV for RandomForestClassifier.\n",
      "{'criterion': 'entropy', 'max_depth': 10, 'max_features': None, 'min_samples_leaf': 3, 'min_samples_split': 2, 'n_estimators': 10}\n",
      "CV Best Score = 1.0\n",
      "Running GridSearchCV for ExtraTreesClassifier.\n",
      "{'criterion': 'entropy', 'max_depth': 10, 'max_features': None, 'min_samples_leaf': 3, 'min_samples_split': 2, 'n_estimators': 10}\n",
      "CV Best Score = 1.0\n",
      "Running GridSearchCV for AdaBoostClassifier.\n",
      "{'estimator__criterion': 'entropy', 'estimator__max_depth': None, 'estimator__max_features': None, 'estimator__min_samples_leaf': 3, 'estimator__min_samples_split': 2}\n",
      "CV Best Score = 1.0\n",
      "Running GridSearchCV for GradientBoostingClassifier.\n"
     ]
    },
    {
     "name": "stderr",
     "output_type": "stream",
     "text": [
      "/Users/daniel/Workspace/SGX-Full-OrderBook-Tick-Data-Trading-Strategy/venv/lib/python3.10/site-packages/sklearn/ensemble/_weight_boosting.py:519: FutureWarning: The SAMME.R algorithm (the default) is deprecated and will be removed in 1.6. Use the SAMME algorithm to circumvent this warning.\n",
      "  warnings.warn(\n",
      "/Users/daniel/Workspace/SGX-Full-OrderBook-Tick-Data-Trading-Strategy/venv/lib/python3.10/site-packages/sklearn/ensemble/_weight_boosting.py:519: FutureWarning: The SAMME.R algorithm (the default) is deprecated and will be removed in 1.6. Use the SAMME algorithm to circumvent this warning.\n",
      "  warnings.warn(\n",
      "/Users/daniel/Workspace/SGX-Full-OrderBook-Tick-Data-Trading-Strategy/venv/lib/python3.10/site-packages/sklearn/ensemble/_weight_boosting.py:519: FutureWarning: The SAMME.R algorithm (the default) is deprecated and will be removed in 1.6. Use the SAMME algorithm to circumvent this warning.\n",
      "  warnings.warn(\n",
      "/Users/daniel/Workspace/SGX-Full-OrderBook-Tick-Data-Trading-Strategy/venv/lib/python3.10/site-packages/sklearn/ensemble/_weight_boosting.py:519: FutureWarning: The SAMME.R algorithm (the default) is deprecated and will be removed in 1.6. Use the SAMME algorithm to circumvent this warning.\n",
      "  warnings.warn(\n",
      "/Users/daniel/Workspace/SGX-Full-OrderBook-Tick-Data-Trading-Strategy/venv/lib/python3.10/site-packages/sklearn/ensemble/_weight_boosting.py:519: FutureWarning: The SAMME.R algorithm (the default) is deprecated and will be removed in 1.6. Use the SAMME algorithm to circumvent this warning.\n",
      "  warnings.warn(\n",
      "/Users/daniel/Workspace/SGX-Full-OrderBook-Tick-Data-Trading-Strategy/venv/lib/python3.10/site-packages/sklearn/ensemble/_weight_boosting.py:519: FutureWarning: The SAMME.R algorithm (the default) is deprecated and will be removed in 1.6. Use the SAMME algorithm to circumvent this warning.\n",
      "  warnings.warn(\n"
     ]
    },
    {
     "name": "stdout",
     "output_type": "stream",
     "text": [
      "{'learning_rate': 0.1, 'max_depth': 10, 'max_features': None, 'min_samples_leaf': 3, 'min_samples_split': 2, 'n_estimators': 10, 'subsample': 1.0}\n",
      "CV Best Score = 1.0\n",
      "Running GridSearchCV for SVC.\n",
      "{'C': 1, 'kernel': 'linear'}\n",
      "CV Best Score = 1.0\n",
      "Running training & testing for RandomForestClassifier.\n",
      "Accuracy = 1.0\n",
      "Running training & testing for ExtraTreesClassifier.\n",
      "Accuracy = 1.0\n",
      "Running training & testing for AdaBoostClassifier.\n",
      "Accuracy = 1.0\n",
      "Running training & testing for GradientBoostingClassifier.\n"
     ]
    },
    {
     "name": "stderr",
     "output_type": "stream",
     "text": [
      "/Users/daniel/Workspace/SGX-Full-OrderBook-Tick-Data-Trading-Strategy/venv/lib/python3.10/site-packages/sklearn/ensemble/_weight_boosting.py:519: FutureWarning: The SAMME.R algorithm (the default) is deprecated and will be removed in 1.6. Use the SAMME algorithm to circumvent this warning.\n",
      "  warnings.warn(\n"
     ]
    },
    {
     "name": "stdout",
     "output_type": "stream",
     "text": [
      "Accuracy = 1.0\n",
      "Running training & testing for SVC.\n",
      "Accuracy = 1.0\n",
      "--------------------Rolling Window Time = 23.0--------------------\n",
      "Running GridSearchCV for RandomForestClassifier.\n",
      "{'criterion': 'entropy', 'max_depth': 10, 'max_features': None, 'min_samples_leaf': 3, 'min_samples_split': 2, 'n_estimators': 10}\n",
      "CV Best Score = 1.0\n",
      "Running GridSearchCV for ExtraTreesClassifier.\n",
      "{'criterion': 'entropy', 'max_depth': 10, 'max_features': None, 'min_samples_leaf': 3, 'min_samples_split': 2, 'n_estimators': 10}\n",
      "CV Best Score = 1.0\n",
      "Running GridSearchCV for AdaBoostClassifier.\n",
      "{'estimator__criterion': 'entropy', 'estimator__max_depth': None, 'estimator__max_features': None, 'estimator__min_samples_leaf': 3, 'estimator__min_samples_split': 2}\n",
      "CV Best Score = 1.0\n",
      "Running GridSearchCV for GradientBoostingClassifier.\n"
     ]
    },
    {
     "name": "stderr",
     "output_type": "stream",
     "text": [
      "/Users/daniel/Workspace/SGX-Full-OrderBook-Tick-Data-Trading-Strategy/venv/lib/python3.10/site-packages/sklearn/ensemble/_weight_boosting.py:519: FutureWarning: The SAMME.R algorithm (the default) is deprecated and will be removed in 1.6. Use the SAMME algorithm to circumvent this warning.\n",
      "  warnings.warn(\n",
      "/Users/daniel/Workspace/SGX-Full-OrderBook-Tick-Data-Trading-Strategy/venv/lib/python3.10/site-packages/sklearn/ensemble/_weight_boosting.py:519: FutureWarning: The SAMME.R algorithm (the default) is deprecated and will be removed in 1.6. Use the SAMME algorithm to circumvent this warning.\n",
      "  warnings.warn(\n",
      "/Users/daniel/Workspace/SGX-Full-OrderBook-Tick-Data-Trading-Strategy/venv/lib/python3.10/site-packages/sklearn/ensemble/_weight_boosting.py:519: FutureWarning: The SAMME.R algorithm (the default) is deprecated and will be removed in 1.6. Use the SAMME algorithm to circumvent this warning.\n",
      "  warnings.warn(\n",
      "/Users/daniel/Workspace/SGX-Full-OrderBook-Tick-Data-Trading-Strategy/venv/lib/python3.10/site-packages/sklearn/ensemble/_weight_boosting.py:519: FutureWarning: The SAMME.R algorithm (the default) is deprecated and will be removed in 1.6. Use the SAMME algorithm to circumvent this warning.\n",
      "  warnings.warn(\n",
      "/Users/daniel/Workspace/SGX-Full-OrderBook-Tick-Data-Trading-Strategy/venv/lib/python3.10/site-packages/sklearn/ensemble/_weight_boosting.py:519: FutureWarning: The SAMME.R algorithm (the default) is deprecated and will be removed in 1.6. Use the SAMME algorithm to circumvent this warning.\n",
      "  warnings.warn(\n",
      "/Users/daniel/Workspace/SGX-Full-OrderBook-Tick-Data-Trading-Strategy/venv/lib/python3.10/site-packages/sklearn/ensemble/_weight_boosting.py:519: FutureWarning: The SAMME.R algorithm (the default) is deprecated and will be removed in 1.6. Use the SAMME algorithm to circumvent this warning.\n",
      "  warnings.warn(\n"
     ]
    },
    {
     "name": "stdout",
     "output_type": "stream",
     "text": [
      "{'learning_rate': 0.1, 'max_depth': 10, 'max_features': None, 'min_samples_leaf': 3, 'min_samples_split': 2, 'n_estimators': 10, 'subsample': 1.0}\n",
      "CV Best Score = 1.0\n",
      "Running GridSearchCV for SVC.\n",
      "{'C': 1, 'kernel': 'linear'}\n",
      "CV Best Score = 1.0\n",
      "Running training & testing for RandomForestClassifier.\n",
      "Accuracy = 1.0\n",
      "Running training & testing for ExtraTreesClassifier.\n",
      "Accuracy = 1.0\n",
      "Running training & testing for AdaBoostClassifier.\n",
      "Accuracy = 1.0\n",
      "Running training & testing for GradientBoostingClassifier.\n",
      "Accuracy = 1.0\n",
      "Running training & testing for SVC.\n"
     ]
    },
    {
     "name": "stderr",
     "output_type": "stream",
     "text": [
      "/Users/daniel/Workspace/SGX-Full-OrderBook-Tick-Data-Trading-Strategy/venv/lib/python3.10/site-packages/sklearn/ensemble/_weight_boosting.py:519: FutureWarning: The SAMME.R algorithm (the default) is deprecated and will be removed in 1.6. Use the SAMME algorithm to circumvent this warning.\n",
      "  warnings.warn(\n"
     ]
    },
    {
     "name": "stdout",
     "output_type": "stream",
     "text": [
      "Accuracy = 1.0\n",
      "--------------------Rolling Window Time = 24.0--------------------\n",
      "Running GridSearchCV for RandomForestClassifier.\n",
      "{'criterion': 'entropy', 'max_depth': 10, 'max_features': None, 'min_samples_leaf': 3, 'min_samples_split': 2, 'n_estimators': 10}\n",
      "CV Best Score = 1.0\n",
      "Running GridSearchCV for ExtraTreesClassifier.\n",
      "{'criterion': 'entropy', 'max_depth': 10, 'max_features': None, 'min_samples_leaf': 3, 'min_samples_split': 2, 'n_estimators': 10}\n",
      "CV Best Score = 1.0\n",
      "Running GridSearchCV for AdaBoostClassifier.\n",
      "{'estimator__criterion': 'entropy', 'estimator__max_depth': None, 'estimator__max_features': None, 'estimator__min_samples_leaf': 3, 'estimator__min_samples_split': 2}\n",
      "CV Best Score = 1.0\n",
      "Running GridSearchCV for GradientBoostingClassifier.\n"
     ]
    },
    {
     "name": "stderr",
     "output_type": "stream",
     "text": [
      "/Users/daniel/Workspace/SGX-Full-OrderBook-Tick-Data-Trading-Strategy/venv/lib/python3.10/site-packages/sklearn/ensemble/_weight_boosting.py:519: FutureWarning: The SAMME.R algorithm (the default) is deprecated and will be removed in 1.6. Use the SAMME algorithm to circumvent this warning.\n",
      "  warnings.warn(\n",
      "/Users/daniel/Workspace/SGX-Full-OrderBook-Tick-Data-Trading-Strategy/venv/lib/python3.10/site-packages/sklearn/ensemble/_weight_boosting.py:519: FutureWarning: The SAMME.R algorithm (the default) is deprecated and will be removed in 1.6. Use the SAMME algorithm to circumvent this warning.\n",
      "  warnings.warn(\n",
      "/Users/daniel/Workspace/SGX-Full-OrderBook-Tick-Data-Trading-Strategy/venv/lib/python3.10/site-packages/sklearn/ensemble/_weight_boosting.py:519: FutureWarning: The SAMME.R algorithm (the default) is deprecated and will be removed in 1.6. Use the SAMME algorithm to circumvent this warning.\n",
      "  warnings.warn(\n",
      "/Users/daniel/Workspace/SGX-Full-OrderBook-Tick-Data-Trading-Strategy/venv/lib/python3.10/site-packages/sklearn/ensemble/_weight_boosting.py:519: FutureWarning: The SAMME.R algorithm (the default) is deprecated and will be removed in 1.6. Use the SAMME algorithm to circumvent this warning.\n",
      "  warnings.warn(\n",
      "/Users/daniel/Workspace/SGX-Full-OrderBook-Tick-Data-Trading-Strategy/venv/lib/python3.10/site-packages/sklearn/ensemble/_weight_boosting.py:519: FutureWarning: The SAMME.R algorithm (the default) is deprecated and will be removed in 1.6. Use the SAMME algorithm to circumvent this warning.\n",
      "  warnings.warn(\n",
      "/Users/daniel/Workspace/SGX-Full-OrderBook-Tick-Data-Trading-Strategy/venv/lib/python3.10/site-packages/sklearn/ensemble/_weight_boosting.py:519: FutureWarning: The SAMME.R algorithm (the default) is deprecated and will be removed in 1.6. Use the SAMME algorithm to circumvent this warning.\n",
      "  warnings.warn(\n"
     ]
    },
    {
     "name": "stdout",
     "output_type": "stream",
     "text": [
      "{'learning_rate': 0.1, 'max_depth': 10, 'max_features': None, 'min_samples_leaf': 3, 'min_samples_split': 2, 'n_estimators': 10, 'subsample': 1.0}\n",
      "CV Best Score = 1.0\n",
      "Running GridSearchCV for SVC.\n",
      "{'C': 1, 'kernel': 'linear'}\n",
      "CV Best Score = 1.0\n",
      "Running training & testing for RandomForestClassifier.\n",
      "Accuracy = 1.0\n",
      "Running training & testing for ExtraTreesClassifier.\n",
      "Accuracy = 1.0\n",
      "Running training & testing for AdaBoostClassifier.\n",
      "Accuracy = 1.0\n",
      "Running training & testing for GradientBoostingClassifier.\n",
      "Accuracy = 1.0\n",
      "Running training & testing for SVC.\n"
     ]
    },
    {
     "name": "stderr",
     "output_type": "stream",
     "text": [
      "/Users/daniel/Workspace/SGX-Full-OrderBook-Tick-Data-Trading-Strategy/venv/lib/python3.10/site-packages/sklearn/ensemble/_weight_boosting.py:519: FutureWarning: The SAMME.R algorithm (the default) is deprecated and will be removed in 1.6. Use the SAMME algorithm to circumvent this warning.\n",
      "  warnings.warn(\n"
     ]
    },
    {
     "name": "stdout",
     "output_type": "stream",
     "text": [
      "Accuracy = 1.0\n",
      "--------------------Rolling Window Time = 25.0--------------------\n",
      "Running GridSearchCV for RandomForestClassifier.\n",
      "{'criterion': 'entropy', 'max_depth': 10, 'max_features': None, 'min_samples_leaf': 3, 'min_samples_split': 2, 'n_estimators': 10}\n",
      "CV Best Score = 1.0\n",
      "Running GridSearchCV for ExtraTreesClassifier.\n",
      "{'criterion': 'entropy', 'max_depth': 10, 'max_features': None, 'min_samples_leaf': 3, 'min_samples_split': 2, 'n_estimators': 10}\n",
      "CV Best Score = 1.0\n",
      "Running GridSearchCV for AdaBoostClassifier.\n",
      "{'estimator__criterion': 'entropy', 'estimator__max_depth': None, 'estimator__max_features': None, 'estimator__min_samples_leaf': 3, 'estimator__min_samples_split': 2}\n",
      "CV Best Score = 1.0\n",
      "Running GridSearchCV for GradientBoostingClassifier.\n"
     ]
    },
    {
     "name": "stderr",
     "output_type": "stream",
     "text": [
      "/Users/daniel/Workspace/SGX-Full-OrderBook-Tick-Data-Trading-Strategy/venv/lib/python3.10/site-packages/sklearn/ensemble/_weight_boosting.py:519: FutureWarning: The SAMME.R algorithm (the default) is deprecated and will be removed in 1.6. Use the SAMME algorithm to circumvent this warning.\n",
      "  warnings.warn(\n",
      "/Users/daniel/Workspace/SGX-Full-OrderBook-Tick-Data-Trading-Strategy/venv/lib/python3.10/site-packages/sklearn/ensemble/_weight_boosting.py:519: FutureWarning: The SAMME.R algorithm (the default) is deprecated and will be removed in 1.6. Use the SAMME algorithm to circumvent this warning.\n",
      "  warnings.warn(\n",
      "/Users/daniel/Workspace/SGX-Full-OrderBook-Tick-Data-Trading-Strategy/venv/lib/python3.10/site-packages/sklearn/ensemble/_weight_boosting.py:519: FutureWarning: The SAMME.R algorithm (the default) is deprecated and will be removed in 1.6. Use the SAMME algorithm to circumvent this warning.\n",
      "  warnings.warn(\n",
      "/Users/daniel/Workspace/SGX-Full-OrderBook-Tick-Data-Trading-Strategy/venv/lib/python3.10/site-packages/sklearn/ensemble/_weight_boosting.py:519: FutureWarning: The SAMME.R algorithm (the default) is deprecated and will be removed in 1.6. Use the SAMME algorithm to circumvent this warning.\n",
      "  warnings.warn(\n",
      "/Users/daniel/Workspace/SGX-Full-OrderBook-Tick-Data-Trading-Strategy/venv/lib/python3.10/site-packages/sklearn/ensemble/_weight_boosting.py:519: FutureWarning: The SAMME.R algorithm (the default) is deprecated and will be removed in 1.6. Use the SAMME algorithm to circumvent this warning.\n",
      "  warnings.warn(\n",
      "/Users/daniel/Workspace/SGX-Full-OrderBook-Tick-Data-Trading-Strategy/venv/lib/python3.10/site-packages/sklearn/ensemble/_weight_boosting.py:519: FutureWarning: The SAMME.R algorithm (the default) is deprecated and will be removed in 1.6. Use the SAMME algorithm to circumvent this warning.\n",
      "  warnings.warn(\n"
     ]
    },
    {
     "name": "stdout",
     "output_type": "stream",
     "text": [
      "{'learning_rate': 0.1, 'max_depth': 10, 'max_features': None, 'min_samples_leaf': 3, 'min_samples_split': 2, 'n_estimators': 10, 'subsample': 1.0}\n",
      "CV Best Score = 1.0\n",
      "Running GridSearchCV for SVC.\n",
      "{'C': 1, 'kernel': 'linear'}\n",
      "CV Best Score = 1.0\n",
      "Running training & testing for RandomForestClassifier.\n",
      "Accuracy = 1.0\n",
      "Running training & testing for ExtraTreesClassifier.\n",
      "Accuracy = 1.0\n",
      "Running training & testing for AdaBoostClassifier.\n",
      "Accuracy = 1.0\n",
      "Running training & testing for GradientBoostingClassifier.\n",
      "Accuracy = 1.0\n",
      "Running training & testing for SVC.\n"
     ]
    },
    {
     "name": "stderr",
     "output_type": "stream",
     "text": [
      "/Users/daniel/Workspace/SGX-Full-OrderBook-Tick-Data-Trading-Strategy/venv/lib/python3.10/site-packages/sklearn/ensemble/_weight_boosting.py:519: FutureWarning: The SAMME.R algorithm (the default) is deprecated and will be removed in 1.6. Use the SAMME algorithm to circumvent this warning.\n",
      "  warnings.warn(\n"
     ]
    },
    {
     "name": "stdout",
     "output_type": "stream",
     "text": [
      "Accuracy = 1.0\n",
      "--------------------Rolling Window Time = 26.0--------------------\n",
      "Running GridSearchCV for RandomForestClassifier.\n",
      "{'criterion': 'entropy', 'max_depth': 10, 'max_features': None, 'min_samples_leaf': 3, 'min_samples_split': 2, 'n_estimators': 10}\n",
      "CV Best Score = 1.0\n",
      "Running GridSearchCV for ExtraTreesClassifier.\n",
      "{'criterion': 'entropy', 'max_depth': 10, 'max_features': None, 'min_samples_leaf': 3, 'min_samples_split': 2, 'n_estimators': 10}\n",
      "CV Best Score = 1.0\n",
      "Running GridSearchCV for AdaBoostClassifier.\n",
      "{'estimator__criterion': 'entropy', 'estimator__max_depth': None, 'estimator__max_features': None, 'estimator__min_samples_leaf': 3, 'estimator__min_samples_split': 2}\n",
      "CV Best Score = 1.0\n",
      "Running GridSearchCV for GradientBoostingClassifier.\n"
     ]
    },
    {
     "name": "stderr",
     "output_type": "stream",
     "text": [
      "/Users/daniel/Workspace/SGX-Full-OrderBook-Tick-Data-Trading-Strategy/venv/lib/python3.10/site-packages/sklearn/ensemble/_weight_boosting.py:519: FutureWarning: The SAMME.R algorithm (the default) is deprecated and will be removed in 1.6. Use the SAMME algorithm to circumvent this warning.\n",
      "  warnings.warn(\n",
      "/Users/daniel/Workspace/SGX-Full-OrderBook-Tick-Data-Trading-Strategy/venv/lib/python3.10/site-packages/sklearn/ensemble/_weight_boosting.py:519: FutureWarning: The SAMME.R algorithm (the default) is deprecated and will be removed in 1.6. Use the SAMME algorithm to circumvent this warning.\n",
      "  warnings.warn(\n",
      "/Users/daniel/Workspace/SGX-Full-OrderBook-Tick-Data-Trading-Strategy/venv/lib/python3.10/site-packages/sklearn/ensemble/_weight_boosting.py:519: FutureWarning: The SAMME.R algorithm (the default) is deprecated and will be removed in 1.6. Use the SAMME algorithm to circumvent this warning.\n",
      "  warnings.warn(\n",
      "/Users/daniel/Workspace/SGX-Full-OrderBook-Tick-Data-Trading-Strategy/venv/lib/python3.10/site-packages/sklearn/ensemble/_weight_boosting.py:519: FutureWarning: The SAMME.R algorithm (the default) is deprecated and will be removed in 1.6. Use the SAMME algorithm to circumvent this warning.\n",
      "  warnings.warn(\n",
      "/Users/daniel/Workspace/SGX-Full-OrderBook-Tick-Data-Trading-Strategy/venv/lib/python3.10/site-packages/sklearn/ensemble/_weight_boosting.py:519: FutureWarning: The SAMME.R algorithm (the default) is deprecated and will be removed in 1.6. Use the SAMME algorithm to circumvent this warning.\n",
      "  warnings.warn(\n",
      "/Users/daniel/Workspace/SGX-Full-OrderBook-Tick-Data-Trading-Strategy/venv/lib/python3.10/site-packages/sklearn/ensemble/_weight_boosting.py:519: FutureWarning: The SAMME.R algorithm (the default) is deprecated and will be removed in 1.6. Use the SAMME algorithm to circumvent this warning.\n",
      "  warnings.warn(\n"
     ]
    },
    {
     "name": "stdout",
     "output_type": "stream",
     "text": [
      "{'learning_rate': 0.1, 'max_depth': 10, 'max_features': None, 'min_samples_leaf': 3, 'min_samples_split': 2, 'n_estimators': 10, 'subsample': 1.0}\n",
      "CV Best Score = 1.0\n",
      "Running GridSearchCV for SVC.\n",
      "{'C': 1, 'kernel': 'linear'}\n",
      "CV Best Score = 1.0\n",
      "Running training & testing for RandomForestClassifier.\n",
      "Accuracy = 1.0\n",
      "Running training & testing for ExtraTreesClassifier.\n",
      "Accuracy = 1.0\n",
      "Running training & testing for AdaBoostClassifier.\n",
      "Accuracy = 1.0\n",
      "Running training & testing for GradientBoostingClassifier.\n",
      "Accuracy = 1.0\n",
      "Running training & testing for SVC.\n"
     ]
    },
    {
     "name": "stderr",
     "output_type": "stream",
     "text": [
      "/Users/daniel/Workspace/SGX-Full-OrderBook-Tick-Data-Trading-Strategy/venv/lib/python3.10/site-packages/sklearn/ensemble/_weight_boosting.py:519: FutureWarning: The SAMME.R algorithm (the default) is deprecated and will be removed in 1.6. Use the SAMME algorithm to circumvent this warning.\n",
      "  warnings.warn(\n"
     ]
    },
    {
     "name": "stdout",
     "output_type": "stream",
     "text": [
      "Accuracy = 1.0\n",
      "--------------------Rolling Window Time = 27.0--------------------\n",
      "Running GridSearchCV for RandomForestClassifier.\n",
      "{'criterion': 'entropy', 'max_depth': 10, 'max_features': None, 'min_samples_leaf': 3, 'min_samples_split': 2, 'n_estimators': 10}\n",
      "CV Best Score = 1.0\n",
      "Running GridSearchCV for ExtraTreesClassifier.\n",
      "{'criterion': 'entropy', 'max_depth': 10, 'max_features': None, 'min_samples_leaf': 3, 'min_samples_split': 2, 'n_estimators': 10}\n",
      "CV Best Score = 1.0\n",
      "Running GridSearchCV for AdaBoostClassifier.\n",
      "{'estimator__criterion': 'entropy', 'estimator__max_depth': None, 'estimator__max_features': None, 'estimator__min_samples_leaf': 3, 'estimator__min_samples_split': 2}\n",
      "CV Best Score = 1.0\n",
      "Running GridSearchCV for GradientBoostingClassifier.\n"
     ]
    },
    {
     "name": "stderr",
     "output_type": "stream",
     "text": [
      "/Users/daniel/Workspace/SGX-Full-OrderBook-Tick-Data-Trading-Strategy/venv/lib/python3.10/site-packages/sklearn/ensemble/_weight_boosting.py:519: FutureWarning: The SAMME.R algorithm (the default) is deprecated and will be removed in 1.6. Use the SAMME algorithm to circumvent this warning.\n",
      "  warnings.warn(\n",
      "/Users/daniel/Workspace/SGX-Full-OrderBook-Tick-Data-Trading-Strategy/venv/lib/python3.10/site-packages/sklearn/ensemble/_weight_boosting.py:519: FutureWarning: The SAMME.R algorithm (the default) is deprecated and will be removed in 1.6. Use the SAMME algorithm to circumvent this warning.\n",
      "  warnings.warn(\n",
      "/Users/daniel/Workspace/SGX-Full-OrderBook-Tick-Data-Trading-Strategy/venv/lib/python3.10/site-packages/sklearn/ensemble/_weight_boosting.py:519: FutureWarning: The SAMME.R algorithm (the default) is deprecated and will be removed in 1.6. Use the SAMME algorithm to circumvent this warning.\n",
      "  warnings.warn(\n",
      "/Users/daniel/Workspace/SGX-Full-OrderBook-Tick-Data-Trading-Strategy/venv/lib/python3.10/site-packages/sklearn/ensemble/_weight_boosting.py:519: FutureWarning: The SAMME.R algorithm (the default) is deprecated and will be removed in 1.6. Use the SAMME algorithm to circumvent this warning.\n",
      "  warnings.warn(\n",
      "/Users/daniel/Workspace/SGX-Full-OrderBook-Tick-Data-Trading-Strategy/venv/lib/python3.10/site-packages/sklearn/ensemble/_weight_boosting.py:519: FutureWarning: The SAMME.R algorithm (the default) is deprecated and will be removed in 1.6. Use the SAMME algorithm to circumvent this warning.\n",
      "  warnings.warn(\n",
      "/Users/daniel/Workspace/SGX-Full-OrderBook-Tick-Data-Trading-Strategy/venv/lib/python3.10/site-packages/sklearn/ensemble/_weight_boosting.py:519: FutureWarning: The SAMME.R algorithm (the default) is deprecated and will be removed in 1.6. Use the SAMME algorithm to circumvent this warning.\n",
      "  warnings.warn(\n"
     ]
    },
    {
     "name": "stdout",
     "output_type": "stream",
     "text": [
      "{'learning_rate': 0.1, 'max_depth': 10, 'max_features': None, 'min_samples_leaf': 3, 'min_samples_split': 2, 'n_estimators': 10, 'subsample': 1.0}\n",
      "CV Best Score = 1.0\n",
      "Running GridSearchCV for SVC.\n",
      "{'C': 1, 'kernel': 'linear'}\n",
      "CV Best Score = 1.0\n",
      "Running training & testing for RandomForestClassifier.\n",
      "Accuracy = 1.0\n",
      "Running training & testing for ExtraTreesClassifier.\n",
      "Accuracy = 1.0\n",
      "Running training & testing for AdaBoostClassifier.\n",
      "Accuracy = 1.0\n",
      "Running training & testing for GradientBoostingClassifier.\n",
      "Accuracy = 1.0\n",
      "Running training & testing for SVC.\n"
     ]
    },
    {
     "name": "stderr",
     "output_type": "stream",
     "text": [
      "/Users/daniel/Workspace/SGX-Full-OrderBook-Tick-Data-Trading-Strategy/venv/lib/python3.10/site-packages/sklearn/ensemble/_weight_boosting.py:519: FutureWarning: The SAMME.R algorithm (the default) is deprecated and will be removed in 1.6. Use the SAMME algorithm to circumvent this warning.\n",
      "  warnings.warn(\n"
     ]
    },
    {
     "name": "stdout",
     "output_type": "stream",
     "text": [
      "Accuracy = 1.0\n",
      "--------------------Rolling Window Time = 28.0--------------------\n",
      "Running GridSearchCV for RandomForestClassifier.\n",
      "{'criterion': 'entropy', 'max_depth': 10, 'max_features': None, 'min_samples_leaf': 3, 'min_samples_split': 2, 'n_estimators': 10}\n",
      "CV Best Score = 1.0\n",
      "Running GridSearchCV for ExtraTreesClassifier.\n",
      "{'criterion': 'entropy', 'max_depth': 10, 'max_features': None, 'min_samples_leaf': 3, 'min_samples_split': 2, 'n_estimators': 10}\n",
      "CV Best Score = 1.0\n",
      "Running GridSearchCV for AdaBoostClassifier.\n",
      "{'estimator__criterion': 'entropy', 'estimator__max_depth': None, 'estimator__max_features': None, 'estimator__min_samples_leaf': 3, 'estimator__min_samples_split': 2}\n",
      "CV Best Score = 1.0\n",
      "Running GridSearchCV for GradientBoostingClassifier.\n"
     ]
    },
    {
     "name": "stderr",
     "output_type": "stream",
     "text": [
      "/Users/daniel/Workspace/SGX-Full-OrderBook-Tick-Data-Trading-Strategy/venv/lib/python3.10/site-packages/sklearn/ensemble/_weight_boosting.py:519: FutureWarning: The SAMME.R algorithm (the default) is deprecated and will be removed in 1.6. Use the SAMME algorithm to circumvent this warning.\n",
      "  warnings.warn(\n",
      "/Users/daniel/Workspace/SGX-Full-OrderBook-Tick-Data-Trading-Strategy/venv/lib/python3.10/site-packages/sklearn/ensemble/_weight_boosting.py:519: FutureWarning: The SAMME.R algorithm (the default) is deprecated and will be removed in 1.6. Use the SAMME algorithm to circumvent this warning.\n",
      "  warnings.warn(\n",
      "/Users/daniel/Workspace/SGX-Full-OrderBook-Tick-Data-Trading-Strategy/venv/lib/python3.10/site-packages/sklearn/ensemble/_weight_boosting.py:519: FutureWarning: The SAMME.R algorithm (the default) is deprecated and will be removed in 1.6. Use the SAMME algorithm to circumvent this warning.\n",
      "  warnings.warn(\n",
      "/Users/daniel/Workspace/SGX-Full-OrderBook-Tick-Data-Trading-Strategy/venv/lib/python3.10/site-packages/sklearn/ensemble/_weight_boosting.py:519: FutureWarning: The SAMME.R algorithm (the default) is deprecated and will be removed in 1.6. Use the SAMME algorithm to circumvent this warning.\n",
      "  warnings.warn(\n",
      "/Users/daniel/Workspace/SGX-Full-OrderBook-Tick-Data-Trading-Strategy/venv/lib/python3.10/site-packages/sklearn/ensemble/_weight_boosting.py:519: FutureWarning: The SAMME.R algorithm (the default) is deprecated and will be removed in 1.6. Use the SAMME algorithm to circumvent this warning.\n",
      "  warnings.warn(\n",
      "/Users/daniel/Workspace/SGX-Full-OrderBook-Tick-Data-Trading-Strategy/venv/lib/python3.10/site-packages/sklearn/ensemble/_weight_boosting.py:519: FutureWarning: The SAMME.R algorithm (the default) is deprecated and will be removed in 1.6. Use the SAMME algorithm to circumvent this warning.\n",
      "  warnings.warn(\n"
     ]
    },
    {
     "name": "stdout",
     "output_type": "stream",
     "text": [
      "{'learning_rate': 0.1, 'max_depth': 10, 'max_features': None, 'min_samples_leaf': 3, 'min_samples_split': 2, 'n_estimators': 10, 'subsample': 1.0}\n",
      "CV Best Score = 1.0\n",
      "Running GridSearchCV for SVC.\n",
      "{'C': 1, 'kernel': 'linear'}\n",
      "CV Best Score = 1.0\n",
      "Running training & testing for RandomForestClassifier.\n",
      "Accuracy = 1.0\n",
      "Running training & testing for ExtraTreesClassifier.\n",
      "Accuracy = 1.0\n",
      "Running training & testing for AdaBoostClassifier.\n",
      "Accuracy = 1.0\n",
      "Running training & testing for GradientBoostingClassifier.\n",
      "Accuracy = 1.0\n",
      "Running training & testing for SVC.\n"
     ]
    },
    {
     "name": "stderr",
     "output_type": "stream",
     "text": [
      "/Users/daniel/Workspace/SGX-Full-OrderBook-Tick-Data-Trading-Strategy/venv/lib/python3.10/site-packages/sklearn/ensemble/_weight_boosting.py:519: FutureWarning: The SAMME.R algorithm (the default) is deprecated and will be removed in 1.6. Use the SAMME algorithm to circumvent this warning.\n",
      "  warnings.warn(\n"
     ]
    },
    {
     "name": "stdout",
     "output_type": "stream",
     "text": [
      "Accuracy = 1.0\n",
      "--------------------Rolling Window Time = 29.0--------------------\n",
      "Running GridSearchCV for RandomForestClassifier.\n",
      "{'criterion': 'entropy', 'max_depth': 10, 'max_features': None, 'min_samples_leaf': 3, 'min_samples_split': 2, 'n_estimators': 10}\n",
      "CV Best Score = 1.0\n",
      "Running GridSearchCV for ExtraTreesClassifier.\n",
      "{'criterion': 'entropy', 'max_depth': 10, 'max_features': None, 'min_samples_leaf': 3, 'min_samples_split': 2, 'n_estimators': 10}\n",
      "CV Best Score = 1.0\n",
      "Running GridSearchCV for AdaBoostClassifier.\n",
      "{'estimator__criterion': 'entropy', 'estimator__max_depth': None, 'estimator__max_features': None, 'estimator__min_samples_leaf': 3, 'estimator__min_samples_split': 2}\n",
      "CV Best Score = 1.0\n",
      "Running GridSearchCV for GradientBoostingClassifier.\n"
     ]
    },
    {
     "name": "stderr",
     "output_type": "stream",
     "text": [
      "/Users/daniel/Workspace/SGX-Full-OrderBook-Tick-Data-Trading-Strategy/venv/lib/python3.10/site-packages/sklearn/ensemble/_weight_boosting.py:519: FutureWarning: The SAMME.R algorithm (the default) is deprecated and will be removed in 1.6. Use the SAMME algorithm to circumvent this warning.\n",
      "  warnings.warn(\n",
      "/Users/daniel/Workspace/SGX-Full-OrderBook-Tick-Data-Trading-Strategy/venv/lib/python3.10/site-packages/sklearn/ensemble/_weight_boosting.py:519: FutureWarning: The SAMME.R algorithm (the default) is deprecated and will be removed in 1.6. Use the SAMME algorithm to circumvent this warning.\n",
      "  warnings.warn(\n",
      "/Users/daniel/Workspace/SGX-Full-OrderBook-Tick-Data-Trading-Strategy/venv/lib/python3.10/site-packages/sklearn/ensemble/_weight_boosting.py:519: FutureWarning: The SAMME.R algorithm (the default) is deprecated and will be removed in 1.6. Use the SAMME algorithm to circumvent this warning.\n",
      "  warnings.warn(\n",
      "/Users/daniel/Workspace/SGX-Full-OrderBook-Tick-Data-Trading-Strategy/venv/lib/python3.10/site-packages/sklearn/ensemble/_weight_boosting.py:519: FutureWarning: The SAMME.R algorithm (the default) is deprecated and will be removed in 1.6. Use the SAMME algorithm to circumvent this warning.\n",
      "  warnings.warn(\n",
      "/Users/daniel/Workspace/SGX-Full-OrderBook-Tick-Data-Trading-Strategy/venv/lib/python3.10/site-packages/sklearn/ensemble/_weight_boosting.py:519: FutureWarning: The SAMME.R algorithm (the default) is deprecated and will be removed in 1.6. Use the SAMME algorithm to circumvent this warning.\n",
      "  warnings.warn(\n",
      "/Users/daniel/Workspace/SGX-Full-OrderBook-Tick-Data-Trading-Strategy/venv/lib/python3.10/site-packages/sklearn/ensemble/_weight_boosting.py:519: FutureWarning: The SAMME.R algorithm (the default) is deprecated and will be removed in 1.6. Use the SAMME algorithm to circumvent this warning.\n",
      "  warnings.warn(\n"
     ]
    },
    {
     "name": "stdout",
     "output_type": "stream",
     "text": [
      "{'learning_rate': 0.1, 'max_depth': 10, 'max_features': None, 'min_samples_leaf': 3, 'min_samples_split': 2, 'n_estimators': 10, 'subsample': 1.0}\n",
      "CV Best Score = 1.0\n",
      "Running GridSearchCV for SVC.\n",
      "{'C': 1, 'kernel': 'linear'}\n",
      "CV Best Score = 1.0\n",
      "Running training & testing for RandomForestClassifier.\n",
      "Accuracy = 1.0\n",
      "Running training & testing for ExtraTreesClassifier.\n",
      "Accuracy = 1.0\n",
      "Running training & testing for AdaBoostClassifier.\n",
      "Accuracy = 1.0\n",
      "Running training & testing for GradientBoostingClassifier.\n",
      "Accuracy = 1.0\n",
      "Running training & testing for SVC.\n"
     ]
    },
    {
     "name": "stderr",
     "output_type": "stream",
     "text": [
      "/Users/daniel/Workspace/SGX-Full-OrderBook-Tick-Data-Trading-Strategy/venv/lib/python3.10/site-packages/sklearn/ensemble/_weight_boosting.py:519: FutureWarning: The SAMME.R algorithm (the default) is deprecated and will be removed in 1.6. Use the SAMME algorithm to circumvent this warning.\n",
      "  warnings.warn(\n"
     ]
    },
    {
     "name": "stdout",
     "output_type": "stream",
     "text": [
      "Accuracy = 1.0\n",
      "--------------------Rolling Window Time = 30.0--------------------\n",
      "Running GridSearchCV for RandomForestClassifier.\n",
      "{'criterion': 'entropy', 'max_depth': 10, 'max_features': None, 'min_samples_leaf': 3, 'min_samples_split': 2, 'n_estimators': 10}\n",
      "CV Best Score = 1.0\n",
      "Running GridSearchCV for ExtraTreesClassifier.\n",
      "{'criterion': 'entropy', 'max_depth': 10, 'max_features': None, 'min_samples_leaf': 3, 'min_samples_split': 2, 'n_estimators': 10}\n",
      "CV Best Score = 1.0\n",
      "Running GridSearchCV for AdaBoostClassifier.\n",
      "{'estimator__criterion': 'entropy', 'estimator__max_depth': None, 'estimator__max_features': None, 'estimator__min_samples_leaf': 3, 'estimator__min_samples_split': 2}\n",
      "CV Best Score = 1.0\n",
      "Running GridSearchCV for GradientBoostingClassifier.\n"
     ]
    },
    {
     "name": "stderr",
     "output_type": "stream",
     "text": [
      "/Users/daniel/Workspace/SGX-Full-OrderBook-Tick-Data-Trading-Strategy/venv/lib/python3.10/site-packages/sklearn/ensemble/_weight_boosting.py:519: FutureWarning: The SAMME.R algorithm (the default) is deprecated and will be removed in 1.6. Use the SAMME algorithm to circumvent this warning.\n",
      "  warnings.warn(\n",
      "/Users/daniel/Workspace/SGX-Full-OrderBook-Tick-Data-Trading-Strategy/venv/lib/python3.10/site-packages/sklearn/ensemble/_weight_boosting.py:519: FutureWarning: The SAMME.R algorithm (the default) is deprecated and will be removed in 1.6. Use the SAMME algorithm to circumvent this warning.\n",
      "  warnings.warn(\n",
      "/Users/daniel/Workspace/SGX-Full-OrderBook-Tick-Data-Trading-Strategy/venv/lib/python3.10/site-packages/sklearn/ensemble/_weight_boosting.py:519: FutureWarning: The SAMME.R algorithm (the default) is deprecated and will be removed in 1.6. Use the SAMME algorithm to circumvent this warning.\n",
      "  warnings.warn(\n",
      "/Users/daniel/Workspace/SGX-Full-OrderBook-Tick-Data-Trading-Strategy/venv/lib/python3.10/site-packages/sklearn/ensemble/_weight_boosting.py:519: FutureWarning: The SAMME.R algorithm (the default) is deprecated and will be removed in 1.6. Use the SAMME algorithm to circumvent this warning.\n",
      "  warnings.warn(\n",
      "/Users/daniel/Workspace/SGX-Full-OrderBook-Tick-Data-Trading-Strategy/venv/lib/python3.10/site-packages/sklearn/ensemble/_weight_boosting.py:519: FutureWarning: The SAMME.R algorithm (the default) is deprecated and will be removed in 1.6. Use the SAMME algorithm to circumvent this warning.\n",
      "  warnings.warn(\n",
      "/Users/daniel/Workspace/SGX-Full-OrderBook-Tick-Data-Trading-Strategy/venv/lib/python3.10/site-packages/sklearn/ensemble/_weight_boosting.py:519: FutureWarning: The SAMME.R algorithm (the default) is deprecated and will be removed in 1.6. Use the SAMME algorithm to circumvent this warning.\n",
      "  warnings.warn(\n"
     ]
    },
    {
     "name": "stdout",
     "output_type": "stream",
     "text": [
      "{'learning_rate': 0.1, 'max_depth': 10, 'max_features': None, 'min_samples_leaf': 3, 'min_samples_split': 2, 'n_estimators': 10, 'subsample': 1.0}\n",
      "CV Best Score = 1.0\n",
      "Running GridSearchCV for SVC.\n",
      "{'C': 1, 'kernel': 'linear'}\n",
      "CV Best Score = 1.0\n",
      "Running training & testing for RandomForestClassifier.\n",
      "Accuracy = 1.0\n",
      "Running training & testing for ExtraTreesClassifier.\n",
      "Accuracy = 1.0\n",
      "Running training & testing for AdaBoostClassifier.\n",
      "Accuracy = 1.0\n",
      "Running training & testing for GradientBoostingClassifier.\n",
      "Accuracy = 1.0\n",
      "Running training & testing for SVC.\n"
     ]
    },
    {
     "name": "stderr",
     "output_type": "stream",
     "text": [
      "/Users/daniel/Workspace/SGX-Full-OrderBook-Tick-Data-Trading-Strategy/venv/lib/python3.10/site-packages/sklearn/ensemble/_weight_boosting.py:519: FutureWarning: The SAMME.R algorithm (the default) is deprecated and will be removed in 1.6. Use the SAMME algorithm to circumvent this warning.\n",
      "  warnings.warn(\n"
     ]
    },
    {
     "name": "stdout",
     "output_type": "stream",
     "text": [
      "Accuracy = 1.0\n",
      "--------------------Rolling Window Time = 31.0--------------------\n",
      "Running GridSearchCV for RandomForestClassifier.\n",
      "{'criterion': 'entropy', 'max_depth': 10, 'max_features': None, 'min_samples_leaf': 3, 'min_samples_split': 2, 'n_estimators': 10}\n",
      "CV Best Score = 1.0\n",
      "Running GridSearchCV for ExtraTreesClassifier.\n",
      "{'criterion': 'entropy', 'max_depth': 10, 'max_features': None, 'min_samples_leaf': 3, 'min_samples_split': 2, 'n_estimators': 10}\n",
      "CV Best Score = 1.0\n",
      "Running GridSearchCV for AdaBoostClassifier.\n",
      "{'estimator__criterion': 'entropy', 'estimator__max_depth': None, 'estimator__max_features': None, 'estimator__min_samples_leaf': 3, 'estimator__min_samples_split': 2}\n",
      "CV Best Score = 1.0\n",
      "Running GridSearchCV for GradientBoostingClassifier.\n"
     ]
    },
    {
     "name": "stderr",
     "output_type": "stream",
     "text": [
      "/Users/daniel/Workspace/SGX-Full-OrderBook-Tick-Data-Trading-Strategy/venv/lib/python3.10/site-packages/sklearn/ensemble/_weight_boosting.py:519: FutureWarning: The SAMME.R algorithm (the default) is deprecated and will be removed in 1.6. Use the SAMME algorithm to circumvent this warning.\n",
      "  warnings.warn(\n",
      "/Users/daniel/Workspace/SGX-Full-OrderBook-Tick-Data-Trading-Strategy/venv/lib/python3.10/site-packages/sklearn/ensemble/_weight_boosting.py:519: FutureWarning: The SAMME.R algorithm (the default) is deprecated and will be removed in 1.6. Use the SAMME algorithm to circumvent this warning.\n",
      "  warnings.warn(\n",
      "/Users/daniel/Workspace/SGX-Full-OrderBook-Tick-Data-Trading-Strategy/venv/lib/python3.10/site-packages/sklearn/ensemble/_weight_boosting.py:519: FutureWarning: The SAMME.R algorithm (the default) is deprecated and will be removed in 1.6. Use the SAMME algorithm to circumvent this warning.\n",
      "  warnings.warn(\n",
      "/Users/daniel/Workspace/SGX-Full-OrderBook-Tick-Data-Trading-Strategy/venv/lib/python3.10/site-packages/sklearn/ensemble/_weight_boosting.py:519: FutureWarning: The SAMME.R algorithm (the default) is deprecated and will be removed in 1.6. Use the SAMME algorithm to circumvent this warning.\n",
      "  warnings.warn(\n",
      "/Users/daniel/Workspace/SGX-Full-OrderBook-Tick-Data-Trading-Strategy/venv/lib/python3.10/site-packages/sklearn/ensemble/_weight_boosting.py:519: FutureWarning: The SAMME.R algorithm (the default) is deprecated and will be removed in 1.6. Use the SAMME algorithm to circumvent this warning.\n",
      "  warnings.warn(\n",
      "/Users/daniel/Workspace/SGX-Full-OrderBook-Tick-Data-Trading-Strategy/venv/lib/python3.10/site-packages/sklearn/ensemble/_weight_boosting.py:519: FutureWarning: The SAMME.R algorithm (the default) is deprecated and will be removed in 1.6. Use the SAMME algorithm to circumvent this warning.\n",
      "  warnings.warn(\n"
     ]
    },
    {
     "name": "stdout",
     "output_type": "stream",
     "text": [
      "{'learning_rate': 0.1, 'max_depth': 10, 'max_features': None, 'min_samples_leaf': 3, 'min_samples_split': 2, 'n_estimators': 10, 'subsample': 1.0}\n",
      "CV Best Score = 1.0\n",
      "Running GridSearchCV for SVC.\n",
      "{'C': 1, 'kernel': 'linear'}\n",
      "CV Best Score = 1.0\n",
      "Running training & testing for RandomForestClassifier.\n",
      "Accuracy = 1.0\n",
      "Running training & testing for ExtraTreesClassifier.\n",
      "Accuracy = 1.0\n",
      "Running training & testing for AdaBoostClassifier.\n",
      "Accuracy = 1.0\n",
      "Running training & testing for GradientBoostingClassifier.\n",
      "Accuracy = 1.0\n",
      "Running training & testing for SVC.\n"
     ]
    },
    {
     "name": "stderr",
     "output_type": "stream",
     "text": [
      "/Users/daniel/Workspace/SGX-Full-OrderBook-Tick-Data-Trading-Strategy/venv/lib/python3.10/site-packages/sklearn/ensemble/_weight_boosting.py:519: FutureWarning: The SAMME.R algorithm (the default) is deprecated and will be removed in 1.6. Use the SAMME algorithm to circumvent this warning.\n",
      "  warnings.warn(\n"
     ]
    },
    {
     "name": "stdout",
     "output_type": "stream",
     "text": [
      "Accuracy = 1.0\n",
      "--------------------Rolling Window Time = 32.0--------------------\n",
      "Running GridSearchCV for RandomForestClassifier.\n",
      "{'criterion': 'entropy', 'max_depth': 10, 'max_features': None, 'min_samples_leaf': 3, 'min_samples_split': 2, 'n_estimators': 10}\n",
      "CV Best Score = 1.0\n",
      "Running GridSearchCV for ExtraTreesClassifier.\n",
      "{'criterion': 'entropy', 'max_depth': 10, 'max_features': None, 'min_samples_leaf': 3, 'min_samples_split': 2, 'n_estimators': 10}\n",
      "CV Best Score = 1.0\n",
      "Running GridSearchCV for AdaBoostClassifier.\n",
      "{'estimator__criterion': 'entropy', 'estimator__max_depth': None, 'estimator__max_features': None, 'estimator__min_samples_leaf': 3, 'estimator__min_samples_split': 2}\n",
      "CV Best Score = 1.0\n",
      "Running GridSearchCV for GradientBoostingClassifier.\n"
     ]
    },
    {
     "name": "stderr",
     "output_type": "stream",
     "text": [
      "/Users/daniel/Workspace/SGX-Full-OrderBook-Tick-Data-Trading-Strategy/venv/lib/python3.10/site-packages/sklearn/ensemble/_weight_boosting.py:519: FutureWarning: The SAMME.R algorithm (the default) is deprecated and will be removed in 1.6. Use the SAMME algorithm to circumvent this warning.\n",
      "  warnings.warn(\n",
      "/Users/daniel/Workspace/SGX-Full-OrderBook-Tick-Data-Trading-Strategy/venv/lib/python3.10/site-packages/sklearn/ensemble/_weight_boosting.py:519: FutureWarning: The SAMME.R algorithm (the default) is deprecated and will be removed in 1.6. Use the SAMME algorithm to circumvent this warning.\n",
      "  warnings.warn(\n",
      "/Users/daniel/Workspace/SGX-Full-OrderBook-Tick-Data-Trading-Strategy/venv/lib/python3.10/site-packages/sklearn/ensemble/_weight_boosting.py:519: FutureWarning: The SAMME.R algorithm (the default) is deprecated and will be removed in 1.6. Use the SAMME algorithm to circumvent this warning.\n",
      "  warnings.warn(\n",
      "/Users/daniel/Workspace/SGX-Full-OrderBook-Tick-Data-Trading-Strategy/venv/lib/python3.10/site-packages/sklearn/ensemble/_weight_boosting.py:519: FutureWarning: The SAMME.R algorithm (the default) is deprecated and will be removed in 1.6. Use the SAMME algorithm to circumvent this warning.\n",
      "  warnings.warn(\n",
      "/Users/daniel/Workspace/SGX-Full-OrderBook-Tick-Data-Trading-Strategy/venv/lib/python3.10/site-packages/sklearn/ensemble/_weight_boosting.py:519: FutureWarning: The SAMME.R algorithm (the default) is deprecated and will be removed in 1.6. Use the SAMME algorithm to circumvent this warning.\n",
      "  warnings.warn(\n",
      "/Users/daniel/Workspace/SGX-Full-OrderBook-Tick-Data-Trading-Strategy/venv/lib/python3.10/site-packages/sklearn/ensemble/_weight_boosting.py:519: FutureWarning: The SAMME.R algorithm (the default) is deprecated and will be removed in 1.6. Use the SAMME algorithm to circumvent this warning.\n",
      "  warnings.warn(\n"
     ]
    },
    {
     "name": "stdout",
     "output_type": "stream",
     "text": [
      "{'learning_rate': 0.1, 'max_depth': 10, 'max_features': None, 'min_samples_leaf': 3, 'min_samples_split': 2, 'n_estimators': 10, 'subsample': 1.0}\n",
      "CV Best Score = 1.0\n",
      "Running GridSearchCV for SVC.\n",
      "{'C': 1, 'kernel': 'linear'}\n",
      "CV Best Score = 1.0\n",
      "Running training & testing for RandomForestClassifier.\n",
      "Accuracy = 1.0\n",
      "Running training & testing for ExtraTreesClassifier.\n",
      "Accuracy = 1.0\n",
      "Running training & testing for AdaBoostClassifier.\n",
      "Accuracy = 1.0\n",
      "Running training & testing for GradientBoostingClassifier.\n",
      "Accuracy = 1.0\n",
      "Running training & testing for SVC.\n"
     ]
    },
    {
     "name": "stderr",
     "output_type": "stream",
     "text": [
      "/Users/daniel/Workspace/SGX-Full-OrderBook-Tick-Data-Trading-Strategy/venv/lib/python3.10/site-packages/sklearn/ensemble/_weight_boosting.py:519: FutureWarning: The SAMME.R algorithm (the default) is deprecated and will be removed in 1.6. Use the SAMME algorithm to circumvent this warning.\n",
      "  warnings.warn(\n"
     ]
    },
    {
     "name": "stdout",
     "output_type": "stream",
     "text": [
      "Accuracy = 1.0\n",
      "--------------------Rolling Window Time = 33.0--------------------\n",
      "Running GridSearchCV for RandomForestClassifier.\n",
      "{'criterion': 'entropy', 'max_depth': 10, 'max_features': None, 'min_samples_leaf': 3, 'min_samples_split': 2, 'n_estimators': 10}\n",
      "CV Best Score = 1.0\n",
      "Running GridSearchCV for ExtraTreesClassifier.\n",
      "{'criterion': 'entropy', 'max_depth': 10, 'max_features': None, 'min_samples_leaf': 3, 'min_samples_split': 2, 'n_estimators': 10}\n",
      "CV Best Score = 1.0\n",
      "Running GridSearchCV for AdaBoostClassifier.\n",
      "{'estimator__criterion': 'entropy', 'estimator__max_depth': None, 'estimator__max_features': None, 'estimator__min_samples_leaf': 3, 'estimator__min_samples_split': 2}\n",
      "CV Best Score = 1.0\n",
      "Running GridSearchCV for GradientBoostingClassifier.\n"
     ]
    },
    {
     "name": "stderr",
     "output_type": "stream",
     "text": [
      "/Users/daniel/Workspace/SGX-Full-OrderBook-Tick-Data-Trading-Strategy/venv/lib/python3.10/site-packages/sklearn/ensemble/_weight_boosting.py:519: FutureWarning: The SAMME.R algorithm (the default) is deprecated and will be removed in 1.6. Use the SAMME algorithm to circumvent this warning.\n",
      "  warnings.warn(\n",
      "/Users/daniel/Workspace/SGX-Full-OrderBook-Tick-Data-Trading-Strategy/venv/lib/python3.10/site-packages/sklearn/ensemble/_weight_boosting.py:519: FutureWarning: The SAMME.R algorithm (the default) is deprecated and will be removed in 1.6. Use the SAMME algorithm to circumvent this warning.\n",
      "  warnings.warn(\n",
      "/Users/daniel/Workspace/SGX-Full-OrderBook-Tick-Data-Trading-Strategy/venv/lib/python3.10/site-packages/sklearn/ensemble/_weight_boosting.py:519: FutureWarning: The SAMME.R algorithm (the default) is deprecated and will be removed in 1.6. Use the SAMME algorithm to circumvent this warning.\n",
      "  warnings.warn(\n",
      "/Users/daniel/Workspace/SGX-Full-OrderBook-Tick-Data-Trading-Strategy/venv/lib/python3.10/site-packages/sklearn/ensemble/_weight_boosting.py:519: FutureWarning: The SAMME.R algorithm (the default) is deprecated and will be removed in 1.6. Use the SAMME algorithm to circumvent this warning.\n",
      "  warnings.warn(\n",
      "/Users/daniel/Workspace/SGX-Full-OrderBook-Tick-Data-Trading-Strategy/venv/lib/python3.10/site-packages/sklearn/ensemble/_weight_boosting.py:519: FutureWarning: The SAMME.R algorithm (the default) is deprecated and will be removed in 1.6. Use the SAMME algorithm to circumvent this warning.\n",
      "  warnings.warn(\n",
      "/Users/daniel/Workspace/SGX-Full-OrderBook-Tick-Data-Trading-Strategy/venv/lib/python3.10/site-packages/sklearn/ensemble/_weight_boosting.py:519: FutureWarning: The SAMME.R algorithm (the default) is deprecated and will be removed in 1.6. Use the SAMME algorithm to circumvent this warning.\n",
      "  warnings.warn(\n"
     ]
    },
    {
     "name": "stdout",
     "output_type": "stream",
     "text": [
      "{'learning_rate': 0.1, 'max_depth': 10, 'max_features': None, 'min_samples_leaf': 3, 'min_samples_split': 2, 'n_estimators': 10, 'subsample': 1.0}\n",
      "CV Best Score = 1.0\n",
      "Running GridSearchCV for SVC.\n",
      "{'C': 1, 'kernel': 'linear'}\n",
      "CV Best Score = 1.0\n",
      "Running training & testing for RandomForestClassifier.\n",
      "Accuracy = 1.0\n",
      "Running training & testing for ExtraTreesClassifier.\n",
      "Accuracy = 1.0\n",
      "Running training & testing for AdaBoostClassifier.\n",
      "Accuracy = 1.0\n",
      "Running training & testing for GradientBoostingClassifier.\n",
      "Accuracy = 1.0\n",
      "Running training & testing for SVC.\n"
     ]
    },
    {
     "name": "stderr",
     "output_type": "stream",
     "text": [
      "/Users/daniel/Workspace/SGX-Full-OrderBook-Tick-Data-Trading-Strategy/venv/lib/python3.10/site-packages/sklearn/ensemble/_weight_boosting.py:519: FutureWarning: The SAMME.R algorithm (the default) is deprecated and will be removed in 1.6. Use the SAMME algorithm to circumvent this warning.\n",
      "  warnings.warn(\n"
     ]
    },
    {
     "name": "stdout",
     "output_type": "stream",
     "text": [
      "Accuracy = 1.0\n",
      "--------------------Rolling Window Time = 34.0--------------------\n",
      "Running GridSearchCV for RandomForestClassifier.\n",
      "{'criterion': 'entropy', 'max_depth': 10, 'max_features': None, 'min_samples_leaf': 3, 'min_samples_split': 2, 'n_estimators': 10}\n",
      "CV Best Score = 1.0\n",
      "Running GridSearchCV for ExtraTreesClassifier.\n",
      "{'criterion': 'entropy', 'max_depth': 10, 'max_features': None, 'min_samples_leaf': 3, 'min_samples_split': 2, 'n_estimators': 10}\n",
      "CV Best Score = 1.0\n",
      "Running GridSearchCV for AdaBoostClassifier.\n",
      "{'estimator__criterion': 'entropy', 'estimator__max_depth': None, 'estimator__max_features': None, 'estimator__min_samples_leaf': 3, 'estimator__min_samples_split': 2}\n",
      "CV Best Score = 1.0\n",
      "Running GridSearchCV for GradientBoostingClassifier.\n"
     ]
    },
    {
     "name": "stderr",
     "output_type": "stream",
     "text": [
      "/Users/daniel/Workspace/SGX-Full-OrderBook-Tick-Data-Trading-Strategy/venv/lib/python3.10/site-packages/sklearn/ensemble/_weight_boosting.py:519: FutureWarning: The SAMME.R algorithm (the default) is deprecated and will be removed in 1.6. Use the SAMME algorithm to circumvent this warning.\n",
      "  warnings.warn(\n",
      "/Users/daniel/Workspace/SGX-Full-OrderBook-Tick-Data-Trading-Strategy/venv/lib/python3.10/site-packages/sklearn/ensemble/_weight_boosting.py:519: FutureWarning: The SAMME.R algorithm (the default) is deprecated and will be removed in 1.6. Use the SAMME algorithm to circumvent this warning.\n",
      "  warnings.warn(\n",
      "/Users/daniel/Workspace/SGX-Full-OrderBook-Tick-Data-Trading-Strategy/venv/lib/python3.10/site-packages/sklearn/ensemble/_weight_boosting.py:519: FutureWarning: The SAMME.R algorithm (the default) is deprecated and will be removed in 1.6. Use the SAMME algorithm to circumvent this warning.\n",
      "  warnings.warn(\n",
      "/Users/daniel/Workspace/SGX-Full-OrderBook-Tick-Data-Trading-Strategy/venv/lib/python3.10/site-packages/sklearn/ensemble/_weight_boosting.py:519: FutureWarning: The SAMME.R algorithm (the default) is deprecated and will be removed in 1.6. Use the SAMME algorithm to circumvent this warning.\n",
      "  warnings.warn(\n",
      "/Users/daniel/Workspace/SGX-Full-OrderBook-Tick-Data-Trading-Strategy/venv/lib/python3.10/site-packages/sklearn/ensemble/_weight_boosting.py:519: FutureWarning: The SAMME.R algorithm (the default) is deprecated and will be removed in 1.6. Use the SAMME algorithm to circumvent this warning.\n",
      "  warnings.warn(\n",
      "/Users/daniel/Workspace/SGX-Full-OrderBook-Tick-Data-Trading-Strategy/venv/lib/python3.10/site-packages/sklearn/ensemble/_weight_boosting.py:519: FutureWarning: The SAMME.R algorithm (the default) is deprecated and will be removed in 1.6. Use the SAMME algorithm to circumvent this warning.\n",
      "  warnings.warn(\n"
     ]
    },
    {
     "name": "stdout",
     "output_type": "stream",
     "text": [
      "{'learning_rate': 0.1, 'max_depth': 10, 'max_features': None, 'min_samples_leaf': 3, 'min_samples_split': 2, 'n_estimators': 10, 'subsample': 1.0}\n",
      "CV Best Score = 1.0\n",
      "Running GridSearchCV for SVC.\n",
      "{'C': 1, 'kernel': 'linear'}\n",
      "CV Best Score = 1.0\n",
      "Running training & testing for RandomForestClassifier.\n",
      "Accuracy = 1.0\n",
      "Running training & testing for ExtraTreesClassifier.\n",
      "Accuracy = 1.0\n",
      "Running training & testing for AdaBoostClassifier.\n",
      "Accuracy = 1.0\n",
      "Running training & testing for GradientBoostingClassifier.\n",
      "Accuracy = 1.0\n",
      "Running training & testing for SVC.\n"
     ]
    },
    {
     "name": "stderr",
     "output_type": "stream",
     "text": [
      "/Users/daniel/Workspace/SGX-Full-OrderBook-Tick-Data-Trading-Strategy/venv/lib/python3.10/site-packages/sklearn/ensemble/_weight_boosting.py:519: FutureWarning: The SAMME.R algorithm (the default) is deprecated and will be removed in 1.6. Use the SAMME algorithm to circumvent this warning.\n",
      "  warnings.warn(\n"
     ]
    },
    {
     "name": "stdout",
     "output_type": "stream",
     "text": [
      "Accuracy = 1.0\n",
      "--------------------Rolling Window Time = 35.0--------------------\n",
      "Running GridSearchCV for RandomForestClassifier.\n",
      "{'criterion': 'entropy', 'max_depth': 10, 'max_features': None, 'min_samples_leaf': 3, 'min_samples_split': 2, 'n_estimators': 10}\n",
      "CV Best Score = 1.0\n",
      "Running GridSearchCV for ExtraTreesClassifier.\n",
      "{'criterion': 'entropy', 'max_depth': 10, 'max_features': None, 'min_samples_leaf': 3, 'min_samples_split': 2, 'n_estimators': 10}\n",
      "CV Best Score = 1.0\n",
      "Running GridSearchCV for AdaBoostClassifier.\n",
      "{'estimator__criterion': 'entropy', 'estimator__max_depth': None, 'estimator__max_features': None, 'estimator__min_samples_leaf': 3, 'estimator__min_samples_split': 2}\n",
      "CV Best Score = 1.0\n",
      "Running GridSearchCV for GradientBoostingClassifier.\n"
     ]
    },
    {
     "name": "stderr",
     "output_type": "stream",
     "text": [
      "/Users/daniel/Workspace/SGX-Full-OrderBook-Tick-Data-Trading-Strategy/venv/lib/python3.10/site-packages/sklearn/ensemble/_weight_boosting.py:519: FutureWarning: The SAMME.R algorithm (the default) is deprecated and will be removed in 1.6. Use the SAMME algorithm to circumvent this warning.\n",
      "  warnings.warn(\n",
      "/Users/daniel/Workspace/SGX-Full-OrderBook-Tick-Data-Trading-Strategy/venv/lib/python3.10/site-packages/sklearn/ensemble/_weight_boosting.py:519: FutureWarning: The SAMME.R algorithm (the default) is deprecated and will be removed in 1.6. Use the SAMME algorithm to circumvent this warning.\n",
      "  warnings.warn(\n",
      "/Users/daniel/Workspace/SGX-Full-OrderBook-Tick-Data-Trading-Strategy/venv/lib/python3.10/site-packages/sklearn/ensemble/_weight_boosting.py:519: FutureWarning: The SAMME.R algorithm (the default) is deprecated and will be removed in 1.6. Use the SAMME algorithm to circumvent this warning.\n",
      "  warnings.warn(\n",
      "/Users/daniel/Workspace/SGX-Full-OrderBook-Tick-Data-Trading-Strategy/venv/lib/python3.10/site-packages/sklearn/ensemble/_weight_boosting.py:519: FutureWarning: The SAMME.R algorithm (the default) is deprecated and will be removed in 1.6. Use the SAMME algorithm to circumvent this warning.\n",
      "  warnings.warn(\n",
      "/Users/daniel/Workspace/SGX-Full-OrderBook-Tick-Data-Trading-Strategy/venv/lib/python3.10/site-packages/sklearn/ensemble/_weight_boosting.py:519: FutureWarning: The SAMME.R algorithm (the default) is deprecated and will be removed in 1.6. Use the SAMME algorithm to circumvent this warning.\n",
      "  warnings.warn(\n",
      "/Users/daniel/Workspace/SGX-Full-OrderBook-Tick-Data-Trading-Strategy/venv/lib/python3.10/site-packages/sklearn/ensemble/_weight_boosting.py:519: FutureWarning: The SAMME.R algorithm (the default) is deprecated and will be removed in 1.6. Use the SAMME algorithm to circumvent this warning.\n",
      "  warnings.warn(\n"
     ]
    },
    {
     "name": "stdout",
     "output_type": "stream",
     "text": [
      "{'learning_rate': 0.1, 'max_depth': 10, 'max_features': None, 'min_samples_leaf': 3, 'min_samples_split': 2, 'n_estimators': 10, 'subsample': 1.0}\n",
      "CV Best Score = 1.0\n",
      "Running GridSearchCV for SVC.\n",
      "{'C': 1, 'kernel': 'linear'}\n",
      "CV Best Score = 1.0\n",
      "Running training & testing for RandomForestClassifier.\n",
      "Accuracy = 1.0\n",
      "Running training & testing for ExtraTreesClassifier.\n",
      "Accuracy = 1.0\n",
      "Running training & testing for AdaBoostClassifier.\n",
      "Accuracy = 1.0\n",
      "Running training & testing for GradientBoostingClassifier.\n",
      "Accuracy = 1.0\n",
      "Running training & testing for SVC.\n"
     ]
    },
    {
     "name": "stderr",
     "output_type": "stream",
     "text": [
      "/Users/daniel/Workspace/SGX-Full-OrderBook-Tick-Data-Trading-Strategy/venv/lib/python3.10/site-packages/sklearn/ensemble/_weight_boosting.py:519: FutureWarning: The SAMME.R algorithm (the default) is deprecated and will be removed in 1.6. Use the SAMME algorithm to circumvent this warning.\n",
      "  warnings.warn(\n"
     ]
    },
    {
     "name": "stdout",
     "output_type": "stream",
     "text": [
      "Accuracy = 1.0\n",
      "--------------------Rolling Window Time = 36.0--------------------\n",
      "Running GridSearchCV for RandomForestClassifier.\n",
      "{'criterion': 'entropy', 'max_depth': 10, 'max_features': None, 'min_samples_leaf': 3, 'min_samples_split': 2, 'n_estimators': 10}\n",
      "CV Best Score = 0.8866666666666667\n",
      "Running GridSearchCV for ExtraTreesClassifier.\n",
      "{'criterion': 'entropy', 'max_depth': 10, 'max_features': None, 'min_samples_leaf': 3, 'min_samples_split': 2, 'n_estimators': 10}\n",
      "CV Best Score = 1.0\n",
      "Running GridSearchCV for AdaBoostClassifier.\n",
      "{'estimator__criterion': 'entropy', 'estimator__max_depth': None, 'estimator__max_features': None, 'estimator__min_samples_leaf': 3, 'estimator__min_samples_split': 2}\n",
      "CV Best Score = 0.8833333333333332\n",
      "Running GridSearchCV for GradientBoostingClassifier.\n"
     ]
    },
    {
     "name": "stderr",
     "output_type": "stream",
     "text": [
      "/Users/daniel/Workspace/SGX-Full-OrderBook-Tick-Data-Trading-Strategy/venv/lib/python3.10/site-packages/sklearn/ensemble/_weight_boosting.py:519: FutureWarning: The SAMME.R algorithm (the default) is deprecated and will be removed in 1.6. Use the SAMME algorithm to circumvent this warning.\n",
      "  warnings.warn(\n",
      "/Users/daniel/Workspace/SGX-Full-OrderBook-Tick-Data-Trading-Strategy/venv/lib/python3.10/site-packages/sklearn/ensemble/_weight_boosting.py:519: FutureWarning: The SAMME.R algorithm (the default) is deprecated and will be removed in 1.6. Use the SAMME algorithm to circumvent this warning.\n",
      "  warnings.warn(\n",
      "/Users/daniel/Workspace/SGX-Full-OrderBook-Tick-Data-Trading-Strategy/venv/lib/python3.10/site-packages/sklearn/ensemble/_weight_boosting.py:519: FutureWarning: The SAMME.R algorithm (the default) is deprecated and will be removed in 1.6. Use the SAMME algorithm to circumvent this warning.\n",
      "  warnings.warn(\n",
      "/Users/daniel/Workspace/SGX-Full-OrderBook-Tick-Data-Trading-Strategy/venv/lib/python3.10/site-packages/sklearn/ensemble/_weight_boosting.py:519: FutureWarning: The SAMME.R algorithm (the default) is deprecated and will be removed in 1.6. Use the SAMME algorithm to circumvent this warning.\n",
      "  warnings.warn(\n",
      "/Users/daniel/Workspace/SGX-Full-OrderBook-Tick-Data-Trading-Strategy/venv/lib/python3.10/site-packages/sklearn/ensemble/_weight_boosting.py:519: FutureWarning: The SAMME.R algorithm (the default) is deprecated and will be removed in 1.6. Use the SAMME algorithm to circumvent this warning.\n",
      "  warnings.warn(\n",
      "/Users/daniel/Workspace/SGX-Full-OrderBook-Tick-Data-Trading-Strategy/venv/lib/python3.10/site-packages/sklearn/ensemble/_weight_boosting.py:519: FutureWarning: The SAMME.R algorithm (the default) is deprecated and will be removed in 1.6. Use the SAMME algorithm to circumvent this warning.\n",
      "  warnings.warn(\n"
     ]
    },
    {
     "name": "stdout",
     "output_type": "stream",
     "text": [
      "{'learning_rate': 0.1, 'max_depth': 10, 'max_features': None, 'min_samples_leaf': 3, 'min_samples_split': 2, 'n_estimators': 10, 'subsample': 1.0}\n",
      "CV Best Score = 0.8833333333333332\n",
      "Running GridSearchCV for SVC.\n",
      "{'C': 1, 'kernel': 'linear'}\n",
      "CV Best Score = 1.0\n",
      "Running training & testing for RandomForestClassifier.\n",
      "Accuracy = 1.0\n",
      "Running training & testing for ExtraTreesClassifier.\n",
      "Accuracy = 1.0\n",
      "Running training & testing for AdaBoostClassifier.\n",
      "Accuracy = 1.0\n",
      "Running training & testing for GradientBoostingClassifier.\n",
      "Accuracy = 1.0\n",
      "Running training & testing for SVC.\n"
     ]
    },
    {
     "name": "stderr",
     "output_type": "stream",
     "text": [
      "/Users/daniel/Workspace/SGX-Full-OrderBook-Tick-Data-Trading-Strategy/venv/lib/python3.10/site-packages/sklearn/ensemble/_weight_boosting.py:519: FutureWarning: The SAMME.R algorithm (the default) is deprecated and will be removed in 1.6. Use the SAMME algorithm to circumvent this warning.\n",
      "  warnings.warn(\n"
     ]
    },
    {
     "name": "stdout",
     "output_type": "stream",
     "text": [
      "Accuracy = 1.0\n",
      "--------------------Rolling Window Time = 37.0--------------------\n",
      "Running GridSearchCV for RandomForestClassifier.\n",
      "{'criterion': 'entropy', 'max_depth': 10, 'max_features': None, 'min_samples_leaf': 3, 'min_samples_split': 2, 'n_estimators': 10}\n",
      "CV Best Score = 1.0\n",
      "Running GridSearchCV for ExtraTreesClassifier.\n",
      "{'criterion': 'entropy', 'max_depth': 10, 'max_features': None, 'min_samples_leaf': 3, 'min_samples_split': 2, 'n_estimators': 10}\n",
      "CV Best Score = 1.0\n",
      "Running GridSearchCV for AdaBoostClassifier.\n",
      "{'estimator__criterion': 'entropy', 'estimator__max_depth': None, 'estimator__max_features': None, 'estimator__min_samples_leaf': 3, 'estimator__min_samples_split': 2}\n",
      "CV Best Score = 1.0\n",
      "Running GridSearchCV for GradientBoostingClassifier.\n"
     ]
    },
    {
     "name": "stderr",
     "output_type": "stream",
     "text": [
      "/Users/daniel/Workspace/SGX-Full-OrderBook-Tick-Data-Trading-Strategy/venv/lib/python3.10/site-packages/sklearn/ensemble/_weight_boosting.py:519: FutureWarning: The SAMME.R algorithm (the default) is deprecated and will be removed in 1.6. Use the SAMME algorithm to circumvent this warning.\n",
      "  warnings.warn(\n",
      "/Users/daniel/Workspace/SGX-Full-OrderBook-Tick-Data-Trading-Strategy/venv/lib/python3.10/site-packages/sklearn/ensemble/_weight_boosting.py:519: FutureWarning: The SAMME.R algorithm (the default) is deprecated and will be removed in 1.6. Use the SAMME algorithm to circumvent this warning.\n",
      "  warnings.warn(\n",
      "/Users/daniel/Workspace/SGX-Full-OrderBook-Tick-Data-Trading-Strategy/venv/lib/python3.10/site-packages/sklearn/ensemble/_weight_boosting.py:519: FutureWarning: The SAMME.R algorithm (the default) is deprecated and will be removed in 1.6. Use the SAMME algorithm to circumvent this warning.\n",
      "  warnings.warn(\n",
      "/Users/daniel/Workspace/SGX-Full-OrderBook-Tick-Data-Trading-Strategy/venv/lib/python3.10/site-packages/sklearn/ensemble/_weight_boosting.py:519: FutureWarning: The SAMME.R algorithm (the default) is deprecated and will be removed in 1.6. Use the SAMME algorithm to circumvent this warning.\n",
      "  warnings.warn(\n",
      "/Users/daniel/Workspace/SGX-Full-OrderBook-Tick-Data-Trading-Strategy/venv/lib/python3.10/site-packages/sklearn/ensemble/_weight_boosting.py:519: FutureWarning: The SAMME.R algorithm (the default) is deprecated and will be removed in 1.6. Use the SAMME algorithm to circumvent this warning.\n",
      "  warnings.warn(\n",
      "/Users/daniel/Workspace/SGX-Full-OrderBook-Tick-Data-Trading-Strategy/venv/lib/python3.10/site-packages/sklearn/ensemble/_weight_boosting.py:519: FutureWarning: The SAMME.R algorithm (the default) is deprecated and will be removed in 1.6. Use the SAMME algorithm to circumvent this warning.\n",
      "  warnings.warn(\n"
     ]
    },
    {
     "name": "stdout",
     "output_type": "stream",
     "text": [
      "{'learning_rate': 0.1, 'max_depth': 10, 'max_features': None, 'min_samples_leaf': 3, 'min_samples_split': 2, 'n_estimators': 10, 'subsample': 1.0}\n",
      "CV Best Score = 1.0\n",
      "Running GridSearchCV for SVC.\n",
      "{'C': 1, 'kernel': 'linear'}\n",
      "CV Best Score = 1.0\n",
      "Running training & testing for RandomForestClassifier.\n",
      "Accuracy = 1.0\n",
      "Running training & testing for ExtraTreesClassifier.\n",
      "Accuracy = 1.0\n",
      "Running training & testing for AdaBoostClassifier.\n",
      "Accuracy = 1.0\n",
      "Running training & testing for GradientBoostingClassifier.\n",
      "Accuracy = 1.0\n",
      "Running training & testing for SVC.\n"
     ]
    },
    {
     "name": "stderr",
     "output_type": "stream",
     "text": [
      "/Users/daniel/Workspace/SGX-Full-OrderBook-Tick-Data-Trading-Strategy/venv/lib/python3.10/site-packages/sklearn/ensemble/_weight_boosting.py:519: FutureWarning: The SAMME.R algorithm (the default) is deprecated and will be removed in 1.6. Use the SAMME algorithm to circumvent this warning.\n",
      "  warnings.warn(\n"
     ]
    },
    {
     "name": "stdout",
     "output_type": "stream",
     "text": [
      "Accuracy = 1.0\n",
      "--------------------Rolling Window Time = 38.0--------------------\n",
      "Running GridSearchCV for RandomForestClassifier.\n",
      "{'criterion': 'entropy', 'max_depth': 10, 'max_features': None, 'min_samples_leaf': 3, 'min_samples_split': 2, 'n_estimators': 10}\n",
      "CV Best Score = 1.0\n",
      "Running GridSearchCV for ExtraTreesClassifier.\n",
      "{'criterion': 'entropy', 'max_depth': 10, 'max_features': None, 'min_samples_leaf': 3, 'min_samples_split': 2, 'n_estimators': 10}\n",
      "CV Best Score = 1.0\n",
      "Running GridSearchCV for AdaBoostClassifier.\n",
      "{'estimator__criterion': 'entropy', 'estimator__max_depth': None, 'estimator__max_features': None, 'estimator__min_samples_leaf': 3, 'estimator__min_samples_split': 2}\n",
      "CV Best Score = 1.0\n",
      "Running GridSearchCV for GradientBoostingClassifier.\n"
     ]
    },
    {
     "name": "stderr",
     "output_type": "stream",
     "text": [
      "/Users/daniel/Workspace/SGX-Full-OrderBook-Tick-Data-Trading-Strategy/venv/lib/python3.10/site-packages/sklearn/ensemble/_weight_boosting.py:519: FutureWarning: The SAMME.R algorithm (the default) is deprecated and will be removed in 1.6. Use the SAMME algorithm to circumvent this warning.\n",
      "  warnings.warn(\n",
      "/Users/daniel/Workspace/SGX-Full-OrderBook-Tick-Data-Trading-Strategy/venv/lib/python3.10/site-packages/sklearn/ensemble/_weight_boosting.py:519: FutureWarning: The SAMME.R algorithm (the default) is deprecated and will be removed in 1.6. Use the SAMME algorithm to circumvent this warning.\n",
      "  warnings.warn(\n",
      "/Users/daniel/Workspace/SGX-Full-OrderBook-Tick-Data-Trading-Strategy/venv/lib/python3.10/site-packages/sklearn/ensemble/_weight_boosting.py:519: FutureWarning: The SAMME.R algorithm (the default) is deprecated and will be removed in 1.6. Use the SAMME algorithm to circumvent this warning.\n",
      "  warnings.warn(\n",
      "/Users/daniel/Workspace/SGX-Full-OrderBook-Tick-Data-Trading-Strategy/venv/lib/python3.10/site-packages/sklearn/ensemble/_weight_boosting.py:519: FutureWarning: The SAMME.R algorithm (the default) is deprecated and will be removed in 1.6. Use the SAMME algorithm to circumvent this warning.\n",
      "  warnings.warn(\n",
      "/Users/daniel/Workspace/SGX-Full-OrderBook-Tick-Data-Trading-Strategy/venv/lib/python3.10/site-packages/sklearn/ensemble/_weight_boosting.py:519: FutureWarning: The SAMME.R algorithm (the default) is deprecated and will be removed in 1.6. Use the SAMME algorithm to circumvent this warning.\n",
      "  warnings.warn(\n",
      "/Users/daniel/Workspace/SGX-Full-OrderBook-Tick-Data-Trading-Strategy/venv/lib/python3.10/site-packages/sklearn/ensemble/_weight_boosting.py:519: FutureWarning: The SAMME.R algorithm (the default) is deprecated and will be removed in 1.6. Use the SAMME algorithm to circumvent this warning.\n",
      "  warnings.warn(\n"
     ]
    },
    {
     "name": "stdout",
     "output_type": "stream",
     "text": [
      "{'learning_rate': 0.1, 'max_depth': 10, 'max_features': None, 'min_samples_leaf': 3, 'min_samples_split': 2, 'n_estimators': 10, 'subsample': 1.0}\n",
      "CV Best Score = 1.0\n",
      "Running GridSearchCV for SVC.\n",
      "{'C': 1, 'kernel': 'linear'}\n",
      "CV Best Score = 1.0\n",
      "Running training & testing for RandomForestClassifier.\n",
      "Accuracy = 1.0\n",
      "Running training & testing for ExtraTreesClassifier.\n",
      "Accuracy = 1.0\n",
      "Running training & testing for AdaBoostClassifier.\n",
      "Accuracy = 1.0\n",
      "Running training & testing for GradientBoostingClassifier.\n",
      "Accuracy = 1.0\n",
      "Running training & testing for SVC.\n"
     ]
    },
    {
     "name": "stderr",
     "output_type": "stream",
     "text": [
      "/Users/daniel/Workspace/SGX-Full-OrderBook-Tick-Data-Trading-Strategy/venv/lib/python3.10/site-packages/sklearn/ensemble/_weight_boosting.py:519: FutureWarning: The SAMME.R algorithm (the default) is deprecated and will be removed in 1.6. Use the SAMME algorithm to circumvent this warning.\n",
      "  warnings.warn(\n"
     ]
    },
    {
     "name": "stdout",
     "output_type": "stream",
     "text": [
      "Accuracy = 1.0\n",
      "--------------------Rolling Window Time = 39.0--------------------\n",
      "Running GridSearchCV for RandomForestClassifier.\n",
      "{'criterion': 'entropy', 'max_depth': 10, 'max_features': None, 'min_samples_leaf': 3, 'min_samples_split': 2, 'n_estimators': 10}\n",
      "CV Best Score = 1.0\n",
      "Running GridSearchCV for ExtraTreesClassifier.\n",
      "{'criterion': 'entropy', 'max_depth': 10, 'max_features': None, 'min_samples_leaf': 3, 'min_samples_split': 2, 'n_estimators': 10}\n",
      "CV Best Score = 1.0\n",
      "Running GridSearchCV for AdaBoostClassifier.\n",
      "{'estimator__criterion': 'entropy', 'estimator__max_depth': None, 'estimator__max_features': None, 'estimator__min_samples_leaf': 3, 'estimator__min_samples_split': 2}\n",
      "CV Best Score = 1.0\n",
      "Running GridSearchCV for GradientBoostingClassifier.\n"
     ]
    },
    {
     "name": "stderr",
     "output_type": "stream",
     "text": [
      "/Users/daniel/Workspace/SGX-Full-OrderBook-Tick-Data-Trading-Strategy/venv/lib/python3.10/site-packages/sklearn/ensemble/_weight_boosting.py:519: FutureWarning: The SAMME.R algorithm (the default) is deprecated and will be removed in 1.6. Use the SAMME algorithm to circumvent this warning.\n",
      "  warnings.warn(\n",
      "/Users/daniel/Workspace/SGX-Full-OrderBook-Tick-Data-Trading-Strategy/venv/lib/python3.10/site-packages/sklearn/ensemble/_weight_boosting.py:519: FutureWarning: The SAMME.R algorithm (the default) is deprecated and will be removed in 1.6. Use the SAMME algorithm to circumvent this warning.\n",
      "  warnings.warn(\n",
      "/Users/daniel/Workspace/SGX-Full-OrderBook-Tick-Data-Trading-Strategy/venv/lib/python3.10/site-packages/sklearn/ensemble/_weight_boosting.py:519: FutureWarning: The SAMME.R algorithm (the default) is deprecated and will be removed in 1.6. Use the SAMME algorithm to circumvent this warning.\n",
      "  warnings.warn(\n",
      "/Users/daniel/Workspace/SGX-Full-OrderBook-Tick-Data-Trading-Strategy/venv/lib/python3.10/site-packages/sklearn/ensemble/_weight_boosting.py:519: FutureWarning: The SAMME.R algorithm (the default) is deprecated and will be removed in 1.6. Use the SAMME algorithm to circumvent this warning.\n",
      "  warnings.warn(\n",
      "/Users/daniel/Workspace/SGX-Full-OrderBook-Tick-Data-Trading-Strategy/venv/lib/python3.10/site-packages/sklearn/ensemble/_weight_boosting.py:519: FutureWarning: The SAMME.R algorithm (the default) is deprecated and will be removed in 1.6. Use the SAMME algorithm to circumvent this warning.\n",
      "  warnings.warn(\n",
      "/Users/daniel/Workspace/SGX-Full-OrderBook-Tick-Data-Trading-Strategy/venv/lib/python3.10/site-packages/sklearn/ensemble/_weight_boosting.py:519: FutureWarning: The SAMME.R algorithm (the default) is deprecated and will be removed in 1.6. Use the SAMME algorithm to circumvent this warning.\n",
      "  warnings.warn(\n"
     ]
    },
    {
     "name": "stdout",
     "output_type": "stream",
     "text": [
      "{'learning_rate': 0.1, 'max_depth': 10, 'max_features': None, 'min_samples_leaf': 3, 'min_samples_split': 2, 'n_estimators': 10, 'subsample': 1.0}\n",
      "CV Best Score = 1.0\n",
      "Running GridSearchCV for SVC.\n",
      "{'C': 1, 'kernel': 'linear'}\n",
      "CV Best Score = 1.0\n",
      "Running training & testing for RandomForestClassifier.\n",
      "Accuracy = 1.0\n",
      "Running training & testing for ExtraTreesClassifier.\n",
      "Accuracy = 1.0\n",
      "Running training & testing for AdaBoostClassifier.\n",
      "Accuracy = 1.0\n",
      "Running training & testing for GradientBoostingClassifier.\n",
      "Accuracy = 1.0\n",
      "Running training & testing for SVC.\n"
     ]
    },
    {
     "name": "stderr",
     "output_type": "stream",
     "text": [
      "/Users/daniel/Workspace/SGX-Full-OrderBook-Tick-Data-Trading-Strategy/venv/lib/python3.10/site-packages/sklearn/ensemble/_weight_boosting.py:519: FutureWarning: The SAMME.R algorithm (the default) is deprecated and will be removed in 1.6. Use the SAMME algorithm to circumvent this warning.\n",
      "  warnings.warn(\n"
     ]
    },
    {
     "name": "stdout",
     "output_type": "stream",
     "text": [
      "Accuracy = 1.0\n",
      "--------------------Rolling Window Time = 40.0--------------------\n",
      "Running GridSearchCV for RandomForestClassifier.\n",
      "{'criterion': 'entropy', 'max_depth': 10, 'max_features': None, 'min_samples_leaf': 3, 'min_samples_split': 2, 'n_estimators': 10}\n",
      "CV Best Score = 1.0\n",
      "Running GridSearchCV for ExtraTreesClassifier.\n",
      "{'criterion': 'entropy', 'max_depth': 10, 'max_features': None, 'min_samples_leaf': 3, 'min_samples_split': 2, 'n_estimators': 10}\n",
      "CV Best Score = 1.0\n",
      "Running GridSearchCV for AdaBoostClassifier.\n",
      "{'estimator__criterion': 'entropy', 'estimator__max_depth': None, 'estimator__max_features': None, 'estimator__min_samples_leaf': 3, 'estimator__min_samples_split': 2}\n",
      "CV Best Score = 1.0\n",
      "Running GridSearchCV for GradientBoostingClassifier.\n"
     ]
    },
    {
     "name": "stderr",
     "output_type": "stream",
     "text": [
      "/Users/daniel/Workspace/SGX-Full-OrderBook-Tick-Data-Trading-Strategy/venv/lib/python3.10/site-packages/sklearn/ensemble/_weight_boosting.py:519: FutureWarning: The SAMME.R algorithm (the default) is deprecated and will be removed in 1.6. Use the SAMME algorithm to circumvent this warning.\n",
      "  warnings.warn(\n",
      "/Users/daniel/Workspace/SGX-Full-OrderBook-Tick-Data-Trading-Strategy/venv/lib/python3.10/site-packages/sklearn/ensemble/_weight_boosting.py:519: FutureWarning: The SAMME.R algorithm (the default) is deprecated and will be removed in 1.6. Use the SAMME algorithm to circumvent this warning.\n",
      "  warnings.warn(\n",
      "/Users/daniel/Workspace/SGX-Full-OrderBook-Tick-Data-Trading-Strategy/venv/lib/python3.10/site-packages/sklearn/ensemble/_weight_boosting.py:519: FutureWarning: The SAMME.R algorithm (the default) is deprecated and will be removed in 1.6. Use the SAMME algorithm to circumvent this warning.\n",
      "  warnings.warn(\n",
      "/Users/daniel/Workspace/SGX-Full-OrderBook-Tick-Data-Trading-Strategy/venv/lib/python3.10/site-packages/sklearn/ensemble/_weight_boosting.py:519: FutureWarning: The SAMME.R algorithm (the default) is deprecated and will be removed in 1.6. Use the SAMME algorithm to circumvent this warning.\n",
      "  warnings.warn(\n",
      "/Users/daniel/Workspace/SGX-Full-OrderBook-Tick-Data-Trading-Strategy/venv/lib/python3.10/site-packages/sklearn/ensemble/_weight_boosting.py:519: FutureWarning: The SAMME.R algorithm (the default) is deprecated and will be removed in 1.6. Use the SAMME algorithm to circumvent this warning.\n",
      "  warnings.warn(\n",
      "/Users/daniel/Workspace/SGX-Full-OrderBook-Tick-Data-Trading-Strategy/venv/lib/python3.10/site-packages/sklearn/ensemble/_weight_boosting.py:519: FutureWarning: The SAMME.R algorithm (the default) is deprecated and will be removed in 1.6. Use the SAMME algorithm to circumvent this warning.\n",
      "  warnings.warn(\n"
     ]
    },
    {
     "name": "stdout",
     "output_type": "stream",
     "text": [
      "{'learning_rate': 0.1, 'max_depth': 10, 'max_features': None, 'min_samples_leaf': 3, 'min_samples_split': 2, 'n_estimators': 10, 'subsample': 1.0}\n",
      "CV Best Score = 1.0\n",
      "Running GridSearchCV for SVC.\n",
      "{'C': 1, 'kernel': 'linear'}\n",
      "CV Best Score = 1.0\n",
      "Running training & testing for RandomForestClassifier.\n",
      "Accuracy = 1.0\n",
      "Running training & testing for ExtraTreesClassifier.\n",
      "Accuracy = 1.0\n",
      "Running training & testing for AdaBoostClassifier.\n",
      "Accuracy = 1.0\n",
      "Running training & testing for GradientBoostingClassifier.\n"
     ]
    },
    {
     "name": "stderr",
     "output_type": "stream",
     "text": [
      "/Users/daniel/Workspace/SGX-Full-OrderBook-Tick-Data-Trading-Strategy/venv/lib/python3.10/site-packages/sklearn/ensemble/_weight_boosting.py:519: FutureWarning: The SAMME.R algorithm (the default) is deprecated and will be removed in 1.6. Use the SAMME algorithm to circumvent this warning.\n",
      "  warnings.warn(\n"
     ]
    },
    {
     "name": "stdout",
     "output_type": "stream",
     "text": [
      "Accuracy = 1.0\n",
      "Running training & testing for SVC.\n",
      "Accuracy = 1.0\n",
      "--------------------Rolling Window Time = 41.0--------------------\n",
      "Running GridSearchCV for RandomForestClassifier.\n",
      "{'criterion': 'entropy', 'max_depth': 10, 'max_features': None, 'min_samples_leaf': 3, 'min_samples_split': 2, 'n_estimators': 10}\n",
      "CV Best Score = 1.0\n",
      "Running GridSearchCV for ExtraTreesClassifier.\n",
      "{'criterion': 'entropy', 'max_depth': 10, 'max_features': None, 'min_samples_leaf': 3, 'min_samples_split': 2, 'n_estimators': 10}\n",
      "CV Best Score = 1.0\n",
      "Running GridSearchCV for AdaBoostClassifier.\n",
      "{'estimator__criterion': 'entropy', 'estimator__max_depth': None, 'estimator__max_features': None, 'estimator__min_samples_leaf': 3, 'estimator__min_samples_split': 2}\n",
      "CV Best Score = 1.0\n",
      "Running GridSearchCV for GradientBoostingClassifier.\n"
     ]
    },
    {
     "name": "stderr",
     "output_type": "stream",
     "text": [
      "/Users/daniel/Workspace/SGX-Full-OrderBook-Tick-Data-Trading-Strategy/venv/lib/python3.10/site-packages/sklearn/ensemble/_weight_boosting.py:519: FutureWarning: The SAMME.R algorithm (the default) is deprecated and will be removed in 1.6. Use the SAMME algorithm to circumvent this warning.\n",
      "  warnings.warn(\n",
      "/Users/daniel/Workspace/SGX-Full-OrderBook-Tick-Data-Trading-Strategy/venv/lib/python3.10/site-packages/sklearn/ensemble/_weight_boosting.py:519: FutureWarning: The SAMME.R algorithm (the default) is deprecated and will be removed in 1.6. Use the SAMME algorithm to circumvent this warning.\n",
      "  warnings.warn(\n",
      "/Users/daniel/Workspace/SGX-Full-OrderBook-Tick-Data-Trading-Strategy/venv/lib/python3.10/site-packages/sklearn/ensemble/_weight_boosting.py:519: FutureWarning: The SAMME.R algorithm (the default) is deprecated and will be removed in 1.6. Use the SAMME algorithm to circumvent this warning.\n",
      "  warnings.warn(\n",
      "/Users/daniel/Workspace/SGX-Full-OrderBook-Tick-Data-Trading-Strategy/venv/lib/python3.10/site-packages/sklearn/ensemble/_weight_boosting.py:519: FutureWarning: The SAMME.R algorithm (the default) is deprecated and will be removed in 1.6. Use the SAMME algorithm to circumvent this warning.\n",
      "  warnings.warn(\n",
      "/Users/daniel/Workspace/SGX-Full-OrderBook-Tick-Data-Trading-Strategy/venv/lib/python3.10/site-packages/sklearn/ensemble/_weight_boosting.py:519: FutureWarning: The SAMME.R algorithm (the default) is deprecated and will be removed in 1.6. Use the SAMME algorithm to circumvent this warning.\n",
      "  warnings.warn(\n",
      "/Users/daniel/Workspace/SGX-Full-OrderBook-Tick-Data-Trading-Strategy/venv/lib/python3.10/site-packages/sklearn/ensemble/_weight_boosting.py:519: FutureWarning: The SAMME.R algorithm (the default) is deprecated and will be removed in 1.6. Use the SAMME algorithm to circumvent this warning.\n",
      "  warnings.warn(\n"
     ]
    },
    {
     "name": "stdout",
     "output_type": "stream",
     "text": [
      "{'learning_rate': 0.1, 'max_depth': 10, 'max_features': None, 'min_samples_leaf': 3, 'min_samples_split': 2, 'n_estimators': 10, 'subsample': 1.0}\n",
      "CV Best Score = 1.0\n",
      "Running GridSearchCV for SVC.\n",
      "{'C': 1, 'kernel': 'linear'}\n",
      "CV Best Score = 1.0\n",
      "Running training & testing for RandomForestClassifier.\n",
      "Accuracy = 1.0\n",
      "Running training & testing for ExtraTreesClassifier.\n",
      "Accuracy = 1.0\n",
      "Running training & testing for AdaBoostClassifier.\n",
      "Accuracy = 1.0\n",
      "Running training & testing for GradientBoostingClassifier.\n",
      "Accuracy = 1.0\n",
      "Running training & testing for SVC.\n"
     ]
    },
    {
     "name": "stderr",
     "output_type": "stream",
     "text": [
      "/Users/daniel/Workspace/SGX-Full-OrderBook-Tick-Data-Trading-Strategy/venv/lib/python3.10/site-packages/sklearn/ensemble/_weight_boosting.py:519: FutureWarning: The SAMME.R algorithm (the default) is deprecated and will be removed in 1.6. Use the SAMME algorithm to circumvent this warning.\n",
      "  warnings.warn(\n"
     ]
    },
    {
     "name": "stdout",
     "output_type": "stream",
     "text": [
      "Accuracy = 1.0\n",
      "--------------------Rolling Window Time = 42.0--------------------\n",
      "Running GridSearchCV for RandomForestClassifier.\n",
      "{'criterion': 'entropy', 'max_depth': 10, 'max_features': None, 'min_samples_leaf': 3, 'min_samples_split': 2, 'n_estimators': 10}\n",
      "CV Best Score = 1.0\n",
      "Running GridSearchCV for ExtraTreesClassifier.\n",
      "{'criterion': 'entropy', 'max_depth': 10, 'max_features': None, 'min_samples_leaf': 3, 'min_samples_split': 2, 'n_estimators': 10}\n",
      "CV Best Score = 1.0\n",
      "Running GridSearchCV for AdaBoostClassifier.\n",
      "{'estimator__criterion': 'entropy', 'estimator__max_depth': None, 'estimator__max_features': None, 'estimator__min_samples_leaf': 3, 'estimator__min_samples_split': 2}\n",
      "CV Best Score = 1.0\n",
      "Running GridSearchCV for GradientBoostingClassifier.\n"
     ]
    },
    {
     "name": "stderr",
     "output_type": "stream",
     "text": [
      "/Users/daniel/Workspace/SGX-Full-OrderBook-Tick-Data-Trading-Strategy/venv/lib/python3.10/site-packages/sklearn/ensemble/_weight_boosting.py:519: FutureWarning: The SAMME.R algorithm (the default) is deprecated and will be removed in 1.6. Use the SAMME algorithm to circumvent this warning.\n",
      "  warnings.warn(\n",
      "/Users/daniel/Workspace/SGX-Full-OrderBook-Tick-Data-Trading-Strategy/venv/lib/python3.10/site-packages/sklearn/ensemble/_weight_boosting.py:519: FutureWarning: The SAMME.R algorithm (the default) is deprecated and will be removed in 1.6. Use the SAMME algorithm to circumvent this warning.\n",
      "  warnings.warn(\n",
      "/Users/daniel/Workspace/SGX-Full-OrderBook-Tick-Data-Trading-Strategy/venv/lib/python3.10/site-packages/sklearn/ensemble/_weight_boosting.py:519: FutureWarning: The SAMME.R algorithm (the default) is deprecated and will be removed in 1.6. Use the SAMME algorithm to circumvent this warning.\n",
      "  warnings.warn(\n",
      "/Users/daniel/Workspace/SGX-Full-OrderBook-Tick-Data-Trading-Strategy/venv/lib/python3.10/site-packages/sklearn/ensemble/_weight_boosting.py:519: FutureWarning: The SAMME.R algorithm (the default) is deprecated and will be removed in 1.6. Use the SAMME algorithm to circumvent this warning.\n",
      "  warnings.warn(\n",
      "/Users/daniel/Workspace/SGX-Full-OrderBook-Tick-Data-Trading-Strategy/venv/lib/python3.10/site-packages/sklearn/ensemble/_weight_boosting.py:519: FutureWarning: The SAMME.R algorithm (the default) is deprecated and will be removed in 1.6. Use the SAMME algorithm to circumvent this warning.\n",
      "  warnings.warn(\n",
      "/Users/daniel/Workspace/SGX-Full-OrderBook-Tick-Data-Trading-Strategy/venv/lib/python3.10/site-packages/sklearn/ensemble/_weight_boosting.py:519: FutureWarning: The SAMME.R algorithm (the default) is deprecated and will be removed in 1.6. Use the SAMME algorithm to circumvent this warning.\n",
      "  warnings.warn(\n"
     ]
    },
    {
     "name": "stdout",
     "output_type": "stream",
     "text": [
      "{'learning_rate': 0.1, 'max_depth': 10, 'max_features': None, 'min_samples_leaf': 3, 'min_samples_split': 2, 'n_estimators': 10, 'subsample': 1.0}\n",
      "CV Best Score = 1.0\n",
      "Running GridSearchCV for SVC.\n",
      "{'C': 1, 'kernel': 'linear'}\n",
      "CV Best Score = 1.0\n",
      "Running training & testing for RandomForestClassifier.\n",
      "Accuracy = 1.0\n",
      "Running training & testing for ExtraTreesClassifier.\n",
      "Accuracy = 1.0\n",
      "Running training & testing for AdaBoostClassifier.\n",
      "Accuracy = 1.0\n",
      "Running training & testing for GradientBoostingClassifier.\n",
      "Accuracy = 1.0\n",
      "Running training & testing for SVC.\n"
     ]
    },
    {
     "name": "stderr",
     "output_type": "stream",
     "text": [
      "/Users/daniel/Workspace/SGX-Full-OrderBook-Tick-Data-Trading-Strategy/venv/lib/python3.10/site-packages/sklearn/ensemble/_weight_boosting.py:519: FutureWarning: The SAMME.R algorithm (the default) is deprecated and will be removed in 1.6. Use the SAMME algorithm to circumvent this warning.\n",
      "  warnings.warn(\n"
     ]
    },
    {
     "name": "stdout",
     "output_type": "stream",
     "text": [
      "Accuracy = 1.0\n",
      "--------------------Rolling Window Time = 43.0--------------------\n",
      "Running GridSearchCV for RandomForestClassifier.\n",
      "{'criterion': 'entropy', 'max_depth': 10, 'max_features': None, 'min_samples_leaf': 3, 'min_samples_split': 2, 'n_estimators': 10}\n",
      "CV Best Score = 1.0\n",
      "Running GridSearchCV for ExtraTreesClassifier.\n",
      "{'criterion': 'entropy', 'max_depth': 10, 'max_features': None, 'min_samples_leaf': 3, 'min_samples_split': 2, 'n_estimators': 10}\n",
      "CV Best Score = 1.0\n",
      "Running GridSearchCV for AdaBoostClassifier.\n",
      "{'estimator__criterion': 'entropy', 'estimator__max_depth': None, 'estimator__max_features': None, 'estimator__min_samples_leaf': 3, 'estimator__min_samples_split': 2}\n",
      "CV Best Score = 1.0\n",
      "Running GridSearchCV for GradientBoostingClassifier.\n"
     ]
    },
    {
     "name": "stderr",
     "output_type": "stream",
     "text": [
      "/Users/daniel/Workspace/SGX-Full-OrderBook-Tick-Data-Trading-Strategy/venv/lib/python3.10/site-packages/sklearn/ensemble/_weight_boosting.py:519: FutureWarning: The SAMME.R algorithm (the default) is deprecated and will be removed in 1.6. Use the SAMME algorithm to circumvent this warning.\n",
      "  warnings.warn(\n",
      "/Users/daniel/Workspace/SGX-Full-OrderBook-Tick-Data-Trading-Strategy/venv/lib/python3.10/site-packages/sklearn/ensemble/_weight_boosting.py:519: FutureWarning: The SAMME.R algorithm (the default) is deprecated and will be removed in 1.6. Use the SAMME algorithm to circumvent this warning.\n",
      "  warnings.warn(\n",
      "/Users/daniel/Workspace/SGX-Full-OrderBook-Tick-Data-Trading-Strategy/venv/lib/python3.10/site-packages/sklearn/ensemble/_weight_boosting.py:519: FutureWarning: The SAMME.R algorithm (the default) is deprecated and will be removed in 1.6. Use the SAMME algorithm to circumvent this warning.\n",
      "  warnings.warn(\n",
      "/Users/daniel/Workspace/SGX-Full-OrderBook-Tick-Data-Trading-Strategy/venv/lib/python3.10/site-packages/sklearn/ensemble/_weight_boosting.py:519: FutureWarning: The SAMME.R algorithm (the default) is deprecated and will be removed in 1.6. Use the SAMME algorithm to circumvent this warning.\n",
      "  warnings.warn(\n",
      "/Users/daniel/Workspace/SGX-Full-OrderBook-Tick-Data-Trading-Strategy/venv/lib/python3.10/site-packages/sklearn/ensemble/_weight_boosting.py:519: FutureWarning: The SAMME.R algorithm (the default) is deprecated and will be removed in 1.6. Use the SAMME algorithm to circumvent this warning.\n",
      "  warnings.warn(\n",
      "/Users/daniel/Workspace/SGX-Full-OrderBook-Tick-Data-Trading-Strategy/venv/lib/python3.10/site-packages/sklearn/ensemble/_weight_boosting.py:519: FutureWarning: The SAMME.R algorithm (the default) is deprecated and will be removed in 1.6. Use the SAMME algorithm to circumvent this warning.\n",
      "  warnings.warn(\n"
     ]
    },
    {
     "name": "stdout",
     "output_type": "stream",
     "text": [
      "{'learning_rate': 0.1, 'max_depth': 10, 'max_features': None, 'min_samples_leaf': 3, 'min_samples_split': 2, 'n_estimators': 10, 'subsample': 1.0}\n",
      "CV Best Score = 1.0\n",
      "Running GridSearchCV for SVC.\n",
      "{'C': 1, 'kernel': 'linear'}\n",
      "CV Best Score = 1.0\n",
      "Running training & testing for RandomForestClassifier.\n",
      "Accuracy = 1.0\n",
      "Running training & testing for ExtraTreesClassifier.\n",
      "Accuracy = 1.0\n",
      "Running training & testing for AdaBoostClassifier.\n",
      "Accuracy = 1.0\n",
      "Running training & testing for GradientBoostingClassifier.\n",
      "Accuracy = 1.0\n",
      "Running training & testing for SVC.\n"
     ]
    },
    {
     "name": "stderr",
     "output_type": "stream",
     "text": [
      "/Users/daniel/Workspace/SGX-Full-OrderBook-Tick-Data-Trading-Strategy/venv/lib/python3.10/site-packages/sklearn/ensemble/_weight_boosting.py:519: FutureWarning: The SAMME.R algorithm (the default) is deprecated and will be removed in 1.6. Use the SAMME algorithm to circumvent this warning.\n",
      "  warnings.warn(\n"
     ]
    },
    {
     "name": "stdout",
     "output_type": "stream",
     "text": [
      "Accuracy = 1.0\n",
      "--------------------Rolling Window Time = 44.0--------------------\n",
      "Running GridSearchCV for RandomForestClassifier.\n",
      "{'criterion': 'entropy', 'max_depth': 10, 'max_features': None, 'min_samples_leaf': 3, 'min_samples_split': 2, 'n_estimators': 10}\n",
      "CV Best Score = 1.0\n",
      "Running GridSearchCV for ExtraTreesClassifier.\n",
      "{'criterion': 'entropy', 'max_depth': 10, 'max_features': None, 'min_samples_leaf': 3, 'min_samples_split': 2, 'n_estimators': 10}\n",
      "CV Best Score = 1.0\n",
      "Running GridSearchCV for AdaBoostClassifier.\n",
      "{'estimator__criterion': 'entropy', 'estimator__max_depth': None, 'estimator__max_features': None, 'estimator__min_samples_leaf': 3, 'estimator__min_samples_split': 2}\n",
      "CV Best Score = 1.0\n",
      "Running GridSearchCV for GradientBoostingClassifier.\n"
     ]
    },
    {
     "name": "stderr",
     "output_type": "stream",
     "text": [
      "/Users/daniel/Workspace/SGX-Full-OrderBook-Tick-Data-Trading-Strategy/venv/lib/python3.10/site-packages/sklearn/ensemble/_weight_boosting.py:519: FutureWarning: The SAMME.R algorithm (the default) is deprecated and will be removed in 1.6. Use the SAMME algorithm to circumvent this warning.\n",
      "  warnings.warn(\n",
      "/Users/daniel/Workspace/SGX-Full-OrderBook-Tick-Data-Trading-Strategy/venv/lib/python3.10/site-packages/sklearn/ensemble/_weight_boosting.py:519: FutureWarning: The SAMME.R algorithm (the default) is deprecated and will be removed in 1.6. Use the SAMME algorithm to circumvent this warning.\n",
      "  warnings.warn(\n",
      "/Users/daniel/Workspace/SGX-Full-OrderBook-Tick-Data-Trading-Strategy/venv/lib/python3.10/site-packages/sklearn/ensemble/_weight_boosting.py:519: FutureWarning: The SAMME.R algorithm (the default) is deprecated and will be removed in 1.6. Use the SAMME algorithm to circumvent this warning.\n",
      "  warnings.warn(\n",
      "/Users/daniel/Workspace/SGX-Full-OrderBook-Tick-Data-Trading-Strategy/venv/lib/python3.10/site-packages/sklearn/ensemble/_weight_boosting.py:519: FutureWarning: The SAMME.R algorithm (the default) is deprecated and will be removed in 1.6. Use the SAMME algorithm to circumvent this warning.\n",
      "  warnings.warn(\n",
      "/Users/daniel/Workspace/SGX-Full-OrderBook-Tick-Data-Trading-Strategy/venv/lib/python3.10/site-packages/sklearn/ensemble/_weight_boosting.py:519: FutureWarning: The SAMME.R algorithm (the default) is deprecated and will be removed in 1.6. Use the SAMME algorithm to circumvent this warning.\n",
      "  warnings.warn(\n",
      "/Users/daniel/Workspace/SGX-Full-OrderBook-Tick-Data-Trading-Strategy/venv/lib/python3.10/site-packages/sklearn/ensemble/_weight_boosting.py:519: FutureWarning: The SAMME.R algorithm (the default) is deprecated and will be removed in 1.6. Use the SAMME algorithm to circumvent this warning.\n",
      "  warnings.warn(\n"
     ]
    },
    {
     "name": "stdout",
     "output_type": "stream",
     "text": [
      "{'learning_rate': 0.1, 'max_depth': 10, 'max_features': None, 'min_samples_leaf': 3, 'min_samples_split': 2, 'n_estimators': 10, 'subsample': 1.0}\n",
      "CV Best Score = 1.0\n",
      "Running GridSearchCV for SVC.\n",
      "{'C': 1, 'kernel': 'linear'}\n",
      "CV Best Score = 1.0\n",
      "Running training & testing for RandomForestClassifier.\n",
      "Accuracy = 1.0\n",
      "Running training & testing for ExtraTreesClassifier.\n",
      "Accuracy = 1.0\n",
      "Running training & testing for AdaBoostClassifier.\n",
      "Accuracy = 1.0\n",
      "Running training & testing for GradientBoostingClassifier.\n",
      "Accuracy = 1.0\n",
      "Running training & testing for SVC.\n"
     ]
    },
    {
     "name": "stderr",
     "output_type": "stream",
     "text": [
      "/Users/daniel/Workspace/SGX-Full-OrderBook-Tick-Data-Trading-Strategy/venv/lib/python3.10/site-packages/sklearn/ensemble/_weight_boosting.py:519: FutureWarning: The SAMME.R algorithm (the default) is deprecated and will be removed in 1.6. Use the SAMME algorithm to circumvent this warning.\n",
      "  warnings.warn(\n"
     ]
    },
    {
     "name": "stdout",
     "output_type": "stream",
     "text": [
      "Accuracy = 1.0\n",
      "--------------------Rolling Window Time = 45.0--------------------\n",
      "Running GridSearchCV for RandomForestClassifier.\n",
      "{'criterion': 'entropy', 'max_depth': 10, 'max_features': None, 'min_samples_leaf': 3, 'min_samples_split': 2, 'n_estimators': 10}\n",
      "CV Best Score = 1.0\n",
      "Running GridSearchCV for ExtraTreesClassifier.\n",
      "{'criterion': 'entropy', 'max_depth': 10, 'max_features': None, 'min_samples_leaf': 3, 'min_samples_split': 2, 'n_estimators': 10}\n",
      "CV Best Score = 1.0\n",
      "Running GridSearchCV for AdaBoostClassifier.\n",
      "{'estimator__criterion': 'entropy', 'estimator__max_depth': None, 'estimator__max_features': None, 'estimator__min_samples_leaf': 3, 'estimator__min_samples_split': 2}\n",
      "CV Best Score = 1.0\n",
      "Running GridSearchCV for GradientBoostingClassifier.\n"
     ]
    },
    {
     "name": "stderr",
     "output_type": "stream",
     "text": [
      "/Users/daniel/Workspace/SGX-Full-OrderBook-Tick-Data-Trading-Strategy/venv/lib/python3.10/site-packages/sklearn/ensemble/_weight_boosting.py:519: FutureWarning: The SAMME.R algorithm (the default) is deprecated and will be removed in 1.6. Use the SAMME algorithm to circumvent this warning.\n",
      "  warnings.warn(\n",
      "/Users/daniel/Workspace/SGX-Full-OrderBook-Tick-Data-Trading-Strategy/venv/lib/python3.10/site-packages/sklearn/ensemble/_weight_boosting.py:519: FutureWarning: The SAMME.R algorithm (the default) is deprecated and will be removed in 1.6. Use the SAMME algorithm to circumvent this warning.\n",
      "  warnings.warn(\n",
      "/Users/daniel/Workspace/SGX-Full-OrderBook-Tick-Data-Trading-Strategy/venv/lib/python3.10/site-packages/sklearn/ensemble/_weight_boosting.py:519: FutureWarning: The SAMME.R algorithm (the default) is deprecated and will be removed in 1.6. Use the SAMME algorithm to circumvent this warning.\n",
      "  warnings.warn(\n",
      "/Users/daniel/Workspace/SGX-Full-OrderBook-Tick-Data-Trading-Strategy/venv/lib/python3.10/site-packages/sklearn/ensemble/_weight_boosting.py:519: FutureWarning: The SAMME.R algorithm (the default) is deprecated and will be removed in 1.6. Use the SAMME algorithm to circumvent this warning.\n",
      "  warnings.warn(\n",
      "/Users/daniel/Workspace/SGX-Full-OrderBook-Tick-Data-Trading-Strategy/venv/lib/python3.10/site-packages/sklearn/ensemble/_weight_boosting.py:519: FutureWarning: The SAMME.R algorithm (the default) is deprecated and will be removed in 1.6. Use the SAMME algorithm to circumvent this warning.\n",
      "  warnings.warn(\n",
      "/Users/daniel/Workspace/SGX-Full-OrderBook-Tick-Data-Trading-Strategy/venv/lib/python3.10/site-packages/sklearn/ensemble/_weight_boosting.py:519: FutureWarning: The SAMME.R algorithm (the default) is deprecated and will be removed in 1.6. Use the SAMME algorithm to circumvent this warning.\n",
      "  warnings.warn(\n"
     ]
    },
    {
     "name": "stdout",
     "output_type": "stream",
     "text": [
      "{'learning_rate': 0.1, 'max_depth': 10, 'max_features': None, 'min_samples_leaf': 3, 'min_samples_split': 2, 'n_estimators': 10, 'subsample': 1.0}\n",
      "CV Best Score = 1.0\n",
      "Running GridSearchCV for SVC.\n",
      "{'C': 1, 'kernel': 'linear'}\n",
      "CV Best Score = 1.0\n",
      "Running training & testing for RandomForestClassifier.\n",
      "Accuracy = 1.0\n",
      "Running training & testing for ExtraTreesClassifier.\n",
      "Accuracy = 1.0\n",
      "Running training & testing for AdaBoostClassifier.\n",
      "Accuracy = 1.0\n",
      "Running training & testing for GradientBoostingClassifier.\n",
      "Accuracy = 1.0\n",
      "Running training & testing for SVC.\n"
     ]
    },
    {
     "name": "stderr",
     "output_type": "stream",
     "text": [
      "/Users/daniel/Workspace/SGX-Full-OrderBook-Tick-Data-Trading-Strategy/venv/lib/python3.10/site-packages/sklearn/ensemble/_weight_boosting.py:519: FutureWarning: The SAMME.R algorithm (the default) is deprecated and will be removed in 1.6. Use the SAMME algorithm to circumvent this warning.\n",
      "  warnings.warn(\n"
     ]
    },
    {
     "name": "stdout",
     "output_type": "stream",
     "text": [
      "Accuracy = 1.0\n",
      "--------------------Rolling Window Time = 46.0--------------------\n",
      "Running GridSearchCV for RandomForestClassifier.\n",
      "{'criterion': 'entropy', 'max_depth': 10, 'max_features': None, 'min_samples_leaf': 3, 'min_samples_split': 2, 'n_estimators': 10}\n",
      "CV Best Score = 1.0\n",
      "Running GridSearchCV for ExtraTreesClassifier.\n",
      "{'criterion': 'entropy', 'max_depth': 10, 'max_features': None, 'min_samples_leaf': 3, 'min_samples_split': 2, 'n_estimators': 10}\n",
      "CV Best Score = 1.0\n",
      "Running GridSearchCV for AdaBoostClassifier.\n",
      "{'estimator__criterion': 'entropy', 'estimator__max_depth': None, 'estimator__max_features': None, 'estimator__min_samples_leaf': 3, 'estimator__min_samples_split': 2}\n",
      "CV Best Score = 1.0\n",
      "Running GridSearchCV for GradientBoostingClassifier.\n"
     ]
    },
    {
     "name": "stderr",
     "output_type": "stream",
     "text": [
      "/Users/daniel/Workspace/SGX-Full-OrderBook-Tick-Data-Trading-Strategy/venv/lib/python3.10/site-packages/sklearn/ensemble/_weight_boosting.py:519: FutureWarning: The SAMME.R algorithm (the default) is deprecated and will be removed in 1.6. Use the SAMME algorithm to circumvent this warning.\n",
      "  warnings.warn(\n",
      "/Users/daniel/Workspace/SGX-Full-OrderBook-Tick-Data-Trading-Strategy/venv/lib/python3.10/site-packages/sklearn/ensemble/_weight_boosting.py:519: FutureWarning: The SAMME.R algorithm (the default) is deprecated and will be removed in 1.6. Use the SAMME algorithm to circumvent this warning.\n",
      "  warnings.warn(\n",
      "/Users/daniel/Workspace/SGX-Full-OrderBook-Tick-Data-Trading-Strategy/venv/lib/python3.10/site-packages/sklearn/ensemble/_weight_boosting.py:519: FutureWarning: The SAMME.R algorithm (the default) is deprecated and will be removed in 1.6. Use the SAMME algorithm to circumvent this warning.\n",
      "  warnings.warn(\n",
      "/Users/daniel/Workspace/SGX-Full-OrderBook-Tick-Data-Trading-Strategy/venv/lib/python3.10/site-packages/sklearn/ensemble/_weight_boosting.py:519: FutureWarning: The SAMME.R algorithm (the default) is deprecated and will be removed in 1.6. Use the SAMME algorithm to circumvent this warning.\n",
      "  warnings.warn(\n",
      "/Users/daniel/Workspace/SGX-Full-OrderBook-Tick-Data-Trading-Strategy/venv/lib/python3.10/site-packages/sklearn/ensemble/_weight_boosting.py:519: FutureWarning: The SAMME.R algorithm (the default) is deprecated and will be removed in 1.6. Use the SAMME algorithm to circumvent this warning.\n",
      "  warnings.warn(\n",
      "/Users/daniel/Workspace/SGX-Full-OrderBook-Tick-Data-Trading-Strategy/venv/lib/python3.10/site-packages/sklearn/ensemble/_weight_boosting.py:519: FutureWarning: The SAMME.R algorithm (the default) is deprecated and will be removed in 1.6. Use the SAMME algorithm to circumvent this warning.\n",
      "  warnings.warn(\n"
     ]
    },
    {
     "name": "stdout",
     "output_type": "stream",
     "text": [
      "{'learning_rate': 0.1, 'max_depth': 10, 'max_features': None, 'min_samples_leaf': 3, 'min_samples_split': 2, 'n_estimators': 10, 'subsample': 1.0}\n",
      "CV Best Score = 1.0\n",
      "Running GridSearchCV for SVC.\n",
      "{'C': 1, 'kernel': 'linear'}\n",
      "CV Best Score = 1.0\n",
      "Running training & testing for RandomForestClassifier.\n",
      "Accuracy = 1.0\n",
      "Running training & testing for ExtraTreesClassifier.\n",
      "Accuracy = 1.0\n",
      "Running training & testing for AdaBoostClassifier.\n",
      "Accuracy = 1.0\n",
      "Running training & testing for GradientBoostingClassifier.\n",
      "Accuracy = 1.0\n",
      "Running training & testing for SVC.\n"
     ]
    },
    {
     "name": "stderr",
     "output_type": "stream",
     "text": [
      "/Users/daniel/Workspace/SGX-Full-OrderBook-Tick-Data-Trading-Strategy/venv/lib/python3.10/site-packages/sklearn/metrics/_classification.py:1509: UndefinedMetricWarning: F-score is ill-defined and being set to 0.0 due to no true nor predicted samples. Use `zero_division` parameter to control this behavior.\n",
      "  _warn_prf(average, modifier, f\"{metric.capitalize()} is\", len(result))\n",
      "/Users/daniel/Workspace/SGX-Full-OrderBook-Tick-Data-Trading-Strategy/venv/lib/python3.10/site-packages/sklearn/metrics/_classification.py:1509: UndefinedMetricWarning: F-score is ill-defined and being set to 0.0 due to no true nor predicted samples. Use `zero_division` parameter to control this behavior.\n",
      "  _warn_prf(average, modifier, f\"{metric.capitalize()} is\", len(result))\n",
      "/Users/daniel/Workspace/SGX-Full-OrderBook-Tick-Data-Trading-Strategy/venv/lib/python3.10/site-packages/sklearn/ensemble/_weight_boosting.py:519: FutureWarning: The SAMME.R algorithm (the default) is deprecated and will be removed in 1.6. Use the SAMME algorithm to circumvent this warning.\n",
      "  warnings.warn(\n",
      "/Users/daniel/Workspace/SGX-Full-OrderBook-Tick-Data-Trading-Strategy/venv/lib/python3.10/site-packages/sklearn/metrics/_classification.py:1509: UndefinedMetricWarning: F-score is ill-defined and being set to 0.0 due to no true nor predicted samples. Use `zero_division` parameter to control this behavior.\n",
      "  _warn_prf(average, modifier, f\"{metric.capitalize()} is\", len(result))\n",
      "/Users/daniel/Workspace/SGX-Full-OrderBook-Tick-Data-Trading-Strategy/venv/lib/python3.10/site-packages/sklearn/metrics/_classification.py:1509: UndefinedMetricWarning: F-score is ill-defined and being set to 0.0 due to no true nor predicted samples. Use `zero_division` parameter to control this behavior.\n",
      "  _warn_prf(average, modifier, f\"{metric.capitalize()} is\", len(result))\n",
      "/Users/daniel/Workspace/SGX-Full-OrderBook-Tick-Data-Trading-Strategy/venv/lib/python3.10/site-packages/sklearn/metrics/_classification.py:1509: UndefinedMetricWarning: F-score is ill-defined and being set to 0.0 due to no true nor predicted samples. Use `zero_division` parameter to control this behavior.\n",
      "  _warn_prf(average, modifier, f\"{metric.capitalize()} is\", len(result))\n"
     ]
    },
    {
     "name": "stdout",
     "output_type": "stream",
     "text": [
      "Accuracy = 1.0\n",
      "--------------------Rolling Window Time = 47.0--------------------\n",
      "Running GridSearchCV for RandomForestClassifier.\n",
      "{'criterion': 'entropy', 'max_depth': 10, 'max_features': None, 'min_samples_leaf': 3, 'min_samples_split': 2, 'n_estimators': 10}\n",
      "CV Best Score = 1.0\n",
      "Running GridSearchCV for ExtraTreesClassifier.\n",
      "{'criterion': 'entropy', 'max_depth': 10, 'max_features': None, 'min_samples_leaf': 3, 'min_samples_split': 2, 'n_estimators': 10}\n",
      "CV Best Score = 1.0\n",
      "Running GridSearchCV for AdaBoostClassifier.\n",
      "{'estimator__criterion': 'entropy', 'estimator__max_depth': None, 'estimator__max_features': None, 'estimator__min_samples_leaf': 3, 'estimator__min_samples_split': 2}\n",
      "CV Best Score = 1.0\n",
      "Running GridSearchCV for GradientBoostingClassifier.\n"
     ]
    },
    {
     "name": "stderr",
     "output_type": "stream",
     "text": [
      "/Users/daniel/Workspace/SGX-Full-OrderBook-Tick-Data-Trading-Strategy/venv/lib/python3.10/site-packages/sklearn/ensemble/_weight_boosting.py:519: FutureWarning: The SAMME.R algorithm (the default) is deprecated and will be removed in 1.6. Use the SAMME algorithm to circumvent this warning.\n",
      "  warnings.warn(\n",
      "/Users/daniel/Workspace/SGX-Full-OrderBook-Tick-Data-Trading-Strategy/venv/lib/python3.10/site-packages/sklearn/ensemble/_weight_boosting.py:519: FutureWarning: The SAMME.R algorithm (the default) is deprecated and will be removed in 1.6. Use the SAMME algorithm to circumvent this warning.\n",
      "  warnings.warn(\n",
      "/Users/daniel/Workspace/SGX-Full-OrderBook-Tick-Data-Trading-Strategy/venv/lib/python3.10/site-packages/sklearn/ensemble/_weight_boosting.py:519: FutureWarning: The SAMME.R algorithm (the default) is deprecated and will be removed in 1.6. Use the SAMME algorithm to circumvent this warning.\n",
      "  warnings.warn(\n",
      "/Users/daniel/Workspace/SGX-Full-OrderBook-Tick-Data-Trading-Strategy/venv/lib/python3.10/site-packages/sklearn/ensemble/_weight_boosting.py:519: FutureWarning: The SAMME.R algorithm (the default) is deprecated and will be removed in 1.6. Use the SAMME algorithm to circumvent this warning.\n",
      "  warnings.warn(\n",
      "/Users/daniel/Workspace/SGX-Full-OrderBook-Tick-Data-Trading-Strategy/venv/lib/python3.10/site-packages/sklearn/ensemble/_weight_boosting.py:519: FutureWarning: The SAMME.R algorithm (the default) is deprecated and will be removed in 1.6. Use the SAMME algorithm to circumvent this warning.\n",
      "  warnings.warn(\n",
      "/Users/daniel/Workspace/SGX-Full-OrderBook-Tick-Data-Trading-Strategy/venv/lib/python3.10/site-packages/sklearn/ensemble/_weight_boosting.py:519: FutureWarning: The SAMME.R algorithm (the default) is deprecated and will be removed in 1.6. Use the SAMME algorithm to circumvent this warning.\n",
      "  warnings.warn(\n"
     ]
    },
    {
     "name": "stdout",
     "output_type": "stream",
     "text": [
      "{'learning_rate': 0.1, 'max_depth': 10, 'max_features': None, 'min_samples_leaf': 3, 'min_samples_split': 2, 'n_estimators': 10, 'subsample': 1.0}\n",
      "CV Best Score = 1.0\n",
      "Running GridSearchCV for SVC.\n",
      "{'C': 1, 'kernel': 'linear'}\n",
      "CV Best Score = 1.0\n",
      "Running training & testing for RandomForestClassifier.\n",
      "Accuracy = 1.0\n",
      "Running training & testing for ExtraTreesClassifier.\n",
      "Accuracy = 1.0\n",
      "Running training & testing for AdaBoostClassifier.\n",
      "Accuracy = 1.0\n",
      "Running training & testing for GradientBoostingClassifier.\n",
      "Accuracy = 1.0\n",
      "Running training & testing for SVC.\n"
     ]
    },
    {
     "name": "stderr",
     "output_type": "stream",
     "text": [
      "/Users/daniel/Workspace/SGX-Full-OrderBook-Tick-Data-Trading-Strategy/venv/lib/python3.10/site-packages/sklearn/metrics/_classification.py:1509: UndefinedMetricWarning: F-score is ill-defined and being set to 0.0 due to no true nor predicted samples. Use `zero_division` parameter to control this behavior.\n",
      "  _warn_prf(average, modifier, f\"{metric.capitalize()} is\", len(result))\n",
      "/Users/daniel/Workspace/SGX-Full-OrderBook-Tick-Data-Trading-Strategy/venv/lib/python3.10/site-packages/sklearn/metrics/_classification.py:1509: UndefinedMetricWarning: F-score is ill-defined and being set to 0.0 due to no true nor predicted samples. Use `zero_division` parameter to control this behavior.\n",
      "  _warn_prf(average, modifier, f\"{metric.capitalize()} is\", len(result))\n",
      "/Users/daniel/Workspace/SGX-Full-OrderBook-Tick-Data-Trading-Strategy/venv/lib/python3.10/site-packages/sklearn/ensemble/_weight_boosting.py:519: FutureWarning: The SAMME.R algorithm (the default) is deprecated and will be removed in 1.6. Use the SAMME algorithm to circumvent this warning.\n",
      "  warnings.warn(\n",
      "/Users/daniel/Workspace/SGX-Full-OrderBook-Tick-Data-Trading-Strategy/venv/lib/python3.10/site-packages/sklearn/metrics/_classification.py:1509: UndefinedMetricWarning: F-score is ill-defined and being set to 0.0 due to no true nor predicted samples. Use `zero_division` parameter to control this behavior.\n",
      "  _warn_prf(average, modifier, f\"{metric.capitalize()} is\", len(result))\n",
      "/Users/daniel/Workspace/SGX-Full-OrderBook-Tick-Data-Trading-Strategy/venv/lib/python3.10/site-packages/sklearn/metrics/_classification.py:1509: UndefinedMetricWarning: F-score is ill-defined and being set to 0.0 due to no true nor predicted samples. Use `zero_division` parameter to control this behavior.\n",
      "  _warn_prf(average, modifier, f\"{metric.capitalize()} is\", len(result))\n",
      "/Users/daniel/Workspace/SGX-Full-OrderBook-Tick-Data-Trading-Strategy/venv/lib/python3.10/site-packages/sklearn/metrics/_classification.py:1509: UndefinedMetricWarning: F-score is ill-defined and being set to 0.0 due to no true nor predicted samples. Use `zero_division` parameter to control this behavior.\n",
      "  _warn_prf(average, modifier, f\"{metric.capitalize()} is\", len(result))\n"
     ]
    },
    {
     "name": "stdout",
     "output_type": "stream",
     "text": [
      "Accuracy = 1.0\n",
      "--------------------Rolling Window Time = 48.0--------------------\n",
      "Running GridSearchCV for RandomForestClassifier.\n",
      "{'criterion': 'entropy', 'max_depth': 10, 'max_features': None, 'min_samples_leaf': 3, 'min_samples_split': 2, 'n_estimators': 10}\n",
      "CV Best Score = 1.0\n",
      "Running GridSearchCV for ExtraTreesClassifier.\n",
      "{'criterion': 'entropy', 'max_depth': 10, 'max_features': None, 'min_samples_leaf': 3, 'min_samples_split': 2, 'n_estimators': 10}\n",
      "CV Best Score = 1.0\n",
      "Running GridSearchCV for AdaBoostClassifier.\n",
      "{'estimator__criterion': 'entropy', 'estimator__max_depth': None, 'estimator__max_features': None, 'estimator__min_samples_leaf': 3, 'estimator__min_samples_split': 2}\n",
      "CV Best Score = 1.0\n",
      "Running GridSearchCV for GradientBoostingClassifier.\n"
     ]
    },
    {
     "name": "stderr",
     "output_type": "stream",
     "text": [
      "/Users/daniel/Workspace/SGX-Full-OrderBook-Tick-Data-Trading-Strategy/venv/lib/python3.10/site-packages/sklearn/ensemble/_weight_boosting.py:519: FutureWarning: The SAMME.R algorithm (the default) is deprecated and will be removed in 1.6. Use the SAMME algorithm to circumvent this warning.\n",
      "  warnings.warn(\n",
      "/Users/daniel/Workspace/SGX-Full-OrderBook-Tick-Data-Trading-Strategy/venv/lib/python3.10/site-packages/sklearn/ensemble/_weight_boosting.py:519: FutureWarning: The SAMME.R algorithm (the default) is deprecated and will be removed in 1.6. Use the SAMME algorithm to circumvent this warning.\n",
      "  warnings.warn(\n",
      "/Users/daniel/Workspace/SGX-Full-OrderBook-Tick-Data-Trading-Strategy/venv/lib/python3.10/site-packages/sklearn/ensemble/_weight_boosting.py:519: FutureWarning: The SAMME.R algorithm (the default) is deprecated and will be removed in 1.6. Use the SAMME algorithm to circumvent this warning.\n",
      "  warnings.warn(\n",
      "/Users/daniel/Workspace/SGX-Full-OrderBook-Tick-Data-Trading-Strategy/venv/lib/python3.10/site-packages/sklearn/ensemble/_weight_boosting.py:519: FutureWarning: The SAMME.R algorithm (the default) is deprecated and will be removed in 1.6. Use the SAMME algorithm to circumvent this warning.\n",
      "  warnings.warn(\n",
      "/Users/daniel/Workspace/SGX-Full-OrderBook-Tick-Data-Trading-Strategy/venv/lib/python3.10/site-packages/sklearn/ensemble/_weight_boosting.py:519: FutureWarning: The SAMME.R algorithm (the default) is deprecated and will be removed in 1.6. Use the SAMME algorithm to circumvent this warning.\n",
      "  warnings.warn(\n",
      "/Users/daniel/Workspace/SGX-Full-OrderBook-Tick-Data-Trading-Strategy/venv/lib/python3.10/site-packages/sklearn/ensemble/_weight_boosting.py:519: FutureWarning: The SAMME.R algorithm (the default) is deprecated and will be removed in 1.6. Use the SAMME algorithm to circumvent this warning.\n",
      "  warnings.warn(\n"
     ]
    },
    {
     "name": "stdout",
     "output_type": "stream",
     "text": [
      "{'learning_rate': 0.1, 'max_depth': 10, 'max_features': None, 'min_samples_leaf': 3, 'min_samples_split': 2, 'n_estimators': 10, 'subsample': 1.0}\n",
      "CV Best Score = 1.0\n",
      "Running GridSearchCV for SVC.\n",
      "{'C': 1, 'kernel': 'linear'}\n",
      "CV Best Score = 1.0\n",
      "Running training & testing for RandomForestClassifier.\n",
      "Accuracy = 1.0\n",
      "Running training & testing for ExtraTreesClassifier.\n",
      "Accuracy = 1.0\n",
      "Running training & testing for AdaBoostClassifier.\n",
      "Accuracy = 1.0\n",
      "Running training & testing for GradientBoostingClassifier.\n",
      "Accuracy = 1.0\n",
      "Running training & testing for SVC.\n"
     ]
    },
    {
     "name": "stderr",
     "output_type": "stream",
     "text": [
      "/Users/daniel/Workspace/SGX-Full-OrderBook-Tick-Data-Trading-Strategy/venv/lib/python3.10/site-packages/sklearn/metrics/_classification.py:1509: UndefinedMetricWarning: F-score is ill-defined and being set to 0.0 due to no true nor predicted samples. Use `zero_division` parameter to control this behavior.\n",
      "  _warn_prf(average, modifier, f\"{metric.capitalize()} is\", len(result))\n",
      "/Users/daniel/Workspace/SGX-Full-OrderBook-Tick-Data-Trading-Strategy/venv/lib/python3.10/site-packages/sklearn/metrics/_classification.py:1509: UndefinedMetricWarning: F-score is ill-defined and being set to 0.0 due to no true nor predicted samples. Use `zero_division` parameter to control this behavior.\n",
      "  _warn_prf(average, modifier, f\"{metric.capitalize()} is\", len(result))\n",
      "/Users/daniel/Workspace/SGX-Full-OrderBook-Tick-Data-Trading-Strategy/venv/lib/python3.10/site-packages/sklearn/ensemble/_weight_boosting.py:519: FutureWarning: The SAMME.R algorithm (the default) is deprecated and will be removed in 1.6. Use the SAMME algorithm to circumvent this warning.\n",
      "  warnings.warn(\n",
      "/Users/daniel/Workspace/SGX-Full-OrderBook-Tick-Data-Trading-Strategy/venv/lib/python3.10/site-packages/sklearn/metrics/_classification.py:1509: UndefinedMetricWarning: F-score is ill-defined and being set to 0.0 due to no true nor predicted samples. Use `zero_division` parameter to control this behavior.\n",
      "  _warn_prf(average, modifier, f\"{metric.capitalize()} is\", len(result))\n",
      "/Users/daniel/Workspace/SGX-Full-OrderBook-Tick-Data-Trading-Strategy/venv/lib/python3.10/site-packages/sklearn/metrics/_classification.py:1509: UndefinedMetricWarning: F-score is ill-defined and being set to 0.0 due to no true nor predicted samples. Use `zero_division` parameter to control this behavior.\n",
      "  _warn_prf(average, modifier, f\"{metric.capitalize()} is\", len(result))\n",
      "/Users/daniel/Workspace/SGX-Full-OrderBook-Tick-Data-Trading-Strategy/venv/lib/python3.10/site-packages/sklearn/metrics/_classification.py:1509: UndefinedMetricWarning: F-score is ill-defined and being set to 0.0 due to no true nor predicted samples. Use `zero_division` parameter to control this behavior.\n",
      "  _warn_prf(average, modifier, f\"{metric.capitalize()} is\", len(result))\n"
     ]
    },
    {
     "name": "stdout",
     "output_type": "stream",
     "text": [
      "Accuracy = 1.0\n",
      "--------------------Rolling Window Time = 49.0--------------------\n",
      "Running GridSearchCV for RandomForestClassifier.\n",
      "{'criterion': 'entropy', 'max_depth': 10, 'max_features': None, 'min_samples_leaf': 3, 'min_samples_split': 2, 'n_estimators': 10}\n",
      "CV Best Score = 1.0\n",
      "Running GridSearchCV for ExtraTreesClassifier.\n",
      "{'criterion': 'entropy', 'max_depth': 10, 'max_features': None, 'min_samples_leaf': 3, 'min_samples_split': 2, 'n_estimators': 10}\n",
      "CV Best Score = 1.0\n",
      "Running GridSearchCV for AdaBoostClassifier.\n",
      "{'estimator__criterion': 'entropy', 'estimator__max_depth': None, 'estimator__max_features': None, 'estimator__min_samples_leaf': 3, 'estimator__min_samples_split': 2}\n",
      "CV Best Score = 1.0\n",
      "Running GridSearchCV for GradientBoostingClassifier.\n"
     ]
    },
    {
     "name": "stderr",
     "output_type": "stream",
     "text": [
      "/Users/daniel/Workspace/SGX-Full-OrderBook-Tick-Data-Trading-Strategy/venv/lib/python3.10/site-packages/sklearn/ensemble/_weight_boosting.py:519: FutureWarning: The SAMME.R algorithm (the default) is deprecated and will be removed in 1.6. Use the SAMME algorithm to circumvent this warning.\n",
      "  warnings.warn(\n",
      "/Users/daniel/Workspace/SGX-Full-OrderBook-Tick-Data-Trading-Strategy/venv/lib/python3.10/site-packages/sklearn/ensemble/_weight_boosting.py:519: FutureWarning: The SAMME.R algorithm (the default) is deprecated and will be removed in 1.6. Use the SAMME algorithm to circumvent this warning.\n",
      "  warnings.warn(\n",
      "/Users/daniel/Workspace/SGX-Full-OrderBook-Tick-Data-Trading-Strategy/venv/lib/python3.10/site-packages/sklearn/ensemble/_weight_boosting.py:519: FutureWarning: The SAMME.R algorithm (the default) is deprecated and will be removed in 1.6. Use the SAMME algorithm to circumvent this warning.\n",
      "  warnings.warn(\n",
      "/Users/daniel/Workspace/SGX-Full-OrderBook-Tick-Data-Trading-Strategy/venv/lib/python3.10/site-packages/sklearn/ensemble/_weight_boosting.py:519: FutureWarning: The SAMME.R algorithm (the default) is deprecated and will be removed in 1.6. Use the SAMME algorithm to circumvent this warning.\n",
      "  warnings.warn(\n",
      "/Users/daniel/Workspace/SGX-Full-OrderBook-Tick-Data-Trading-Strategy/venv/lib/python3.10/site-packages/sklearn/ensemble/_weight_boosting.py:519: FutureWarning: The SAMME.R algorithm (the default) is deprecated and will be removed in 1.6. Use the SAMME algorithm to circumvent this warning.\n",
      "  warnings.warn(\n",
      "/Users/daniel/Workspace/SGX-Full-OrderBook-Tick-Data-Trading-Strategy/venv/lib/python3.10/site-packages/sklearn/ensemble/_weight_boosting.py:519: FutureWarning: The SAMME.R algorithm (the default) is deprecated and will be removed in 1.6. Use the SAMME algorithm to circumvent this warning.\n",
      "  warnings.warn(\n"
     ]
    },
    {
     "name": "stdout",
     "output_type": "stream",
     "text": [
      "{'learning_rate': 0.1, 'max_depth': 10, 'max_features': None, 'min_samples_leaf': 3, 'min_samples_split': 2, 'n_estimators': 10, 'subsample': 1.0}\n",
      "CV Best Score = 1.0\n",
      "Running GridSearchCV for SVC.\n",
      "{'C': 1, 'kernel': 'linear'}\n",
      "CV Best Score = 1.0\n",
      "Running training & testing for RandomForestClassifier.\n",
      "Accuracy = 1.0\n",
      "Running training & testing for ExtraTreesClassifier.\n",
      "Accuracy = 1.0\n",
      "Running training & testing for AdaBoostClassifier.\n",
      "Accuracy = 1.0\n",
      "Running training & testing for GradientBoostingClassifier.\n",
      "Accuracy = 1.0\n",
      "Running training & testing for SVC.\n"
     ]
    },
    {
     "name": "stderr",
     "output_type": "stream",
     "text": [
      "/Users/daniel/Workspace/SGX-Full-OrderBook-Tick-Data-Trading-Strategy/venv/lib/python3.10/site-packages/sklearn/metrics/_classification.py:1509: UndefinedMetricWarning: F-score is ill-defined and being set to 0.0 due to no true nor predicted samples. Use `zero_division` parameter to control this behavior.\n",
      "  _warn_prf(average, modifier, f\"{metric.capitalize()} is\", len(result))\n",
      "/Users/daniel/Workspace/SGX-Full-OrderBook-Tick-Data-Trading-Strategy/venv/lib/python3.10/site-packages/sklearn/metrics/_classification.py:1509: UndefinedMetricWarning: F-score is ill-defined and being set to 0.0 due to no true nor predicted samples. Use `zero_division` parameter to control this behavior.\n",
      "  _warn_prf(average, modifier, f\"{metric.capitalize()} is\", len(result))\n",
      "/Users/daniel/Workspace/SGX-Full-OrderBook-Tick-Data-Trading-Strategy/venv/lib/python3.10/site-packages/sklearn/ensemble/_weight_boosting.py:519: FutureWarning: The SAMME.R algorithm (the default) is deprecated and will be removed in 1.6. Use the SAMME algorithm to circumvent this warning.\n",
      "  warnings.warn(\n",
      "/Users/daniel/Workspace/SGX-Full-OrderBook-Tick-Data-Trading-Strategy/venv/lib/python3.10/site-packages/sklearn/metrics/_classification.py:1509: UndefinedMetricWarning: F-score is ill-defined and being set to 0.0 due to no true nor predicted samples. Use `zero_division` parameter to control this behavior.\n",
      "  _warn_prf(average, modifier, f\"{metric.capitalize()} is\", len(result))\n",
      "/Users/daniel/Workspace/SGX-Full-OrderBook-Tick-Data-Trading-Strategy/venv/lib/python3.10/site-packages/sklearn/metrics/_classification.py:1509: UndefinedMetricWarning: F-score is ill-defined and being set to 0.0 due to no true nor predicted samples. Use `zero_division` parameter to control this behavior.\n",
      "  _warn_prf(average, modifier, f\"{metric.capitalize()} is\", len(result))\n"
     ]
    },
    {
     "name": "stdout",
     "output_type": "stream",
     "text": [
      "Accuracy = 1.0\n",
      "Total Time = 159.16630911827087\n"
     ]
    },
    {
     "name": "stderr",
     "output_type": "stream",
     "text": [
      "/Users/daniel/Workspace/SGX-Full-OrderBook-Tick-Data-Trading-Strategy/venv/lib/python3.10/site-packages/sklearn/metrics/_classification.py:1509: UndefinedMetricWarning: F-score is ill-defined and being set to 0.0 due to no true nor predicted samples. Use `zero_division` parameter to control this behavior.\n",
      "  _warn_prf(average, modifier, f\"{metric.capitalize()} is\", len(result))\n"
     ]
    }
   ],
   "source": [
    "start = time.time()\n",
    "pip.pipline()\n",
    "end = time.time()\n",
    "print('Total Time = %s'%(end-start))"
   ]
  },
  {
   "cell_type": "markdown",
   "metadata": {},
   "source": [
    "### Metrics "
   ]
  },
  {
   "cell_type": "code",
   "execution_count": 48,
   "metadata": {
    "collapsed": false
   },
   "outputs": [
    {
     "name": "stdout",
     "output_type": "stream",
     "text": [
      "1\n",
      "0\n",
      "                          Estimator  Accuracy_mean  Accuracy_std  \\\n",
      "Ranking                                                            \n",
      "0            RandomForestClassifier            1.0           0.0   \n",
      "1              ExtraTreesClassifier            1.0           0.0   \n",
      "2                AdaBoostClassifier            1.0           0.0   \n",
      "3        GradientBoostingClassifier            1.0           0.0   \n",
      "4                               SVC            1.0           0.0   \n",
      "\n",
      "         Accuracy_max  Accuracy_min  F_score  \n",
      "Ranking                                       \n",
      "0                 1.0           1.0     0.92  \n",
      "1                 1.0           1.0     0.92  \n",
      "2                 1.0           1.0     0.92  \n",
      "3                 1.0           1.0     0.92  \n",
      "4                 1.0           1.0     0.92  \n"
     ]
    }
   ],
   "source": [
    "\n",
    "print(len(pip.summary_day))\n",
    "for day in range(0, len(pip.summary_day)):\n",
    "    print(day)\n",
    "    print(pip.summary_day[day])#.reset_index(drop = True)"
   ]
  },
  {
   "cell_type": "code",
   "execution_count": 49,
   "metadata": {
    "collapsed": false,
    "scrolled": true
   },
   "outputs": [
    {
     "data": {
      "text/plain": "Text(0, 0.5, 'Price')"
     },
     "execution_count": 49,
     "metadata": {},
     "output_type": "execute_result"
    },
    {
     "data": {
      "text/plain": "<Figure size 1800x600 with 1 Axes>",
      "image/png": "[encoded data removed]"
     },
     "metadata": {},
     "output_type": "display_data"
    }
   ],
   "source": [
    "sns.set_style(\"whitegrid\")\n",
    "plt.figure(figsize = (18,6))\n",
    "color_ = ['r','b']\n",
    "plot(data_2014[0]['66'],label = 'Best Ask',color = color_[1])\n",
    "plot(data_2014[0]['67'],label = 'Best Bid',color = color_[0])\n",
    "plt.legend(loc=0)\n",
    "plt.xlabel('Time(s)',size = 15)\n",
    "plt.ylabel('Price',size = 15)"
   ]
  },
  {
   "cell_type": "markdown",
   "metadata": {},
   "source": [
    "### Accuracy in one day"
   ]
  },
  {
   "cell_type": "code",
   "execution_count": 50,
   "metadata": {
    "collapsed": false
   },
   "outputs": [
    {
     "data": {
      "text/plain": "Text(0, 0.5, 'Accuracy')"
     },
     "execution_count": 50,
     "metadata": {},
     "output_type": "execute_result"
    },
    {
     "data": {
      "text/plain": "<Figure size 1800x600 with 1 Axes>",
      "image/png": "[encoded data removed]"
     },
     "metadata": {},
     "output_type": "display_data"
    }
   ],
   "source": [
    "sns.set_style(\"whitegrid\")\n",
    "plt.figure(figsize = (18,6))\n",
    "color = []\n",
    "for key in pip.keys:\n",
    "    plot(np.array(pip.acc_day[key])[0],'-o',label = key,lw = 1,markersize = 3)\n",
    "    plt.legend(loc=0)\n",
    "plt.ylim(-0.5,1.5)\n",
    "plt.legend(loc=0)\n",
    "plt.xlabel('Rolling Window Numbers',size = 15)\n",
    "plt.ylabel('Accuracy',size = 15)"
   ]
  },
  {
   "cell_type": "markdown",
   "metadata": {},
   "source": [
    "### Cross Validation "
   ]
  },
  {
   "cell_type": "code",
   "execution_count": 51,
   "metadata": {
    "collapsed": false
   },
   "outputs": [
    {
     "data": {
      "text/plain": "Text(0, 0.5, 'CV Mean Accuracy')"
     },
     "execution_count": 51,
     "metadata": {},
     "output_type": "execute_result"
    },
    {
     "data": {
      "text/plain": "<Figure size 1800x600 with 1 Axes>",
      "image/png": "[encoded data removed]"
     },
     "metadata": {},
     "output_type": "display_data"
    }
   ],
   "source": [
    "sns.set_style(\"whitegrid\")\n",
    "plt.figure(figsize = (18,6))\n",
    "color_ = ['r','orange','y','g','b']\n",
    "for index,key in enumerate(pip.keys):\n",
    "    plot(np.array(pip.cv_acc_day[key])[0],'-o',label = key,color = color_[index],lw = 1,markersize = 3)\n",
    "#plot(best_cv_score,'-v',label = 'Best cv 5 folds score',color = 'violet',lw = 1,markersize = 6)\n",
    "plt.legend(loc=0)\n",
    "plt.xlabel('Rolling Window Numbers',size = 15)\n",
    "plt.ylabel('CV Mean Accuracy',size = 15)"
   ]
  },
  {
   "cell_type": "markdown",
   "metadata": {},
   "source": [
    "### Best Model"
   ]
  },
  {
   "cell_type": "code",
   "execution_count": 52,
   "metadata": {
    "collapsed": false
   },
   "outputs": [
    {
     "name": "stderr",
     "output_type": "stream",
     "text": [
      "No artists with labels found to put in legend.  Note that artists whose label start with an underscore are ignored when legend() is called with no argument.\n"
     ]
    },
    {
     "data": {
      "text/plain": "Text(0, 0.5, 'CV Mean Accuracy')"
     },
     "execution_count": 52,
     "metadata": {},
     "output_type": "execute_result"
    },
    {
     "data": {
      "text/plain": "<Figure size 1800x600 with 1 Axes>",
      "image/png": "[encoded data removed]"
     },
     "metadata": {},
     "output_type": "display_data"
    }
   ],
   "source": [
    "sns.set_style(\"whitegrid\")\n",
    "plt.figure(figsize = (18,6))\n",
    "# plot(best_cv_score,'-o',label = 'Best cv 5 folds score',color = 'violet',lw = 1,markersize = 5)\n",
    "plt.legend(loc=0)\n",
    "plt.xlabel('Rolling Window Numbers',size = 15)\n",
    "plt.ylabel('CV Mean Accuracy',size = 15)"
   ]
  },
  {
   "cell_type": "code",
   "execution_count": 53,
   "metadata": {
    "collapsed": false
   },
   "outputs": [
    {
     "data": {
      "text/plain": "(0.55, 1.0)"
     },
     "execution_count": 53,
     "metadata": {},
     "output_type": "execute_result"
    },
    {
     "data": {
      "text/plain": "<Figure size 1800x600 with 1 Axes>",
      "image/png": "[encoded data removed]"
     },
     "metadata": {},
     "output_type": "display_data"
    }
   ],
   "source": [
    "sns.set_style(\"whitegrid\")\n",
    "plt.figure(figsize = (18,6))\n",
    "color_ = ['r','orange','y','g','b']\n",
    "for index,key in enumerate(pip.keys):\n",
    "    plot(np.array(pip.cv_acc_day[key])[0][0:250],'-o',label = key,color = color_[index],lw = 1,markersize = 5)\n",
    "#plot(best_cv_score,'-v',label = 'Best cv 5 folds score',color = 'violet',lw = 1,markersize = 6)\n",
    "plt.legend(loc=0)\n",
    "plt.xlabel('Rolling Window Numbers',size = 15)\n",
    "plt.ylabel('CV Mean Accuracy',size = 15)\n",
    "plt.ylim(0.55,1)"
   ]
  },
  {
   "cell_type": "code",
   "execution_count": 54,
   "metadata": {
    "collapsed": false,
    "scrolled": true
   },
   "outputs": [
    {
     "name": "stderr",
     "output_type": "stream",
     "text": [
      "No artists with labels found to put in legend.  Note that artists whose label start with an underscore are ignored when legend() is called with no argument.\n"
     ]
    },
    {
     "data": {
      "text/plain": "(0.55, 1.0)"
     },
     "execution_count": 54,
     "metadata": {},
     "output_type": "execute_result"
    },
    {
     "data": {
      "text/plain": "<Figure size 1800x600 with 1 Axes>",
      "image/png": "[encoded data removed]"
     },
     "metadata": {},
     "output_type": "display_data"
    }
   ],
   "source": [
    "sns.set_style(\"whitegrid\")\n",
    "plt.figure(figsize = (18,6))\n",
    "# plot(best_cv_score[0:250],'-o',label = 'Best cv 5 folds score',color = 'violet',lw = 1,markersize = 5)\n",
    "plt.legend(loc=0)\n",
    "plt.xlabel('Rolling Window Numbers',size = 15)\n",
    "plt.ylabel('CV Mean Accuracy',size = 15)\n",
    "plt.ylim(0.55,1)"
   ]
  },
  {
   "cell_type": "markdown",
   "metadata": {
    "collapsed": false,
    "scrolled": true
   },
   "source": [
    "### Profit & Loss"
   ]
  },
  {
   "cell_type": "code",
   "execution_count": 55,
   "metadata": {
    "collapsed": false,
    "scrolled": true
   },
   "outputs": [],
   "source": [
    "# compute cum_profit and Best_cv_score\n",
    "dict_ = {}\n",
    "dict_['cum_profit'] = []\n",
    "dict_['Best_cv_score'] = []\n",
    "\n",
    "\n",
    "for day in range(0,1,1):\n",
    "    cum_profit_label = []\n",
    "    cum_profit = []\n",
    "    best_cv_score = []\n",
    "    spread = 0.2 * data_2014[day]['65'][1800:][9::10].values\n",
    "    loss = 0.2*(data_2014[0]['67'][1800:9000-600][9::10].values - data_2014[day]['67'][1800+600:9000][9::10].values)\n",
    "    for j in range(0,len(list(pip.cv_acc_day.values())[0][day]),1):\n",
    "        max_al = {}\n",
    "        keys = list(pip.keys)\n",
    "        for i in range(0,len(keys),1):\n",
    "            key = keys[i]\n",
    "            max_al[key] = np.array(pip.cv_acc_day[key])[day][j]\n",
    "        # select best algorithm in cv = 5    \n",
    "        top_cv_acc = sorted(max_al.items(),key = lambda x : x[1], reverse = True)[0:1][0]\n",
    "        best_cv_score.append(top_cv_acc[1])\n",
    "        submission = pip.predict_values_day[top_cv_acc[0]][day][j][-1]\n",
    "        true_value = pip.true_values_day[top_cv_acc[0]][day][j][-1]\n",
    "\n",
    "        if submission == true_value:\n",
    "            if submission == 1:\n",
    "                cum_profit_label.append(1)\n",
    "                cum_profit.append(spread[j])\n",
    "            elif submission == 0:\n",
    "                cum_profit_label.append(0)\n",
    "                cum_profit.append(0)\n",
    "        elif submission != true_value:\n",
    "            if submission == 1:\n",
    "                cum_profit_label.append(-1)\n",
    "                cum_profit.append(loss[j])\n",
    "            elif submission == 0:\n",
    "                cum_profit_label.append(0)\n",
    "                cum_profit.append(0)\n",
    "                \n",
    "    dict_['cum_profit'].append(cum_profit)\n",
    "    dict_['Best_cv_score'].append(best_cv_score)"
   ]
  },
  {
   "cell_type": "code",
   "execution_count": 56,
   "metadata": {
    "collapsed": false,
    "scrolled": true
   },
   "outputs": [
    {
     "data": {
      "text/plain": "Text(0, 0.5, 'Profit')"
     },
     "execution_count": 56,
     "metadata": {},
     "output_type": "execute_result"
    },
    {
     "data": {
      "text/plain": "<Figure size 2000x800 with 2 Axes>",
      "image/png": "[encoded data removed]"
     },
     "metadata": {},
     "output_type": "display_data"
    }
   ],
   "source": [
    "sns.set_style(\"whitegrid\")\n",
    "plt.figure(figsize = (20,8))\n",
    "plt.subplot(211)\n",
    "plot(cum_profit,'-o',label = 'Profit & Loss',lw = 1,markersize = 3)\n",
    "plt.ylabel('Tick',size = 15)\n",
    "plt.legend(loc=0)\n",
    "plt.ylim(-7.5,2.5)\n",
    "plt.subplot(212)\n",
    "plot(np.cumsum(cum_profit),'-o',label = 'Cum Profit',lw = 1,markersize = 2)\n",
    "plt.legend(loc=0)\n",
    "plt.xlabel('Rolling Window Numbers',size = 15)\n",
    "plt.ylabel('Profit',size = 15)"
   ]
  },
  {
   "cell_type": "code",
   "execution_count": 56,
   "outputs": [],
   "source": [],
   "metadata": {
    "collapsed": false
   }
  }
 ],
 "metadata": {
  "kernelspec": {
   "name": "python3",
   "language": "python",
   "display_name": "Python 3 (ipykernel)"
  },
  "language_info": {
   "codemirror_mode": {
    "name": "ipython",
    "version": 2
   },
   "file_extension": ".py",
   "mimetype": "text/x-python",
   "name": "python",
   "nbconvert_exporter": "python",
   "pygments_lexer": "ipython2",
   "version": "2.7.13"
  }
 },
 "nbformat": 4,
 "nbformat_minor": 0
}
